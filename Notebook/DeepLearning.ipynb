{
 "cells": [
  {
   "cell_type": "markdown",
   "metadata": {
    "id": "CQJxsExe6GQv"
   },
   "source": [
    "#4. Deep learning "
   ]
  },
  {
   "cell_type": "markdown",
   "metadata": {
    "id": "jIvLs1Kz3Vai"
   },
   "source": [
    "## 4.2 Création d'un réseau de neurones avec Keras"
   ]
  },
  {
   "cell_type": "markdown",
   "metadata": {
    "id": "v4BXVhHNR2he"
   },
   "source": [
    "### Import librairies "
   ]
  },
  {
   "cell_type": "code",
   "execution_count": 2,
   "metadata": {
    "executionInfo": {
     "elapsed": 3211,
     "status": "ok",
     "timestamp": 1620242069716,
     "user": {
      "displayName": "Astrid bn",
      "photoUrl": "",
      "userId": "03102256477269013281"
     },
     "user_tz": -120
    },
    "id": "EYpcXjFG3Kxt"
   },
   "outputs": [
    {
     "ename": "ImportError",
     "evalue": "Keras requires TensorFlow 2.2 or higher. Install TensorFlow via `pip install tensorflow`",
     "output_type": "error",
     "traceback": [
      "\u001b[0;31m---------------------------------------------------------------------------\u001b[0m",
      "\u001b[0;31mModuleNotFoundError\u001b[0m                       Traceback (most recent call last)",
      "\u001b[0;32m/Library/Frameworks/Python.framework/Versions/3.9/lib/python3.9/site-packages/keras/__init__.py\u001b[0m in \u001b[0;36m<module>\u001b[0;34m\u001b[0m\n\u001b[1;32m      2\u001b[0m \u001b[0;32mtry\u001b[0m\u001b[0;34m:\u001b[0m\u001b[0;34m\u001b[0m\u001b[0;34m\u001b[0m\u001b[0m\n\u001b[0;32m----> 3\u001b[0;31m     \u001b[0;32mfrom\u001b[0m \u001b[0mtensorflow\u001b[0m\u001b[0;34m.\u001b[0m\u001b[0mkeras\u001b[0m\u001b[0;34m.\u001b[0m\u001b[0mlayers\u001b[0m\u001b[0;34m.\u001b[0m\u001b[0mexperimental\u001b[0m\u001b[0;34m.\u001b[0m\u001b[0mpreprocessing\u001b[0m \u001b[0;32mimport\u001b[0m \u001b[0mRandomRotation\u001b[0m\u001b[0;34m\u001b[0m\u001b[0;34m\u001b[0m\u001b[0m\n\u001b[0m\u001b[1;32m      4\u001b[0m \u001b[0;32mexcept\u001b[0m \u001b[0mImportError\u001b[0m\u001b[0;34m:\u001b[0m\u001b[0;34m\u001b[0m\u001b[0;34m\u001b[0m\u001b[0m\n",
      "\u001b[0;31mModuleNotFoundError\u001b[0m: No module named 'tensorflow'",
      "\nDuring handling of the above exception, another exception occurred:\n",
      "\u001b[0;31mImportError\u001b[0m                               Traceback (most recent call last)",
      "\u001b[0;32m<ipython-input-2-e00065b7f950>\u001b[0m in \u001b[0;36m<module>\u001b[0;34m\u001b[0m\n\u001b[1;32m      1\u001b[0m \u001b[0;32mimport\u001b[0m \u001b[0mpandas\u001b[0m \u001b[0;32mas\u001b[0m \u001b[0mpd\u001b[0m\u001b[0;34m\u001b[0m\u001b[0;34m\u001b[0m\u001b[0m\n\u001b[1;32m      2\u001b[0m \u001b[0;32mfrom\u001b[0m \u001b[0mnumpy\u001b[0m \u001b[0;32mimport\u001b[0m \u001b[0mloadtxt\u001b[0m\u001b[0;34m\u001b[0m\u001b[0;34m\u001b[0m\u001b[0m\n\u001b[0;32m----> 3\u001b[0;31m \u001b[0;32mfrom\u001b[0m \u001b[0mkeras\u001b[0m\u001b[0;34m.\u001b[0m\u001b[0mmodels\u001b[0m \u001b[0;32mimport\u001b[0m \u001b[0mSequential\u001b[0m\u001b[0;34m\u001b[0m\u001b[0;34m\u001b[0m\u001b[0m\n\u001b[0m\u001b[1;32m      4\u001b[0m \u001b[0;32mfrom\u001b[0m \u001b[0mkeras\u001b[0m\u001b[0;34m.\u001b[0m\u001b[0mlayers\u001b[0m \u001b[0;32mimport\u001b[0m \u001b[0mDense\u001b[0m\u001b[0;34m\u001b[0m\u001b[0;34m\u001b[0m\u001b[0m\n\u001b[1;32m      5\u001b[0m \u001b[0;32mfrom\u001b[0m \u001b[0msklearn\u001b[0m\u001b[0;34m.\u001b[0m\u001b[0mmodel_selection\u001b[0m \u001b[0;32mimport\u001b[0m \u001b[0mtrain_test_split\u001b[0m\u001b[0;34m\u001b[0m\u001b[0;34m\u001b[0m\u001b[0m\n",
      "\u001b[0;32m/Library/Frameworks/Python.framework/Versions/3.9/lib/python3.9/site-packages/keras/__init__.py\u001b[0m in \u001b[0;36m<module>\u001b[0;34m\u001b[0m\n\u001b[1;32m      3\u001b[0m     \u001b[0;32mfrom\u001b[0m \u001b[0mtensorflow\u001b[0m\u001b[0;34m.\u001b[0m\u001b[0mkeras\u001b[0m\u001b[0;34m.\u001b[0m\u001b[0mlayers\u001b[0m\u001b[0;34m.\u001b[0m\u001b[0mexperimental\u001b[0m\u001b[0;34m.\u001b[0m\u001b[0mpreprocessing\u001b[0m \u001b[0;32mimport\u001b[0m \u001b[0mRandomRotation\u001b[0m\u001b[0;34m\u001b[0m\u001b[0;34m\u001b[0m\u001b[0m\n\u001b[1;32m      4\u001b[0m \u001b[0;32mexcept\u001b[0m \u001b[0mImportError\u001b[0m\u001b[0;34m:\u001b[0m\u001b[0;34m\u001b[0m\u001b[0;34m\u001b[0m\u001b[0m\n\u001b[0;32m----> 5\u001b[0;31m     raise ImportError(\n\u001b[0m\u001b[1;32m      6\u001b[0m         \u001b[0;34m'Keras requires TensorFlow 2.2 or higher. '\u001b[0m\u001b[0;34m\u001b[0m\u001b[0;34m\u001b[0m\u001b[0m\n\u001b[1;32m      7\u001b[0m         'Install TensorFlow via `pip install tensorflow`')\n",
      "\u001b[0;31mImportError\u001b[0m: Keras requires TensorFlow 2.2 or higher. Install TensorFlow via `pip install tensorflow`"
     ]
    }
   ],
   "source": [
    "import pandas as pd\n",
    "from numpy import loadtxt\n",
    "from keras.models import Sequential\n",
    "from keras.layers import Dense\n",
    "from sklearn.model_selection import train_test_split\n",
    "from sklearn.metrics import accuracy_score\n",
    "import os\n",
    "import numpy as np\n",
    "import plotly.graph_objects as go"
   ]
  },
  {
   "cell_type": "markdown",
   "metadata": {
    "id": "cfxQf06G6OAf"
   },
   "source": [
    "### Lire les données"
   ]
  },
  {
   "cell_type": "code",
   "execution_count": null,
   "metadata": {
    "executionInfo": {
     "elapsed": 7038,
     "status": "ok",
     "timestamp": 1620242073550,
     "user": {
      "displayName": "Astrid bn",
      "photoUrl": "",
      "userId": "03102256477269013281"
     },
     "user_tz": -120
    },
    "id": "URvRLAI9cdKJ"
   },
   "outputs": [],
   "source": [
    "PATH_TO_DATA=os.path.join(\"..\",\"Data\")\n",
    "FILE=\"data_2000_2020.csv\"\n",
    "df = pd.read_csv(os.path.join(PATH_TO_DATA,FILE))"
   ]
  },
  {
   "cell_type": "markdown",
   "metadata": {
    "id": "DW6yaRur6QxC"
   },
   "source": [
    "### Séparer Y variable d'intérêt et X l'information "
   ]
  },
  {
   "cell_type": "code",
   "execution_count": 3,
   "metadata": {
    "colab": {
     "base_uri": "https://localhost:8080/"
    },
    "executionInfo": {
     "elapsed": 7021,
     "status": "ok",
     "timestamp": 1620242073551,
     "user": {
      "displayName": "Astrid bn",
      "photoUrl": "",
      "userId": "03102256477269013281"
     },
     "user_tz": -120
    },
    "id": "EvNoB_1b6uHu",
    "outputId": "105a0854-b62a-4e14-d04c-331f03c61030"
   },
   "outputs": [
    {
     "data": {
      "text/plain": [
       "(110532, 275)"
      ]
     },
     "execution_count": 3,
     "metadata": {
      "tags": []
     },
     "output_type": "execute_result"
    }
   ],
   "source": [
    "df_X = df.drop(['winner'], axis = 1)\n",
    "df_Y = df['winner'] \n",
    "df_X.shape"
   ]
  },
  {
   "cell_type": "markdown",
   "metadata": {
    "id": "IbYxFW5s6Bdn"
   },
   "source": [
    "### Séparer entre train et test"
   ]
  },
  {
   "cell_type": "code",
   "execution_count": 4,
   "metadata": {
    "executionInfo": {
     "elapsed": 7019,
     "status": "ok",
     "timestamp": 1620242073552,
     "user": {
      "displayName": "Astrid bn",
      "photoUrl": "",
      "userId": "03102256477269013281"
     },
     "user_tz": -120
    },
    "id": "Wprz_z2FGuVN"
   },
   "outputs": [],
   "source": [
    "x_train,x_test = train_test_split(df_X, test_size=0.33, random_state=42)\n",
    "y_train, y_test = train_test_split(df_Y, test_size=0.33, random_state=42)"
   ]
  },
  {
   "cell_type": "code",
   "execution_count": 5,
   "metadata": {
    "executionInfo": {
     "elapsed": 13511,
     "status": "ok",
     "timestamp": 1620242080047,
     "user": {
      "displayName": "Astrid bn",
      "photoUrl": "",
      "userId": "03102256477269013281"
     },
     "user_tz": -120
    },
    "id": "hl73y7hV-78_"
   },
   "outputs": [],
   "source": [
    "#to use loadtxt we need csv but we could have done otherwise \n",
    "x_train.to_csv('/content/dataset_x_train.csv',index=False)\n",
    "x_test.to_csv('/content/dataset_x_test.csv',index=False)\n",
    "y_train.to_csv('/content/dataset_y_train.csv',index=False)\n",
    "y_test.to_csv('/content/dataset_y_test.csv',index=False)"
   ]
  },
  {
   "cell_type": "markdown",
   "metadata": {
    "id": "YtwY6x2_tMDb"
   },
   "source": [
    "Ici, nous avons recréé des csv pour pouvoir utiliser la fonction loadtxt directement. Cette étape n'était pas nécessaire si on avait utilisé une fonction qui prend en argument un dataframe. "
   ]
  },
  {
   "cell_type": "code",
   "execution_count": 6,
   "metadata": {
    "executionInfo": {
     "elapsed": 27954,
     "status": "ok",
     "timestamp": 1620242094493,
     "user": {
      "displayName": "Astrid bn",
      "photoUrl": "",
      "userId": "03102256477269013281"
     },
     "user_tz": -120
    },
    "id": "CUip4WQk7Vl5"
   },
   "outputs": [],
   "source": [
    "# load the dataset\n",
    "x_train = loadtxt('dataset_x_train.csv', skiprows = 1,delimiter=',')\n",
    "x_test = loadtxt('dataset_x_test.csv', skiprows = 1,delimiter=',')\n",
    "y_train = loadtxt('dataset_y_train.csv', skiprows = 1,delimiter=',')\n",
    "y_test = loadtxt('dataset_y_test.csv', skiprows = 1,delimiter=',')"
   ]
  },
  {
   "cell_type": "markdown",
   "metadata": {
    "id": "mBu3ppaq8GeM"
   },
   "source": [
    "## Créer les modèles"
   ]
  },
  {
   "cell_type": "markdown",
   "metadata": {
    "id": "hLUZlkVS57Uk"
   },
   "source": [
    "\n",
    "### Hyperparamètres à fixer pour les modèles:"
   ]
  },
  {
   "cell_type": "markdown",
   "metadata": {
    "id": "pYmnwX3DS_qe"
   },
   "source": [
    "Je vous réduis le nombre d'epochs à 20 car sinon, vous risquez de devoir patienter très longtemps.\n",
    "\n",
    "Pour les résultats présentés dans le mémoire, nous avons pris epochs = 150.\n",
    "\n",
    "Nous avons tester les modèles ci-dessous en modifiant les hyperparamètres de multiple fois."
   ]
  },
  {
   "cell_type": "code",
   "execution_count": 7,
   "metadata": {
    "executionInfo": {
     "elapsed": 27955,
     "status": "ok",
     "timestamp": 1620242094497,
     "user": {
      "displayName": "Astrid bn",
      "photoUrl": "",
      "userId": "03102256477269013281"
     },
     "user_tz": -120
    },
    "id": "_8_88a1ldnMA"
   },
   "outputs": [],
   "source": [
    "nb_neurones = 70 #chose number of neurones in hidden layers (1rst and last layer's neurones are fixed)\n",
    "ep = 20 #chose number of epochs\n",
    "bs = 30 #chose batch_size "
   ]
  },
  {
   "cell_type": "markdown",
   "metadata": {
    "id": "1JG8ta5_7SGT"
   },
   "source": [
    "### Modèle à 3 couches cachées "
   ]
  },
  {
   "cell_type": "markdown",
   "metadata": {
    "id": "rcD6GKKWSaTF"
   },
   "source": [
    "#### Définition des couches"
   ]
  },
  {
   "cell_type": "code",
   "execution_count": 8,
   "metadata": {
    "executionInfo": {
     "elapsed": 33330,
     "status": "ok",
     "timestamp": 1620242099874,
     "user": {
      "displayName": "Astrid bn",
      "photoUrl": "",
      "userId": "03102256477269013281"
     },
     "user_tz": -120
    },
    "id": "JOS7dzeE7YFt"
   },
   "outputs": [],
   "source": [
    "model = Sequential()\n",
    "model.add(Dense(nb_neurones, input_dim=x_train.shape[1], activation='relu'))\n",
    "model.add(Dense(nb_neurones, activation= 'relu'))\n",
    "model.add(Dense(nb_neurones, activation = 'relu'))\n",
    "model.add(Dense(1, activation='sigmoid'))"
   ]
  },
  {
   "cell_type": "markdown",
   "metadata": {
    "id": "BqqdPQn_6eo2"
   },
   "source": [
    "#### Choix de la fonction de perte, de l'optimiseur et de la métrique \n"
   ]
  },
  {
   "cell_type": "code",
   "execution_count": 9,
   "metadata": {
    "executionInfo": {
     "elapsed": 33328,
     "status": "ok",
     "timestamp": 1620242099875,
     "user": {
      "displayName": "Astrid bn",
      "photoUrl": "",
      "userId": "03102256477269013281"
     },
     "user_tz": -120
    },
    "id": "pvovovwb70Hj"
   },
   "outputs": [],
   "source": [
    "model.compile(loss='binary_crossentropy', optimizer='adam', metrics=['accuracy'])"
   ]
  },
  {
   "cell_type": "markdown",
   "metadata": {
    "id": "ndTlmBFA6j2f"
   },
   "source": [
    "#### On entraîne le réseau sur les données 'train'\n",
    "\n"
   ]
  },
  {
   "cell_type": "code",
   "execution_count": 10,
   "metadata": {
    "colab": {
     "base_uri": "https://localhost:8080/"
    },
    "executionInfo": {
     "elapsed": 178862,
     "status": "ok",
     "timestamp": 1620242245421,
     "user": {
      "displayName": "Astrid bn",
      "photoUrl": "",
      "userId": "03102256477269013281"
     },
     "user_tz": -120
    },
    "id": "cDisspOdStbC",
    "outputId": "02d341d4-ab05-4a0c-fdb1-4d8603c42806"
   },
   "outputs": [
    {
     "name": "stdout",
     "output_type": "stream",
     "text": [
      "Epoch 1/20\n",
      "2469/2469 [==============================] - 11s 3ms/step - loss: 1.7162 - accuracy: 0.6103 - val_loss: 0.6957 - val_accuracy: 0.5788\n",
      "Epoch 2/20\n",
      "2469/2469 [==============================] - 7s 3ms/step - loss: 0.6265 - accuracy: 0.6592 - val_loss: 0.5983 - val_accuracy: 0.6758\n",
      "Epoch 3/20\n",
      "2469/2469 [==============================] - 7s 3ms/step - loss: 0.6011 - accuracy: 0.6706 - val_loss: 0.5970 - val_accuracy: 0.6660\n",
      "Epoch 4/20\n",
      "2469/2469 [==============================] - 7s 3ms/step - loss: 0.6006 - accuracy: 0.6724 - val_loss: 0.5787 - val_accuracy: 0.6883\n",
      "Epoch 5/20\n",
      "2469/2469 [==============================] - 7s 3ms/step - loss: 0.5902 - accuracy: 0.6797 - val_loss: 0.5773 - val_accuracy: 0.6785\n",
      "Epoch 6/20\n",
      "2469/2469 [==============================] - 7s 3ms/step - loss: 0.5850 - accuracy: 0.6823 - val_loss: 0.5884 - val_accuracy: 0.6876\n",
      "Epoch 7/20\n",
      "2469/2469 [==============================] - 7s 3ms/step - loss: 0.5854 - accuracy: 0.6812 - val_loss: 0.5731 - val_accuracy: 0.6957\n",
      "Epoch 8/20\n",
      "2469/2469 [==============================] - 7s 3ms/step - loss: 0.5798 - accuracy: 0.6853 - val_loss: 0.5672 - val_accuracy: 0.6932\n",
      "Epoch 9/20\n",
      "2469/2469 [==============================] - 7s 3ms/step - loss: 0.5757 - accuracy: 0.6877 - val_loss: 0.5699 - val_accuracy: 0.6852\n",
      "Epoch 10/20\n",
      "2469/2469 [==============================] - 7s 3ms/step - loss: 0.5772 - accuracy: 0.6888 - val_loss: 0.5755 - val_accuracy: 0.6913\n",
      "Epoch 11/20\n",
      "2469/2469 [==============================] - 7s 3ms/step - loss: 0.5767 - accuracy: 0.6853 - val_loss: 0.5662 - val_accuracy: 0.6943\n",
      "Epoch 12/20\n",
      "2469/2469 [==============================] - 7s 3ms/step - loss: 0.5726 - accuracy: 0.6888 - val_loss: 0.5655 - val_accuracy: 0.6945\n",
      "Epoch 13/20\n",
      "2469/2469 [==============================] - 7s 3ms/step - loss: 0.5730 - accuracy: 0.6885 - val_loss: 0.5702 - val_accuracy: 0.6958\n",
      "Epoch 14/20\n",
      "2469/2469 [==============================] - 7s 3ms/step - loss: 0.5705 - accuracy: 0.6912 - val_loss: 0.5661 - val_accuracy: 0.6921\n",
      "Epoch 15/20\n",
      "2469/2469 [==============================] - 7s 3ms/step - loss: 0.5721 - accuracy: 0.6893 - val_loss: 0.5621 - val_accuracy: 0.6924\n",
      "Epoch 16/20\n",
      "2469/2469 [==============================] - 7s 3ms/step - loss: 0.5676 - accuracy: 0.6921 - val_loss: 0.5698 - val_accuracy: 0.6932\n",
      "Epoch 17/20\n",
      "2469/2469 [==============================] - 7s 3ms/step - loss: 0.5666 - accuracy: 0.6914 - val_loss: 0.5622 - val_accuracy: 0.6931\n",
      "Epoch 18/20\n",
      "2469/2469 [==============================] - 7s 3ms/step - loss: 0.5682 - accuracy: 0.6899 - val_loss: 0.5657 - val_accuracy: 0.6916\n",
      "Epoch 19/20\n",
      "2469/2469 [==============================] - 7s 3ms/step - loss: 0.5649 - accuracy: 0.6954 - val_loss: 0.5617 - val_accuracy: 0.6969\n",
      "Epoch 20/20\n",
      "2469/2469 [==============================] - 7s 3ms/step - loss: 0.5650 - accuracy: 0.6932 - val_loss: 0.5601 - val_accuracy: 0.6992\n"
     ]
    }
   ],
   "source": [
    "res=model.fit(x_train, y_train,validation_data=(x_test,y_test), epochs=ep, batch_size=bs)"
   ]
  },
  {
   "cell_type": "markdown",
   "metadata": {
    "id": "erX2iGWj9NPS"
   },
   "source": [
    "#### Graphique représentant l'évolution de l'accuracy pour les données train et les données test.  "
   ]
  },
  {
   "cell_type": "code",
   "execution_count": 11,
   "metadata": {
    "executionInfo": {
     "elapsed": 651,
     "status": "ok",
     "timestamp": 1620243242211,
     "user": {
      "displayName": "Astrid bn",
      "photoUrl": "",
      "userId": "03102256477269013281"
     },
     "user_tz": -120
    },
    "id": "z7DbDzu09Mqh"
   },
   "outputs": [],
   "source": [
    "size_epochs = len(res.history[\"accuracy\"])\n",
    "epochs = np.linspace(0,size_epochs,size_epochs+1)"
   ]
  },
  {
   "cell_type": "code",
   "execution_count": 12,
   "metadata": {
    "colab": {
     "base_uri": "https://localhost:8080/",
     "height": 542
    },
    "executionInfo": {
     "elapsed": 2036,
     "status": "ok",
     "timestamp": 1620243243993,
     "user": {
      "displayName": "Astrid bn",
      "photoUrl": "",
      "userId": "03102256477269013281"
     },
     "user_tz": -120
    },
    "id": "UhvEANL7DCI1",
    "outputId": "415ac848-93f5-40c9-ee07-321b1e4e1eac"
   },
   "outputs": [
    {
     "data": {
      "text/html": [
       "<html>\n",
       "<head><meta charset=\"utf-8\" /></head>\n",
       "<body>\n",
       "    <div>\n",
       "            <script src=\"https://cdnjs.cloudflare.com/ajax/libs/mathjax/2.7.5/MathJax.js?config=TeX-AMS-MML_SVG\"></script><script type=\"text/javascript\">if (window.MathJax) {MathJax.Hub.Config({SVG: {font: \"STIX-Web\"}});}</script>\n",
       "                <script type=\"text/javascript\">window.PlotlyConfig = {MathJaxConfig: 'local'};</script>\n",
       "        <script src=\"https://cdn.plot.ly/plotly-latest.min.js\"></script>    \n",
       "            <div id=\"cfca8794-5601-48d5-bcde-8a702dec801f\" class=\"plotly-graph-div\" style=\"height:525px; width:100%;\"></div>\n",
       "            <script type=\"text/javascript\">\n",
       "                \n",
       "                    window.PLOTLYENV=window.PLOTLYENV || {};\n",
       "                    \n",
       "                if (document.getElementById(\"cfca8794-5601-48d5-bcde-8a702dec801f\")) {\n",
       "                    Plotly.newPlot(\n",
       "                        'cfca8794-5601-48d5-bcde-8a702dec801f',\n",
       "                        [{\"mode\": \"lines\", \"name\": \"training set\", \"type\": \"scatter\", \"x\": [0.0, 1.0, 2.0, 3.0, 4.0, 5.0, 6.0, 7.0, 8.0, 9.0, 10.0, 11.0, 12.0, 13.0, 14.0, 15.0, 16.0, 17.0, 18.0, 19.0, 20.0], \"y\": [0.628402829170227, 0.6630522608757019, 0.6713163256645203, 0.6731797456741333, 0.6799178719520569, 0.6829696297645569, 0.6813222169876099, 0.6855487823486328, 0.6856297850608826, 0.6870341300964355, 0.6876822710037231, 0.6875607371330261, 0.6888030767440796, 0.6920843720436096, 0.6917467713356018, 0.6893566846847534, 0.6907205581665039, 0.6916792988777161, 0.6928810477256775, 0.6921653747558594]}, {\"marker\": {\"color\": \"red\"}, \"mode\": \"lines\", \"name\": \"test set\", \"type\": \"scatter\", \"x\": [0.0, 1.0, 2.0, 3.0, 4.0, 5.0, 6.0, 7.0, 8.0, 9.0, 10.0, 11.0, 12.0, 13.0, 14.0, 15.0, 16.0, 17.0, 18.0, 19.0, 20.0], \"y\": [0.5787641406059265, 0.6758142113685608, 0.6660269498825073, 0.6883430480957031, 0.678528368473053, 0.6876302361488342, 0.6957177519798279, 0.6931681036949158, 0.6852450966835022, 0.6913038492202759, 0.6942647099494934, 0.6945388913154602, 0.6958000063896179, 0.6920714974403381, 0.6924004554748535, 0.6931681036949158, 0.6931406855583191, 0.691550612449646, 0.6968691945075989, 0.6991720795631409]}],\n",
       "                        {\"template\": {\"data\": {\"bar\": [{\"error_x\": {\"color\": \"#2a3f5f\"}, \"error_y\": {\"color\": \"#2a3f5f\"}, \"marker\": {\"line\": {\"color\": \"#E5ECF6\", \"width\": 0.5}}, \"type\": \"bar\"}], \"barpolar\": [{\"marker\": {\"line\": {\"color\": \"#E5ECF6\", \"width\": 0.5}}, \"type\": \"barpolar\"}], \"carpet\": [{\"aaxis\": {\"endlinecolor\": \"#2a3f5f\", \"gridcolor\": \"white\", \"linecolor\": \"white\", \"minorgridcolor\": \"white\", \"startlinecolor\": \"#2a3f5f\"}, \"baxis\": {\"endlinecolor\": \"#2a3f5f\", \"gridcolor\": \"white\", \"linecolor\": \"white\", \"minorgridcolor\": \"white\", \"startlinecolor\": \"#2a3f5f\"}, \"type\": \"carpet\"}], \"choropleth\": [{\"colorbar\": {\"outlinewidth\": 0, \"ticks\": \"\"}, \"type\": \"choropleth\"}], \"contour\": [{\"colorbar\": {\"outlinewidth\": 0, \"ticks\": \"\"}, \"colorscale\": [[0.0, \"#0d0887\"], [0.1111111111111111, \"#46039f\"], [0.2222222222222222, \"#7201a8\"], [0.3333333333333333, \"#9c179e\"], [0.4444444444444444, \"#bd3786\"], [0.5555555555555556, \"#d8576b\"], [0.6666666666666666, \"#ed7953\"], [0.7777777777777778, \"#fb9f3a\"], [0.8888888888888888, \"#fdca26\"], [1.0, \"#f0f921\"]], \"type\": \"contour\"}], \"contourcarpet\": [{\"colorbar\": {\"outlinewidth\": 0, \"ticks\": \"\"}, \"type\": \"contourcarpet\"}], \"heatmap\": [{\"colorbar\": {\"outlinewidth\": 0, \"ticks\": \"\"}, \"colorscale\": [[0.0, \"#0d0887\"], [0.1111111111111111, \"#46039f\"], [0.2222222222222222, \"#7201a8\"], [0.3333333333333333, \"#9c179e\"], [0.4444444444444444, \"#bd3786\"], [0.5555555555555556, \"#d8576b\"], [0.6666666666666666, \"#ed7953\"], [0.7777777777777778, \"#fb9f3a\"], [0.8888888888888888, \"#fdca26\"], [1.0, \"#f0f921\"]], \"type\": \"heatmap\"}], \"heatmapgl\": [{\"colorbar\": {\"outlinewidth\": 0, \"ticks\": \"\"}, \"colorscale\": [[0.0, \"#0d0887\"], [0.1111111111111111, \"#46039f\"], [0.2222222222222222, \"#7201a8\"], [0.3333333333333333, \"#9c179e\"], [0.4444444444444444, \"#bd3786\"], [0.5555555555555556, \"#d8576b\"], [0.6666666666666666, \"#ed7953\"], [0.7777777777777778, \"#fb9f3a\"], [0.8888888888888888, \"#fdca26\"], [1.0, \"#f0f921\"]], \"type\": \"heatmapgl\"}], \"histogram\": [{\"marker\": {\"colorbar\": {\"outlinewidth\": 0, \"ticks\": \"\"}}, \"type\": \"histogram\"}], \"histogram2d\": [{\"colorbar\": {\"outlinewidth\": 0, \"ticks\": \"\"}, \"colorscale\": [[0.0, \"#0d0887\"], [0.1111111111111111, \"#46039f\"], [0.2222222222222222, \"#7201a8\"], [0.3333333333333333, \"#9c179e\"], [0.4444444444444444, \"#bd3786\"], [0.5555555555555556, \"#d8576b\"], [0.6666666666666666, \"#ed7953\"], [0.7777777777777778, \"#fb9f3a\"], [0.8888888888888888, \"#fdca26\"], [1.0, \"#f0f921\"]], \"type\": \"histogram2d\"}], \"histogram2dcontour\": [{\"colorbar\": {\"outlinewidth\": 0, \"ticks\": \"\"}, \"colorscale\": [[0.0, \"#0d0887\"], [0.1111111111111111, \"#46039f\"], [0.2222222222222222, \"#7201a8\"], [0.3333333333333333, \"#9c179e\"], [0.4444444444444444, \"#bd3786\"], [0.5555555555555556, \"#d8576b\"], [0.6666666666666666, \"#ed7953\"], [0.7777777777777778, \"#fb9f3a\"], [0.8888888888888888, \"#fdca26\"], [1.0, \"#f0f921\"]], \"type\": \"histogram2dcontour\"}], \"mesh3d\": [{\"colorbar\": {\"outlinewidth\": 0, \"ticks\": \"\"}, \"type\": \"mesh3d\"}], \"parcoords\": [{\"line\": {\"colorbar\": {\"outlinewidth\": 0, \"ticks\": \"\"}}, \"type\": \"parcoords\"}], \"pie\": [{\"automargin\": true, \"type\": \"pie\"}], \"scatter\": [{\"marker\": {\"colorbar\": {\"outlinewidth\": 0, \"ticks\": \"\"}}, \"type\": \"scatter\"}], \"scatter3d\": [{\"line\": {\"colorbar\": {\"outlinewidth\": 0, \"ticks\": \"\"}}, \"marker\": {\"colorbar\": {\"outlinewidth\": 0, \"ticks\": \"\"}}, \"type\": \"scatter3d\"}], \"scattercarpet\": [{\"marker\": {\"colorbar\": {\"outlinewidth\": 0, \"ticks\": \"\"}}, \"type\": \"scattercarpet\"}], \"scattergeo\": [{\"marker\": {\"colorbar\": {\"outlinewidth\": 0, \"ticks\": \"\"}}, \"type\": \"scattergeo\"}], \"scattergl\": [{\"marker\": {\"colorbar\": {\"outlinewidth\": 0, \"ticks\": \"\"}}, \"type\": \"scattergl\"}], \"scattermapbox\": [{\"marker\": {\"colorbar\": {\"outlinewidth\": 0, \"ticks\": \"\"}}, \"type\": \"scattermapbox\"}], \"scatterpolar\": [{\"marker\": {\"colorbar\": {\"outlinewidth\": 0, \"ticks\": \"\"}}, \"type\": \"scatterpolar\"}], \"scatterpolargl\": [{\"marker\": {\"colorbar\": {\"outlinewidth\": 0, \"ticks\": \"\"}}, \"type\": \"scatterpolargl\"}], \"scatterternary\": [{\"marker\": {\"colorbar\": {\"outlinewidth\": 0, \"ticks\": \"\"}}, \"type\": \"scatterternary\"}], \"surface\": [{\"colorbar\": {\"outlinewidth\": 0, \"ticks\": \"\"}, \"colorscale\": [[0.0, \"#0d0887\"], [0.1111111111111111, \"#46039f\"], [0.2222222222222222, \"#7201a8\"], [0.3333333333333333, \"#9c179e\"], [0.4444444444444444, \"#bd3786\"], [0.5555555555555556, \"#d8576b\"], [0.6666666666666666, \"#ed7953\"], [0.7777777777777778, \"#fb9f3a\"], [0.8888888888888888, \"#fdca26\"], [1.0, \"#f0f921\"]], \"type\": \"surface\"}], \"table\": [{\"cells\": {\"fill\": {\"color\": \"#EBF0F8\"}, \"line\": {\"color\": \"white\"}}, \"header\": {\"fill\": {\"color\": \"#C8D4E3\"}, \"line\": {\"color\": \"white\"}}, \"type\": \"table\"}]}, \"layout\": {\"annotationdefaults\": {\"arrowcolor\": \"#2a3f5f\", \"arrowhead\": 0, \"arrowwidth\": 1}, \"coloraxis\": {\"colorbar\": {\"outlinewidth\": 0, \"ticks\": \"\"}}, \"colorscale\": {\"diverging\": [[0, \"#8e0152\"], [0.1, \"#c51b7d\"], [0.2, \"#de77ae\"], [0.3, \"#f1b6da\"], [0.4, \"#fde0ef\"], [0.5, \"#f7f7f7\"], [0.6, \"#e6f5d0\"], [0.7, \"#b8e186\"], [0.8, \"#7fbc41\"], [0.9, \"#4d9221\"], [1, \"#276419\"]], \"sequential\": [[0.0, \"#0d0887\"], [0.1111111111111111, \"#46039f\"], [0.2222222222222222, \"#7201a8\"], [0.3333333333333333, \"#9c179e\"], [0.4444444444444444, \"#bd3786\"], [0.5555555555555556, \"#d8576b\"], [0.6666666666666666, \"#ed7953\"], [0.7777777777777778, \"#fb9f3a\"], [0.8888888888888888, \"#fdca26\"], [1.0, \"#f0f921\"]], \"sequentialminus\": [[0.0, \"#0d0887\"], [0.1111111111111111, \"#46039f\"], [0.2222222222222222, \"#7201a8\"], [0.3333333333333333, \"#9c179e\"], [0.4444444444444444, \"#bd3786\"], [0.5555555555555556, \"#d8576b\"], [0.6666666666666666, \"#ed7953\"], [0.7777777777777778, \"#fb9f3a\"], [0.8888888888888888, \"#fdca26\"], [1.0, \"#f0f921\"]]}, \"colorway\": [\"#636efa\", \"#EF553B\", \"#00cc96\", \"#ab63fa\", \"#FFA15A\", \"#19d3f3\", \"#FF6692\", \"#B6E880\", \"#FF97FF\", \"#FECB52\"], \"font\": {\"color\": \"#2a3f5f\"}, \"geo\": {\"bgcolor\": \"white\", \"lakecolor\": \"white\", \"landcolor\": \"#E5ECF6\", \"showlakes\": true, \"showland\": true, \"subunitcolor\": \"white\"}, \"hoverlabel\": {\"align\": \"left\"}, \"hovermode\": \"closest\", \"mapbox\": {\"style\": \"light\"}, \"paper_bgcolor\": \"white\", \"plot_bgcolor\": \"#E5ECF6\", \"polar\": {\"angularaxis\": {\"gridcolor\": \"white\", \"linecolor\": \"white\", \"ticks\": \"\"}, \"bgcolor\": \"#E5ECF6\", \"radialaxis\": {\"gridcolor\": \"white\", \"linecolor\": \"white\", \"ticks\": \"\"}}, \"scene\": {\"xaxis\": {\"backgroundcolor\": \"#E5ECF6\", \"gridcolor\": \"white\", \"gridwidth\": 2, \"linecolor\": \"white\", \"showbackground\": true, \"ticks\": \"\", \"zerolinecolor\": \"white\"}, \"yaxis\": {\"backgroundcolor\": \"#E5ECF6\", \"gridcolor\": \"white\", \"gridwidth\": 2, \"linecolor\": \"white\", \"showbackground\": true, \"ticks\": \"\", \"zerolinecolor\": \"white\"}, \"zaxis\": {\"backgroundcolor\": \"#E5ECF6\", \"gridcolor\": \"white\", \"gridwidth\": 2, \"linecolor\": \"white\", \"showbackground\": true, \"ticks\": \"\", \"zerolinecolor\": \"white\"}}, \"shapedefaults\": {\"line\": {\"color\": \"#2a3f5f\"}}, \"ternary\": {\"aaxis\": {\"gridcolor\": \"white\", \"linecolor\": \"white\", \"ticks\": \"\"}, \"baxis\": {\"gridcolor\": \"white\", \"linecolor\": \"white\", \"ticks\": \"\"}, \"bgcolor\": \"#E5ECF6\", \"caxis\": {\"gridcolor\": \"white\", \"linecolor\": \"white\", \"ticks\": \"\"}}, \"title\": {\"x\": 0.05}, \"xaxis\": {\"automargin\": true, \"gridcolor\": \"white\", \"linecolor\": \"white\", \"ticks\": \"\", \"title\": {\"standoff\": 15}, \"zerolinecolor\": \"white\", \"zerolinewidth\": 2}, \"yaxis\": {\"automargin\": true, \"gridcolor\": \"white\", \"linecolor\": \"white\", \"ticks\": \"\", \"title\": {\"standoff\": 15}, \"zerolinecolor\": \"white\", \"zerolinewidth\": 2}}}, \"xaxis\": {\"title\": {\"text\": \"Epoch\"}}, \"yaxis\": {\"title\": {\"text\": \"Accuracy\"}}},\n",
       "                        {\"responsive\": true}\n",
       "                    ).then(function(){\n",
       "                            \n",
       "var gd = document.getElementById('cfca8794-5601-48d5-bcde-8a702dec801f');\n",
       "var x = new MutationObserver(function (mutations, observer) {{\n",
       "        var display = window.getComputedStyle(gd).display;\n",
       "        if (!display || display === 'none') {{\n",
       "            console.log([gd, 'removed!']);\n",
       "            Plotly.purge(gd);\n",
       "            observer.disconnect();\n",
       "        }}\n",
       "}});\n",
       "\n",
       "// Listen for the removal of the full notebook cells\n",
       "var notebookContainer = gd.closest('#notebook-container');\n",
       "if (notebookContainer) {{\n",
       "    x.observe(notebookContainer, {childList: true});\n",
       "}}\n",
       "\n",
       "// Listen for the clearing of the current output cell\n",
       "var outputEl = gd.closest('.output');\n",
       "if (outputEl) {{\n",
       "    x.observe(outputEl, {childList: true});\n",
       "}}\n",
       "\n",
       "                        })\n",
       "                };\n",
       "                \n",
       "            </script>\n",
       "        </div>\n",
       "</body>\n",
       "</html>"
      ]
     },
     "metadata": {
      "tags": []
     },
     "output_type": "display_data"
    }
   ],
   "source": [
    "# Create traces\n",
    "fig = go.Figure()\n",
    "fig.add_trace(go.Scatter(x=epochs, y=res.history[\"accuracy\"],mode='lines', name='training set' ))\n",
    "fig.add_trace(go.Scatter(x=epochs, \n",
    "                         y=res.history[\"val_accuracy\"],\n",
    "                         mode='lines',\n",
    "                         name='test set',\n",
    "                         marker=dict(\n",
    "                          color='red'\n",
    "                          )))\n",
    "\n",
    "#fig.update_layout(legend_title_text = \"Accuracy evolution according to number of trees\")\n",
    "fig.update_xaxes(title_text=\"Epoch\")\n",
    "fig.update_yaxes(title_text=\"Accuracy\")\n",
    "fig.show()"
   ]
  },
  {
   "cell_type": "markdown",
   "metadata": {
    "id": "N83qr4UwTlkK"
   },
   "source": [
    "### Modèle à 5 couches cachées "
   ]
  },
  {
   "cell_type": "code",
   "execution_count": null,
   "metadata": {
    "id": "MLX3wlOI7w3S"
   },
   "outputs": [],
   "source": [
    "model1 = Sequential()\n",
    "model1.add(Dense(nb_neurones, input_dim=(x_train.shape[1]), activation='relu'))\n",
    "model1.add(Dense(nb_neurones, activation='relu'))\n",
    "model1.add(Dense(nb_neurones, activation = 'relu'))\n",
    "model1.add(Dense(nb_neurones, activation = 'relu'))\n",
    "model1.add(Dense(nb_neurones, activation = 'relu'))\n",
    "model1.add(Dense(1, activation='sigmoid'))"
   ]
  },
  {
   "cell_type": "code",
   "execution_count": null,
   "metadata": {
    "id": "d_7ajPX-FNpv"
   },
   "outputs": [],
   "source": [
    "model1.compile(loss='binary_crossentropy', optimizer='adam', metrics=['accuracy'])"
   ]
  },
  {
   "cell_type": "code",
   "execution_count": null,
   "metadata": {
    "colab": {
     "base_uri": "https://localhost:8080/"
    },
    "executionInfo": {
     "elapsed": 1582143,
     "status": "ok",
     "timestamp": 1620237415358,
     "user": {
      "displayName": "Astrid bn",
      "photoUrl": "",
      "userId": "03102256477269013281"
     },
     "user_tz": -120
    },
    "id": "prNghxWpFRtw",
    "outputId": "73ae52eb-2884-4da9-e955-45d24736c39d"
   },
   "outputs": [
    {
     "name": "stdout",
     "output_type": "stream",
     "text": [
      "Epoch 1/150\n",
      "3703/3703 [==============================] - 11s 3ms/step - loss: 0.8762 - accuracy: 0.6356 - val_loss: 0.6222 - val_accuracy: 0.6414\n",
      "Epoch 2/150\n",
      "3703/3703 [==============================] - 10s 3ms/step - loss: 0.6045 - accuracy: 0.6667 - val_loss: 0.6020 - val_accuracy: 0.6840\n",
      "Epoch 3/150\n",
      "3703/3703 [==============================] - 11s 3ms/step - loss: 0.5857 - accuracy: 0.6821 - val_loss: 0.5721 - val_accuracy: 0.6869\n",
      "Epoch 4/150\n",
      "3703/3703 [==============================] - 10s 3ms/step - loss: 0.5812 - accuracy: 0.6850 - val_loss: 0.5757 - val_accuracy: 0.6921\n",
      "Epoch 5/150\n",
      "3703/3703 [==============================] - 11s 3ms/step - loss: 0.5744 - accuracy: 0.6917 - val_loss: 0.5693 - val_accuracy: 0.6891\n",
      "Epoch 6/150\n",
      "3703/3703 [==============================] - 11s 3ms/step - loss: 0.5758 - accuracy: 0.6873 - val_loss: 0.5729 - val_accuracy: 0.6909\n",
      "Epoch 7/150\n",
      "3703/3703 [==============================] - 10s 3ms/step - loss: 0.5731 - accuracy: 0.6911 - val_loss: 0.5686 - val_accuracy: 0.6927\n",
      "Epoch 8/150\n",
      "3703/3703 [==============================] - 10s 3ms/step - loss: 0.5741 - accuracy: 0.6881 - val_loss: 0.5654 - val_accuracy: 0.6967\n",
      "Epoch 9/150\n",
      "3703/3703 [==============================] - 10s 3ms/step - loss: 0.5722 - accuracy: 0.6927 - val_loss: 0.5653 - val_accuracy: 0.6979\n",
      "Epoch 10/150\n",
      "3703/3703 [==============================] - 10s 3ms/step - loss: 0.5690 - accuracy: 0.6905 - val_loss: 0.5628 - val_accuracy: 0.6939\n",
      "Epoch 11/150\n",
      "3703/3703 [==============================] - 10s 3ms/step - loss: 0.5652 - accuracy: 0.6950 - val_loss: 0.5685 - val_accuracy: 0.6960\n",
      "Epoch 12/150\n",
      "3703/3703 [==============================] - 10s 3ms/step - loss: 0.5642 - accuracy: 0.6954 - val_loss: 0.5625 - val_accuracy: 0.6983\n",
      "Epoch 13/150\n",
      "3703/3703 [==============================] - 10s 3ms/step - loss: 0.5651 - accuracy: 0.6961 - val_loss: 0.5615 - val_accuracy: 0.6997\n",
      "Epoch 14/150\n",
      "3703/3703 [==============================] - 10s 3ms/step - loss: 0.5634 - accuracy: 0.6950 - val_loss: 0.5594 - val_accuracy: 0.6977\n",
      "Epoch 15/150\n",
      "3703/3703 [==============================] - 10s 3ms/step - loss: 0.5633 - accuracy: 0.6985 - val_loss: 0.5694 - val_accuracy: 0.6947\n",
      "Epoch 16/150\n",
      "3703/3703 [==============================] - 10s 3ms/step - loss: 0.5647 - accuracy: 0.6953 - val_loss: 0.5603 - val_accuracy: 0.7080\n",
      "Epoch 17/150\n",
      "3703/3703 [==============================] - 10s 3ms/step - loss: 0.5614 - accuracy: 0.6984 - val_loss: 0.5547 - val_accuracy: 0.7056\n",
      "Epoch 18/150\n",
      "3703/3703 [==============================] - 10s 3ms/step - loss: 0.5623 - accuracy: 0.7005 - val_loss: 0.5519 - val_accuracy: 0.7044\n",
      "Epoch 19/150\n",
      "3703/3703 [==============================] - 10s 3ms/step - loss: 0.5587 - accuracy: 0.6998 - val_loss: 0.5545 - val_accuracy: 0.7047\n",
      "Epoch 20/150\n",
      "3703/3703 [==============================] - 10s 3ms/step - loss: 0.5582 - accuracy: 0.7018 - val_loss: 0.5558 - val_accuracy: 0.7019\n",
      "Epoch 21/150\n",
      "3703/3703 [==============================] - 10s 3ms/step - loss: 0.5552 - accuracy: 0.7086 - val_loss: 0.5544 - val_accuracy: 0.7049\n",
      "Epoch 22/150\n",
      "3703/3703 [==============================] - 10s 3ms/step - loss: 0.5573 - accuracy: 0.7047 - val_loss: 0.5520 - val_accuracy: 0.7079\n",
      "Epoch 23/150\n",
      "3703/3703 [==============================] - 11s 3ms/step - loss: 0.5543 - accuracy: 0.7055 - val_loss: 0.5642 - val_accuracy: 0.7003\n",
      "Epoch 24/150\n",
      "3703/3703 [==============================] - 11s 3ms/step - loss: 0.5529 - accuracy: 0.7049 - val_loss: 0.5488 - val_accuracy: 0.7108\n",
      "Epoch 25/150\n",
      "3703/3703 [==============================] - 10s 3ms/step - loss: 0.5535 - accuracy: 0.7055 - val_loss: 0.5502 - val_accuracy: 0.7087\n",
      "Epoch 26/150\n",
      "3703/3703 [==============================] - 10s 3ms/step - loss: 0.5523 - accuracy: 0.7077 - val_loss: 0.5507 - val_accuracy: 0.7104\n",
      "Epoch 27/150\n",
      "3703/3703 [==============================] - 10s 3ms/step - loss: 0.5530 - accuracy: 0.7073 - val_loss: 0.5506 - val_accuracy: 0.7101\n",
      "Epoch 28/150\n",
      "3703/3703 [==============================] - 10s 3ms/step - loss: 0.5528 - accuracy: 0.7056 - val_loss: 0.5502 - val_accuracy: 0.7161\n",
      "Epoch 29/150\n",
      "3703/3703 [==============================] - 10s 3ms/step - loss: 0.5506 - accuracy: 0.7121 - val_loss: 0.5493 - val_accuracy: 0.7089\n",
      "Epoch 30/150\n",
      "3703/3703 [==============================] - 10s 3ms/step - loss: 0.5525 - accuracy: 0.7083 - val_loss: 0.5535 - val_accuracy: 0.7110\n",
      "Epoch 31/150\n",
      "3703/3703 [==============================] - 10s 3ms/step - loss: 0.5478 - accuracy: 0.7127 - val_loss: 0.5489 - val_accuracy: 0.7127\n",
      "Epoch 32/150\n",
      "3703/3703 [==============================] - 10s 3ms/step - loss: 0.5497 - accuracy: 0.7094 - val_loss: 0.5472 - val_accuracy: 0.7179\n",
      "Epoch 33/150\n",
      "3703/3703 [==============================] - 10s 3ms/step - loss: 0.5469 - accuracy: 0.7125 - val_loss: 0.5451 - val_accuracy: 0.7076\n",
      "Epoch 34/150\n",
      "3703/3703 [==============================] - 10s 3ms/step - loss: 0.5475 - accuracy: 0.7114 - val_loss: 0.5458 - val_accuracy: 0.7158\n",
      "Epoch 35/150\n",
      "3703/3703 [==============================] - 10s 3ms/step - loss: 0.5456 - accuracy: 0.7143 - val_loss: 0.5454 - val_accuracy: 0.7154\n",
      "Epoch 36/150\n",
      "3703/3703 [==============================] - 10s 3ms/step - loss: 0.5425 - accuracy: 0.7167 - val_loss: 0.5384 - val_accuracy: 0.7159\n",
      "Epoch 37/150\n",
      "3703/3703 [==============================] - 10s 3ms/step - loss: 0.5431 - accuracy: 0.7169 - val_loss: 0.5367 - val_accuracy: 0.7230\n",
      "Epoch 38/150\n",
      "3703/3703 [==============================] - 10s 3ms/step - loss: 0.5446 - accuracy: 0.7137 - val_loss: 0.5391 - val_accuracy: 0.7243\n",
      "Epoch 39/150\n",
      "3703/3703 [==============================] - 10s 3ms/step - loss: 0.5432 - accuracy: 0.7160 - val_loss: 0.5407 - val_accuracy: 0.7190\n",
      "Epoch 40/150\n",
      "3703/3703 [==============================] - 11s 3ms/step - loss: 0.5400 - accuracy: 0.7195 - val_loss: 0.5434 - val_accuracy: 0.7111\n",
      "Epoch 41/150\n",
      "3703/3703 [==============================] - 10s 3ms/step - loss: 0.5383 - accuracy: 0.7206 - val_loss: 0.5446 - val_accuracy: 0.7113\n",
      "Epoch 42/150\n",
      "3703/3703 [==============================] - 10s 3ms/step - loss: 0.5382 - accuracy: 0.7212 - val_loss: 0.5374 - val_accuracy: 0.7176\n",
      "Epoch 43/150\n",
      "3703/3703 [==============================] - 10s 3ms/step - loss: 0.5432 - accuracy: 0.7161 - val_loss: 0.5387 - val_accuracy: 0.7213\n",
      "Epoch 44/150\n",
      "3703/3703 [==============================] - 10s 3ms/step - loss: 0.5411 - accuracy: 0.7158 - val_loss: 0.5472 - val_accuracy: 0.7121\n",
      "Epoch 45/150\n",
      "3703/3703 [==============================] - 10s 3ms/step - loss: 0.5345 - accuracy: 0.7222 - val_loss: 0.5331 - val_accuracy: 0.7269\n",
      "Epoch 46/150\n",
      "3703/3703 [==============================] - 10s 3ms/step - loss: 0.5333 - accuracy: 0.7252 - val_loss: 0.5442 - val_accuracy: 0.7107\n",
      "Epoch 47/150\n",
      "3703/3703 [==============================] - 11s 3ms/step - loss: 0.5352 - accuracy: 0.7227 - val_loss: 0.5324 - val_accuracy: 0.7259\n",
      "Epoch 48/150\n",
      "3703/3703 [==============================] - 11s 3ms/step - loss: 0.5360 - accuracy: 0.7199 - val_loss: 0.5402 - val_accuracy: 0.7220\n",
      "Epoch 49/150\n",
      "3703/3703 [==============================] - 10s 3ms/step - loss: 0.5356 - accuracy: 0.7220 - val_loss: 0.5296 - val_accuracy: 0.7297\n",
      "Epoch 50/150\n",
      "3703/3703 [==============================] - 11s 3ms/step - loss: 0.5393 - accuracy: 0.7177 - val_loss: 0.5329 - val_accuracy: 0.7242\n",
      "Epoch 51/150\n",
      "3703/3703 [==============================] - 11s 3ms/step - loss: 0.5333 - accuracy: 0.7243 - val_loss: 0.5480 - val_accuracy: 0.7155\n",
      "Epoch 52/150\n",
      "3703/3703 [==============================] - 10s 3ms/step - loss: 0.5331 - accuracy: 0.7283 - val_loss: 0.5275 - val_accuracy: 0.7306\n",
      "Epoch 53/150\n",
      "3703/3703 [==============================] - 10s 3ms/step - loss: 0.5312 - accuracy: 0.7275 - val_loss: 0.5505 - val_accuracy: 0.7131\n",
      "Epoch 54/150\n",
      "3703/3703 [==============================] - 11s 3ms/step - loss: 0.5336 - accuracy: 0.7263 - val_loss: 0.5279 - val_accuracy: 0.7328\n",
      "Epoch 55/150\n",
      "3703/3703 [==============================] - 10s 3ms/step - loss: 0.5330 - accuracy: 0.7258 - val_loss: 0.5243 - val_accuracy: 0.7339\n",
      "Epoch 56/150\n",
      "3703/3703 [==============================] - 11s 3ms/step - loss: 0.5271 - accuracy: 0.7313 - val_loss: 0.5364 - val_accuracy: 0.7285\n",
      "Epoch 57/150\n",
      "3703/3703 [==============================] - 11s 3ms/step - loss: 0.5279 - accuracy: 0.7295 - val_loss: 0.5210 - val_accuracy: 0.7327\n",
      "Epoch 58/150\n",
      "3703/3703 [==============================] - 10s 3ms/step - loss: 0.5261 - accuracy: 0.7296 - val_loss: 0.5341 - val_accuracy: 0.7197\n",
      "Epoch 59/150\n",
      "3703/3703 [==============================] - 10s 3ms/step - loss: 0.5281 - accuracy: 0.7299 - val_loss: 0.5206 - val_accuracy: 0.7330\n",
      "Epoch 60/150\n",
      "3703/3703 [==============================] - 10s 3ms/step - loss: 0.5261 - accuracy: 0.7295 - val_loss: 0.5380 - val_accuracy: 0.7209\n",
      "Epoch 61/150\n",
      "3703/3703 [==============================] - 10s 3ms/step - loss: 0.5265 - accuracy: 0.7308 - val_loss: 0.5195 - val_accuracy: 0.7377\n",
      "Epoch 62/150\n",
      "3703/3703 [==============================] - 10s 3ms/step - loss: 0.5249 - accuracy: 0.7288 - val_loss: 0.5305 - val_accuracy: 0.7293\n",
      "Epoch 63/150\n",
      "3703/3703 [==============================] - 10s 3ms/step - loss: 0.5248 - accuracy: 0.7315 - val_loss: 0.5372 - val_accuracy: 0.7260\n",
      "Epoch 64/150\n",
      "3703/3703 [==============================] - 10s 3ms/step - loss: 0.5212 - accuracy: 0.7332 - val_loss: 0.5450 - val_accuracy: 0.7307\n",
      "Epoch 65/150\n",
      "3703/3703 [==============================] - 10s 3ms/step - loss: 0.5198 - accuracy: 0.7357 - val_loss: 0.5253 - val_accuracy: 0.7320\n",
      "Epoch 66/150\n",
      "3703/3703 [==============================] - 10s 3ms/step - loss: 0.5155 - accuracy: 0.7346 - val_loss: 0.5321 - val_accuracy: 0.7353\n",
      "Epoch 67/150\n",
      "3703/3703 [==============================] - 10s 3ms/step - loss: 0.5188 - accuracy: 0.7374 - val_loss: 0.5255 - val_accuracy: 0.7313\n",
      "Epoch 68/150\n",
      "3703/3703 [==============================] - 10s 3ms/step - loss: 0.5184 - accuracy: 0.7329 - val_loss: 0.5144 - val_accuracy: 0.7393\n",
      "Epoch 69/150\n",
      "3703/3703 [==============================] - 10s 3ms/step - loss: 0.5101 - accuracy: 0.7400 - val_loss: 0.5141 - val_accuracy: 0.7414\n",
      "Epoch 70/150\n",
      "3703/3703 [==============================] - 10s 3ms/step - loss: 0.5104 - accuracy: 0.7412 - val_loss: 0.5216 - val_accuracy: 0.7347\n",
      "Epoch 71/150\n",
      "3703/3703 [==============================] - 10s 3ms/step - loss: 0.5146 - accuracy: 0.7374 - val_loss: 0.5130 - val_accuracy: 0.7402\n",
      "Epoch 72/150\n",
      "3703/3703 [==============================] - 12s 3ms/step - loss: 0.5114 - accuracy: 0.7397 - val_loss: 0.5054 - val_accuracy: 0.7405\n",
      "Epoch 73/150\n",
      "3703/3703 [==============================] - 10s 3ms/step - loss: 0.5079 - accuracy: 0.7422 - val_loss: 0.5109 - val_accuracy: 0.7417\n",
      "Epoch 74/150\n",
      "3703/3703 [==============================] - 10s 3ms/step - loss: 0.5073 - accuracy: 0.7427 - val_loss: 0.5003 - val_accuracy: 0.7505\n",
      "Epoch 75/150\n",
      "3703/3703 [==============================] - 10s 3ms/step - loss: 0.5090 - accuracy: 0.7422 - val_loss: 0.5149 - val_accuracy: 0.7409\n",
      "Epoch 76/150\n",
      "3703/3703 [==============================] - 10s 3ms/step - loss: 0.5003 - accuracy: 0.7466 - val_loss: 0.5015 - val_accuracy: 0.7481\n",
      "Epoch 77/150\n",
      "3703/3703 [==============================] - 11s 3ms/step - loss: 0.5015 - accuracy: 0.7461 - val_loss: 0.5309 - val_accuracy: 0.7211\n",
      "Epoch 78/150\n",
      "3703/3703 [==============================] - 10s 3ms/step - loss: 0.5042 - accuracy: 0.7443 - val_loss: 0.5266 - val_accuracy: 0.7257\n",
      "Epoch 79/150\n",
      "3703/3703 [==============================] - 10s 3ms/step - loss: 0.4987 - accuracy: 0.7487 - val_loss: 0.5094 - val_accuracy: 0.7465\n",
      "Epoch 80/150\n",
      "3703/3703 [==============================] - 11s 3ms/step - loss: 0.5037 - accuracy: 0.7434 - val_loss: 0.5236 - val_accuracy: 0.7377\n",
      "Epoch 81/150\n",
      "3703/3703 [==============================] - 11s 3ms/step - loss: 0.5013 - accuracy: 0.7474 - val_loss: 0.5046 - val_accuracy: 0.7436\n",
      "Epoch 82/150\n",
      "3703/3703 [==============================] - 10s 3ms/step - loss: 0.5111 - accuracy: 0.7380 - val_loss: 0.4919 - val_accuracy: 0.7506\n",
      "Epoch 83/150\n",
      "3703/3703 [==============================] - 10s 3ms/step - loss: 0.4998 - accuracy: 0.7477 - val_loss: 0.5159 - val_accuracy: 0.7351\n",
      "Epoch 84/150\n",
      "3703/3703 [==============================] - 10s 3ms/step - loss: 0.4966 - accuracy: 0.7498 - val_loss: 0.5295 - val_accuracy: 0.7297\n",
      "Epoch 85/150\n",
      "3703/3703 [==============================] - 11s 3ms/step - loss: 0.4980 - accuracy: 0.7497 - val_loss: 0.4920 - val_accuracy: 0.7520\n",
      "Epoch 86/150\n",
      "3703/3703 [==============================] - 11s 3ms/step - loss: 0.4946 - accuracy: 0.7480 - val_loss: 0.4923 - val_accuracy: 0.7498\n",
      "Epoch 87/150\n",
      "3703/3703 [==============================] - 10s 3ms/step - loss: 0.5244 - accuracy: 0.7294 - val_loss: 0.4982 - val_accuracy: 0.7447\n",
      "Epoch 88/150\n",
      "3703/3703 [==============================] - 11s 3ms/step - loss: 0.4970 - accuracy: 0.7500 - val_loss: 0.5134 - val_accuracy: 0.7344\n",
      "Epoch 89/150\n",
      "3703/3703 [==============================] - 10s 3ms/step - loss: 0.4941 - accuracy: 0.7527 - val_loss: 0.5119 - val_accuracy: 0.7370\n",
      "Epoch 90/150\n",
      "3703/3703 [==============================] - 10s 3ms/step - loss: 0.4969 - accuracy: 0.7506 - val_loss: 0.5142 - val_accuracy: 0.7420\n",
      "Epoch 91/150\n",
      "3703/3703 [==============================] - 10s 3ms/step - loss: 0.4930 - accuracy: 0.7491 - val_loss: 0.4825 - val_accuracy: 0.7576\n",
      "Epoch 92/150\n",
      "3703/3703 [==============================] - 10s 3ms/step - loss: 0.4951 - accuracy: 0.7506 - val_loss: 0.4874 - val_accuracy: 0.7560\n",
      "Epoch 93/150\n",
      "3703/3703 [==============================] - 10s 3ms/step - loss: 0.4879 - accuracy: 0.7548 - val_loss: 0.5043 - val_accuracy: 0.7418\n",
      "Epoch 94/150\n",
      "3703/3703 [==============================] - 10s 3ms/step - loss: 0.4878 - accuracy: 0.7528 - val_loss: 0.5026 - val_accuracy: 0.7530\n",
      "Epoch 95/150\n",
      "3703/3703 [==============================] - 10s 3ms/step - loss: 0.4904 - accuracy: 0.7543 - val_loss: 0.4839 - val_accuracy: 0.7574\n",
      "Epoch 96/150\n",
      "3703/3703 [==============================] - 11s 3ms/step - loss: 0.4879 - accuracy: 0.7533 - val_loss: 0.5192 - val_accuracy: 0.7357\n",
      "Epoch 97/150\n",
      "3703/3703 [==============================] - 11s 3ms/step - loss: 0.4901 - accuracy: 0.7529 - val_loss: 0.4907 - val_accuracy: 0.7553\n",
      "Epoch 98/150\n",
      "3703/3703 [==============================] - 11s 3ms/step - loss: 0.4965 - accuracy: 0.7477 - val_loss: 0.4877 - val_accuracy: 0.7583\n",
      "Epoch 99/150\n",
      "3703/3703 [==============================] - 11s 3ms/step - loss: 0.4876 - accuracy: 0.7580 - val_loss: 0.4937 - val_accuracy: 0.7507\n",
      "Epoch 100/150\n",
      "3703/3703 [==============================] - 11s 3ms/step - loss: 0.4815 - accuracy: 0.7596 - val_loss: 0.4923 - val_accuracy: 0.7525\n",
      "Epoch 101/150\n",
      "3703/3703 [==============================] - 11s 3ms/step - loss: 0.4853 - accuracy: 0.7582 - val_loss: 0.5058 - val_accuracy: 0.7427\n",
      "Epoch 102/150\n",
      "3703/3703 [==============================] - 11s 3ms/step - loss: 0.4868 - accuracy: 0.7547 - val_loss: 0.4918 - val_accuracy: 0.7564\n",
      "Epoch 103/150\n",
      "3703/3703 [==============================] - 11s 3ms/step - loss: 0.4828 - accuracy: 0.7570 - val_loss: 0.5042 - val_accuracy: 0.7467\n",
      "Epoch 104/150\n",
      "3703/3703 [==============================] - 11s 3ms/step - loss: 0.4782 - accuracy: 0.7620 - val_loss: 0.4896 - val_accuracy: 0.7560\n",
      "Epoch 105/150\n",
      "3703/3703 [==============================] - 10s 3ms/step - loss: 0.4886 - accuracy: 0.7549 - val_loss: 0.5518 - val_accuracy: 0.7314\n",
      "Epoch 106/150\n",
      "3703/3703 [==============================] - 11s 3ms/step - loss: 0.4728 - accuracy: 0.7638 - val_loss: 0.4934 - val_accuracy: 0.7470\n",
      "Epoch 107/150\n",
      "3703/3703 [==============================] - 10s 3ms/step - loss: 0.4722 - accuracy: 0.7648 - val_loss: 0.4873 - val_accuracy: 0.7565\n",
      "Epoch 108/150\n",
      "3703/3703 [==============================] - 10s 3ms/step - loss: 0.4766 - accuracy: 0.7622 - val_loss: 0.4900 - val_accuracy: 0.7535\n",
      "Epoch 109/150\n",
      "3703/3703 [==============================] - 11s 3ms/step - loss: 0.4749 - accuracy: 0.7611 - val_loss: 0.5015 - val_accuracy: 0.7415\n",
      "Epoch 110/150\n",
      "3703/3703 [==============================] - 10s 3ms/step - loss: 0.4792 - accuracy: 0.7581 - val_loss: 0.4754 - val_accuracy: 0.7638\n",
      "Epoch 111/150\n",
      "3703/3703 [==============================] - 10s 3ms/step - loss: 0.4739 - accuracy: 0.7643 - val_loss: 0.4698 - val_accuracy: 0.7698\n",
      "Epoch 112/150\n",
      "3703/3703 [==============================] - 10s 3ms/step - loss: 0.4745 - accuracy: 0.7660 - val_loss: 0.5041 - val_accuracy: 0.7456\n",
      "Epoch 113/150\n",
      "3703/3703 [==============================] - 11s 3ms/step - loss: 0.4749 - accuracy: 0.7634 - val_loss: 0.4860 - val_accuracy: 0.7532\n",
      "Epoch 114/150\n",
      "3703/3703 [==============================] - 10s 3ms/step - loss: 0.4864 - accuracy: 0.7576 - val_loss: 0.4822 - val_accuracy: 0.7652\n",
      "Epoch 115/150\n",
      "3703/3703 [==============================] - 11s 3ms/step - loss: 0.4702 - accuracy: 0.7635 - val_loss: 0.4762 - val_accuracy: 0.7653\n",
      "Epoch 116/150\n",
      "3703/3703 [==============================] - 11s 3ms/step - loss: 0.4746 - accuracy: 0.7650 - val_loss: 0.4832 - val_accuracy: 0.7641\n",
      "Epoch 117/150\n",
      "3703/3703 [==============================] - 10s 3ms/step - loss: 0.4697 - accuracy: 0.7659 - val_loss: 0.5184 - val_accuracy: 0.7332\n",
      "Epoch 118/150\n",
      "3703/3703 [==============================] - 11s 3ms/step - loss: 0.4733 - accuracy: 0.7620 - val_loss: 0.4812 - val_accuracy: 0.7601\n",
      "Epoch 119/150\n",
      "3703/3703 [==============================] - 11s 3ms/step - loss: 0.4678 - accuracy: 0.7683 - val_loss: 0.4658 - val_accuracy: 0.7715\n",
      "Epoch 120/150\n",
      "3703/3703 [==============================] - 12s 3ms/step - loss: 0.4725 - accuracy: 0.7652 - val_loss: 0.4803 - val_accuracy: 0.7578\n",
      "Epoch 121/150\n",
      "3703/3703 [==============================] - 11s 3ms/step - loss: 0.4710 - accuracy: 0.7644 - val_loss: 0.4616 - val_accuracy: 0.7738\n",
      "Epoch 122/150\n",
      "3703/3703 [==============================] - 11s 3ms/step - loss: 0.4805 - accuracy: 0.7579 - val_loss: 0.4838 - val_accuracy: 0.7590\n",
      "Epoch 123/150\n",
      "3703/3703 [==============================] - 11s 3ms/step - loss: 0.4707 - accuracy: 0.7635 - val_loss: 0.5044 - val_accuracy: 0.7454\n",
      "Epoch 124/150\n",
      "3703/3703 [==============================] - 11s 3ms/step - loss: 0.4765 - accuracy: 0.7661 - val_loss: 0.4943 - val_accuracy: 0.7462\n",
      "Epoch 125/150\n",
      "3703/3703 [==============================] - 11s 3ms/step - loss: 0.4627 - accuracy: 0.7698 - val_loss: 0.4699 - val_accuracy: 0.7675\n",
      "Epoch 126/150\n",
      "3703/3703 [==============================] - 10s 3ms/step - loss: 0.4705 - accuracy: 0.7667 - val_loss: 0.4582 - val_accuracy: 0.7737\n",
      "Epoch 127/150\n",
      "3703/3703 [==============================] - 11s 3ms/step - loss: 0.4619 - accuracy: 0.7732 - val_loss: 0.5025 - val_accuracy: 0.7472\n",
      "Epoch 128/150\n",
      "3703/3703 [==============================] - 10s 3ms/step - loss: 0.4625 - accuracy: 0.7722 - val_loss: 0.4645 - val_accuracy: 0.7699\n",
      "Epoch 129/150\n",
      "3703/3703 [==============================] - 10s 3ms/step - loss: 0.4722 - accuracy: 0.7668 - val_loss: 0.4822 - val_accuracy: 0.7578\n",
      "Epoch 130/150\n",
      "3703/3703 [==============================] - 11s 3ms/step - loss: 0.4712 - accuracy: 0.7650 - val_loss: 0.4739 - val_accuracy: 0.7663\n",
      "Epoch 131/150\n",
      "3703/3703 [==============================] - 11s 3ms/step - loss: 0.4697 - accuracy: 0.7657 - val_loss: 0.4571 - val_accuracy: 0.7755\n",
      "Epoch 132/150\n",
      "3703/3703 [==============================] - 10s 3ms/step - loss: 0.4891 - accuracy: 0.7534 - val_loss: 0.5491 - val_accuracy: 0.7257\n",
      "Epoch 133/150\n",
      "3703/3703 [==============================] - 11s 3ms/step - loss: 0.4618 - accuracy: 0.7733 - val_loss: 0.4799 - val_accuracy: 0.7707\n",
      "Epoch 134/150\n",
      "3703/3703 [==============================] - 11s 3ms/step - loss: 0.4657 - accuracy: 0.7689 - val_loss: 0.4564 - val_accuracy: 0.7749\n",
      "Epoch 135/150\n",
      "3703/3703 [==============================] - 11s 3ms/step - loss: 0.4671 - accuracy: 0.7689 - val_loss: 0.4895 - val_accuracy: 0.7518\n",
      "Epoch 136/150\n",
      "3703/3703 [==============================] - 11s 3ms/step - loss: 0.4600 - accuracy: 0.7729 - val_loss: 0.4675 - val_accuracy: 0.7718\n",
      "Epoch 137/150\n",
      "3703/3703 [==============================] - 11s 3ms/step - loss: 0.4564 - accuracy: 0.7756 - val_loss: 0.4893 - val_accuracy: 0.7629\n",
      "Epoch 138/150\n",
      "3703/3703 [==============================] - 11s 3ms/step - loss: 0.4617 - accuracy: 0.7736 - val_loss: 0.4919 - val_accuracy: 0.7528\n",
      "Epoch 139/150\n",
      "3703/3703 [==============================] - 11s 3ms/step - loss: 0.4527 - accuracy: 0.7758 - val_loss: 0.4578 - val_accuracy: 0.7754\n",
      "Epoch 140/150\n",
      "3703/3703 [==============================] - 11s 3ms/step - loss: 0.4700 - accuracy: 0.7670 - val_loss: 0.4586 - val_accuracy: 0.7722\n",
      "Epoch 141/150\n",
      "3703/3703 [==============================] - 11s 3ms/step - loss: 0.4565 - accuracy: 0.7746 - val_loss: 0.4607 - val_accuracy: 0.7725\n",
      "Epoch 142/150\n",
      "3703/3703 [==============================] - 11s 3ms/step - loss: 0.4579 - accuracy: 0.7730 - val_loss: 0.4667 - val_accuracy: 0.7697\n",
      "Epoch 143/150\n",
      "3703/3703 [==============================] - 11s 3ms/step - loss: 0.4625 - accuracy: 0.7724 - val_loss: 0.5126 - val_accuracy: 0.7527\n",
      "Epoch 144/150\n",
      "3703/3703 [==============================] - 11s 3ms/step - loss: 0.4591 - accuracy: 0.7727 - val_loss: 0.4622 - val_accuracy: 0.7769\n",
      "Epoch 145/150\n",
      "3703/3703 [==============================] - 11s 3ms/step - loss: 0.4577 - accuracy: 0.7747 - val_loss: 0.4534 - val_accuracy: 0.7793\n",
      "Epoch 146/150\n",
      "3703/3703 [==============================] - 11s 3ms/step - loss: 0.4745 - accuracy: 0.7648 - val_loss: 0.5463 - val_accuracy: 0.7234\n",
      "Epoch 147/150\n",
      "3703/3703 [==============================] - 12s 3ms/step - loss: 0.4678 - accuracy: 0.7683 - val_loss: 0.4675 - val_accuracy: 0.7656\n",
      "Epoch 148/150\n",
      "3703/3703 [==============================] - 11s 3ms/step - loss: 0.4578 - accuracy: 0.7733 - val_loss: 0.5324 - val_accuracy: 0.7472\n",
      "Epoch 149/150\n",
      "3703/3703 [==============================] - 11s 3ms/step - loss: 0.4516 - accuracy: 0.7765 - val_loss: 0.4524 - val_accuracy: 0.7781\n",
      "Epoch 150/150\n",
      "3703/3703 [==============================] - 11s 3ms/step - loss: 0.4575 - accuracy: 0.7737 - val_loss: 0.4478 - val_accuracy: 0.7811\n"
     ]
    }
   ],
   "source": [
    "res1=model1.fit(x_train, y_train,validation_data=(x_test,y_test), epochs=150, batch_size=bs)"
   ]
  },
  {
   "cell_type": "code",
   "execution_count": null,
   "metadata": {
    "id": "_aUmP1zu8L6V"
   },
   "outputs": [],
   "source": [
    "size_epochs = len(res1.history[\"accuracy\"])\n",
    "epochs = np.linspace(0,size_epochs,size_epochs+1)"
   ]
  },
  {
   "cell_type": "code",
   "execution_count": null,
   "metadata": {
    "colab": {
     "base_uri": "https://localhost:8080/",
     "height": 542
    },
    "executionInfo": {
     "elapsed": 1833,
     "status": "ok",
     "timestamp": 1620234414863,
     "user": {
      "displayName": "Astrid bn",
      "photoUrl": "",
      "userId": "03102256477269013281"
     },
     "user_tz": -120
    },
    "id": "DsNUhlzi9sgQ",
    "outputId": "e10f2119-2b98-47a5-defc-5ab963f6f824"
   },
   "outputs": [
    {
     "data": {
      "text/html": [
       "<html>\n",
       "<head><meta charset=\"utf-8\" /></head>\n",
       "<body>\n",
       "    <div>\n",
       "            <script src=\"https://cdnjs.cloudflare.com/ajax/libs/mathjax/2.7.5/MathJax.js?config=TeX-AMS-MML_SVG\"></script><script type=\"text/javascript\">if (window.MathJax) {MathJax.Hub.Config({SVG: {font: \"STIX-Web\"}});}</script>\n",
       "                <script type=\"text/javascript\">window.PlotlyConfig = {MathJaxConfig: 'local'};</script>\n",
       "        <script src=\"https://cdn.plot.ly/plotly-latest.min.js\"></script>    \n",
       "            <div id=\"613810fe-b49e-456a-bc38-d1a7037898fa\" class=\"plotly-graph-div\" style=\"height:525px; width:100%;\"></div>\n",
       "            <script type=\"text/javascript\">\n",
       "                \n",
       "                    window.PLOTLYENV=window.PLOTLYENV || {};\n",
       "                    \n",
       "                if (document.getElementById(\"613810fe-b49e-456a-bc38-d1a7037898fa\")) {\n",
       "                    Plotly.newPlot(\n",
       "                        '613810fe-b49e-456a-bc38-d1a7037898fa',\n",
       "                        [{\"mode\": \"lines\", \"name\": \"training set\", \"type\": \"scatter\", \"x\": [0.0, 1.0, 2.0, 3.0, 4.0, 5.0, 6.0, 7.0, 8.0, 9.0, 10.0, 11.0, 12.0, 13.0, 14.0, 15.0, 16.0, 17.0, 18.0, 19.0, 20.0, 21.0, 22.0, 23.0, 24.0, 25.0, 26.0, 27.0, 28.0, 29.0, 30.0, 31.0, 32.0, 33.0, 34.0, 35.0, 36.0, 37.0, 38.0, 39.0, 40.0, 41.0, 42.0, 43.0, 44.0, 45.0, 46.0, 47.0, 48.0, 49.0, 50.0, 51.0, 52.0, 53.0, 54.0, 55.0, 56.0, 57.0, 58.0, 59.0, 60.0, 61.0, 62.0, 63.0, 64.0, 65.0, 66.0, 67.0, 68.0, 69.0, 70.0, 71.0, 72.0, 73.0, 74.0, 75.0, 76.0, 77.0, 78.0, 79.0, 80.0, 81.0, 82.0, 83.0, 84.0, 85.0, 86.0, 87.0, 88.0, 89.0, 90.0, 91.0, 92.0, 93.0, 94.0, 95.0, 96.0, 97.0, 98.0, 99.0, 100.0, 101.0, 102.0, 103.0, 104.0, 105.0, 106.0, 107.0, 108.0, 109.0, 110.0, 111.0, 112.0, 113.0, 114.0, 115.0, 116.0, 117.0, 118.0, 119.0, 120.0, 121.0, 122.0, 123.0, 124.0, 125.0, 126.0, 127.0, 128.0, 129.0, 130.0, 131.0, 132.0, 133.0, 134.0, 135.0, 136.0, 137.0, 138.0, 139.0, 140.0, 141.0, 142.0, 143.0, 144.0, 145.0, 146.0, 147.0, 148.0, 149.0, 150.0], \"y\": [0.6476585268974304, 0.6674138307571411, 0.6794587969779968, 0.6848735809326172, 0.6876958012580872, 0.6886545419692993, 0.6890731453895569, 0.6890596151351929, 0.6906800270080566, 0.6911391615867615, 0.6918007731437683, 0.6918413043022156, 0.694717526435852, 0.6944474577903748, 0.6936372518539429, 0.6941908597946167, 0.6966484785079956, 0.6964459419250488, 0.6978772878646851, 0.6998893022537231, 0.6988224983215332, 0.6996867060661316, 0.7021173238754272, 0.7002943754196167, 0.7043453454971313, 0.7051960825920105, 0.7055471539497375, 0.7081127762794495, 0.7097196578979492, 0.7088689804077148, 0.7090715169906616, 0.7136761546134949, 0.7130009531974792, 0.7130009531974792, 0.7145673632621765, 0.7164848446846008, 0.7179836630821228, 0.7208734154701233, 0.7208058834075928, 0.7231014370918274, 0.7232364416122437, 0.7264907360076904, 0.7264502644538879, 0.728219211101532, 0.7281651496887207, 0.7290968894958496, 0.7275845408439636, 0.732769787311554, 0.7349033355712891, 0.7335799932479858, 0.7351328730583191, 0.7381306290626526, 0.7362266182899475, 0.7376039624214172, 0.7380090951919556, 0.7390488386154175, 0.7402776479721069, 0.7415064573287964, 0.7435319423675537, 0.7440045475959778, 0.7462055683135986, 0.7474749088287354, 0.7426947355270386, 0.7453818917274475, 0.7480555176734924, 0.7464216351509094, 0.7480420470237732, 0.7500675320625305, 0.7508642077445984, 0.7511207461357117, 0.7486631870269775, 0.7492573261260986, 0.7446256875991821, 0.7246273159980774, 0.748609185218811, 0.7520794868469238, 0.7514583468437195, 0.7587231397628784, 0.7557119131088257, 0.7546721696853638, 0.7540239691734314, 0.7569407224655151, 0.7546586394309998, 0.7606406211853027, 0.7582640051841736, 0.7600464224815369, 0.7576563954353333, 0.7644485235214233, 0.7625175714492798, 0.7578049302101135, 0.7541320323944092, 0.7605865597724915, 0.7589662075042725, 0.7645700573921204, 0.7649616599082947, 0.7645835876464844, 0.7619504332542419, 0.768513023853302, 0.7597088813781738, 0.761005163192749, 0.7645430564880371, 0.7501620650291443, 0.7645835876464844, 0.7611942291259766, 0.7620854377746582, 0.7690261602401733, 0.771429717540741, 0.7623825073242188, 0.7321486473083496, 0.7676082849502563, 0.7642594575881958, 0.7387112379074097, 0.7666225433349609, 0.7503916025161743, 0.7694987654685974, 0.7331613898277283, 0.7164848446846008, 0.7369018197059631, 0.7543210387229919, 0.7571837306022644, 0.7719833850860596, 0.7658933997154236, 0.7756697535514832, 0.7742519378662109, 0.7659338712692261, 0.7715107202529907, 0.7583450078964233, 0.7746705412864685, 0.7759803533554077, 0.7777897715568542, 0.7805984616279602, 0.7689991593360901, 0.7571027278900146, 0.7672572135925293, 0.7779248356819153, 0.7746975421905518, 0.7802068591117859, 0.7812061309814453, 0.7593307495117188, 0.7726990580558777, 0.7803013920783997, 0.7828670144081116, 0.7568731904029846, 0.7785324454307556, 0.7845278978347778, 0.782326877117157, 0.7835016846656799, 0.7771416306495667, 0.7804499268531799, 0.7752916812896729]}, {\"marker\": {\"color\": \"red\"}, \"mode\": \"lines\", \"name\": \"test set\", \"type\": \"scatter\", \"x\": [0.0, 1.0, 2.0, 3.0, 4.0, 5.0, 6.0, 7.0, 8.0, 9.0, 10.0, 11.0, 12.0, 13.0, 14.0, 15.0, 16.0, 17.0, 18.0, 19.0, 20.0, 21.0, 22.0, 23.0, 24.0, 25.0, 26.0, 27.0, 28.0, 29.0, 30.0, 31.0, 32.0, 33.0, 34.0, 35.0, 36.0, 37.0, 38.0, 39.0, 40.0, 41.0, 42.0, 43.0, 44.0, 45.0, 46.0, 47.0, 48.0, 49.0, 50.0, 51.0, 52.0, 53.0, 54.0, 55.0, 56.0, 57.0, 58.0, 59.0, 60.0, 61.0, 62.0, 63.0, 64.0, 65.0, 66.0, 67.0, 68.0, 69.0, 70.0, 71.0, 72.0, 73.0, 74.0, 75.0, 76.0, 77.0, 78.0, 79.0, 80.0, 81.0, 82.0, 83.0, 84.0, 85.0, 86.0, 87.0, 88.0, 89.0, 90.0, 91.0, 92.0, 93.0, 94.0, 95.0, 96.0, 97.0, 98.0, 99.0, 100.0, 101.0, 102.0, 103.0, 104.0, 105.0, 106.0, 107.0, 108.0, 109.0, 110.0, 111.0, 112.0, 113.0, 114.0, 115.0, 116.0, 117.0, 118.0, 119.0, 120.0, 121.0, 122.0, 123.0, 124.0, 125.0, 126.0, 127.0, 128.0, 129.0, 130.0, 131.0, 132.0, 133.0, 134.0, 135.0, 136.0, 137.0, 138.0, 139.0, 140.0, 141.0, 142.0, 143.0, 144.0, 145.0, 146.0, 147.0, 148.0, 149.0, 150.0], \"y\": [0.6618324518203735, 0.6806119084358215, 0.6766915321350098, 0.6844774484634399, 0.6882882118225098, 0.6960741281509399, 0.6945663094520569, 0.6907555460929871, 0.6967321038246155, 0.6956354975700378, 0.6953887343406677, 0.6925375461578369, 0.6971707344055176, 0.6947307586669922, 0.6973352432250977, 0.6940180063247681, 0.6965401768684387, 0.7031198740005493, 0.7005702257156372, 0.6959918737411499, 0.6955806612968445, 0.7043535709381104, 0.698623776435852, 0.7007347345352173, 0.7017216682434082, 0.7122491598129272, 0.7120298147201538, 0.7123862504959106, 0.7087948322296143, 0.7038326859474182, 0.7120846509933472, 0.7075337171554565, 0.7119475603103638, 0.7075062990188599, 0.7109880447387695, 0.7246408462524414, 0.7101655602455139, 0.7188287973403931, 0.7150455117225647, 0.7285063862800598, 0.7060807347297668, 0.7229411005973816, 0.7297675013542175, 0.7226121425628662, 0.7215429544448853, 0.7226943969726562, 0.7110977172851562, 0.7313576340675354, 0.7354424595832825, 0.7209398150444031, 0.7367035746574402, 0.727683961391449, 0.7263405919075012, 0.7431735992431641, 0.7273549437522888, 0.7362649440765381, 0.7375260591506958, 0.7313302159309387, 0.7354698777198792, 0.7226121425628662, 0.740623950958252, 0.7359907627105713, 0.7379098534584045, 0.7308641076087952, 0.7481905817985535, 0.7513982057571411, 0.7316317558288574, 0.7487937211990356, 0.7471762299537659, 0.7457506060600281, 0.752302885055542, 0.7527140974998474, 0.6828325390815735, 0.7516449093818665, 0.7542768120765686, 0.7513433694839478, 0.7574569582939148, 0.7590470314025879, 0.7348393201828003, 0.754688024520874, 0.7505483031272888, 0.723160445690155, 0.7625561952590942, 0.754879891872406, 0.7587454915046692, 0.7332766652107239, 0.7622546553611755, 0.7568264007568359, 0.7649139165878296, 0.7624191045761108, 0.757073163986206, 0.766394317150116, 0.7681488990783691, 0.7618433833122253, 0.7724805474281311, 0.7581971883773804, 0.7678747773170471, 0.7490953207015991, 0.7316591739654541, 0.7717403173446655, 0.7691358923912048, 0.722995936870575, 0.7639544010162354, 0.7570457458496094, 0.7666684985160828, 0.7608290314674377, 0.7735223174095154, 0.7127974629402161, 0.7479986548423767, 0.7615966796875, 0.7167452573776245, 0.7706437110900879, 0.7605823278427124, 0.7717403173446655, 0.768587589263916, 0.7035036683082581, 0.7262035608291626, 0.7588551640510559, 0.711481511592865, 0.7717677354812622, 0.7749752998352051, 0.7787860631942749, 0.776647686958313, 0.7750027179718018, 0.7609112858772278, 0.7800745964050293, 0.7762364149093628, 0.7237361669540405, 0.767710268497467, 0.7730562686920166, 0.7847625613212585, 0.7759622931480408, 0.761870801448822, 0.764968752861023, 0.7616515159606934, 0.7858865857124329, 0.7655170559883118, 0.7831176519393921, 0.7858043909072876, 0.745394229888916, 0.7827338576316833, 0.7875315546989441, 0.7748382687568665, 0.7368132472038269, 0.7533994913101196, 0.7766202688217163, 0.7889845371246338, 0.7589099407196045, 0.7798004150390625, 0.6981576681137085]}],\n",
       "                        {\"template\": {\"data\": {\"bar\": [{\"error_x\": {\"color\": \"#2a3f5f\"}, \"error_y\": {\"color\": \"#2a3f5f\"}, \"marker\": {\"line\": {\"color\": \"#E5ECF6\", \"width\": 0.5}}, \"type\": \"bar\"}], \"barpolar\": [{\"marker\": {\"line\": {\"color\": \"#E5ECF6\", \"width\": 0.5}}, \"type\": \"barpolar\"}], \"carpet\": [{\"aaxis\": {\"endlinecolor\": \"#2a3f5f\", \"gridcolor\": \"white\", \"linecolor\": \"white\", \"minorgridcolor\": \"white\", \"startlinecolor\": \"#2a3f5f\"}, \"baxis\": {\"endlinecolor\": \"#2a3f5f\", \"gridcolor\": \"white\", \"linecolor\": \"white\", \"minorgridcolor\": \"white\", \"startlinecolor\": \"#2a3f5f\"}, \"type\": \"carpet\"}], \"choropleth\": [{\"colorbar\": {\"outlinewidth\": 0, \"ticks\": \"\"}, \"type\": \"choropleth\"}], \"contour\": [{\"colorbar\": {\"outlinewidth\": 0, \"ticks\": \"\"}, \"colorscale\": [[0.0, \"#0d0887\"], [0.1111111111111111, \"#46039f\"], [0.2222222222222222, \"#7201a8\"], [0.3333333333333333, \"#9c179e\"], [0.4444444444444444, \"#bd3786\"], [0.5555555555555556, \"#d8576b\"], [0.6666666666666666, \"#ed7953\"], [0.7777777777777778, \"#fb9f3a\"], [0.8888888888888888, \"#fdca26\"], [1.0, \"#f0f921\"]], \"type\": \"contour\"}], \"contourcarpet\": [{\"colorbar\": {\"outlinewidth\": 0, \"ticks\": \"\"}, \"type\": \"contourcarpet\"}], \"heatmap\": [{\"colorbar\": {\"outlinewidth\": 0, \"ticks\": \"\"}, \"colorscale\": [[0.0, \"#0d0887\"], [0.1111111111111111, \"#46039f\"], [0.2222222222222222, \"#7201a8\"], [0.3333333333333333, \"#9c179e\"], [0.4444444444444444, \"#bd3786\"], [0.5555555555555556, \"#d8576b\"], [0.6666666666666666, \"#ed7953\"], [0.7777777777777778, \"#fb9f3a\"], [0.8888888888888888, \"#fdca26\"], [1.0, \"#f0f921\"]], \"type\": \"heatmap\"}], \"heatmapgl\": [{\"colorbar\": {\"outlinewidth\": 0, \"ticks\": \"\"}, \"colorscale\": [[0.0, \"#0d0887\"], [0.1111111111111111, \"#46039f\"], [0.2222222222222222, \"#7201a8\"], [0.3333333333333333, \"#9c179e\"], [0.4444444444444444, \"#bd3786\"], [0.5555555555555556, \"#d8576b\"], [0.6666666666666666, \"#ed7953\"], [0.7777777777777778, \"#fb9f3a\"], [0.8888888888888888, \"#fdca26\"], [1.0, \"#f0f921\"]], \"type\": \"heatmapgl\"}], \"histogram\": [{\"marker\": {\"colorbar\": {\"outlinewidth\": 0, \"ticks\": \"\"}}, \"type\": \"histogram\"}], \"histogram2d\": [{\"colorbar\": {\"outlinewidth\": 0, \"ticks\": \"\"}, \"colorscale\": [[0.0, \"#0d0887\"], [0.1111111111111111, \"#46039f\"], [0.2222222222222222, \"#7201a8\"], [0.3333333333333333, \"#9c179e\"], [0.4444444444444444, \"#bd3786\"], [0.5555555555555556, \"#d8576b\"], [0.6666666666666666, \"#ed7953\"], [0.7777777777777778, \"#fb9f3a\"], [0.8888888888888888, \"#fdca26\"], [1.0, \"#f0f921\"]], \"type\": \"histogram2d\"}], \"histogram2dcontour\": [{\"colorbar\": {\"outlinewidth\": 0, \"ticks\": \"\"}, \"colorscale\": [[0.0, \"#0d0887\"], [0.1111111111111111, \"#46039f\"], [0.2222222222222222, \"#7201a8\"], [0.3333333333333333, \"#9c179e\"], [0.4444444444444444, \"#bd3786\"], [0.5555555555555556, \"#d8576b\"], [0.6666666666666666, \"#ed7953\"], [0.7777777777777778, \"#fb9f3a\"], [0.8888888888888888, \"#fdca26\"], [1.0, \"#f0f921\"]], \"type\": \"histogram2dcontour\"}], \"mesh3d\": [{\"colorbar\": {\"outlinewidth\": 0, \"ticks\": \"\"}, \"type\": \"mesh3d\"}], \"parcoords\": [{\"line\": {\"colorbar\": {\"outlinewidth\": 0, \"ticks\": \"\"}}, \"type\": \"parcoords\"}], \"pie\": [{\"automargin\": true, \"type\": \"pie\"}], \"scatter\": [{\"marker\": {\"colorbar\": {\"outlinewidth\": 0, \"ticks\": \"\"}}, \"type\": \"scatter\"}], \"scatter3d\": [{\"line\": {\"colorbar\": {\"outlinewidth\": 0, \"ticks\": \"\"}}, \"marker\": {\"colorbar\": {\"outlinewidth\": 0, \"ticks\": \"\"}}, \"type\": \"scatter3d\"}], \"scattercarpet\": [{\"marker\": {\"colorbar\": {\"outlinewidth\": 0, \"ticks\": \"\"}}, \"type\": \"scattercarpet\"}], \"scattergeo\": [{\"marker\": {\"colorbar\": {\"outlinewidth\": 0, \"ticks\": \"\"}}, \"type\": \"scattergeo\"}], \"scattergl\": [{\"marker\": {\"colorbar\": {\"outlinewidth\": 0, \"ticks\": \"\"}}, \"type\": \"scattergl\"}], \"scattermapbox\": [{\"marker\": {\"colorbar\": {\"outlinewidth\": 0, \"ticks\": \"\"}}, \"type\": \"scattermapbox\"}], \"scatterpolar\": [{\"marker\": {\"colorbar\": {\"outlinewidth\": 0, \"ticks\": \"\"}}, \"type\": \"scatterpolar\"}], \"scatterpolargl\": [{\"marker\": {\"colorbar\": {\"outlinewidth\": 0, \"ticks\": \"\"}}, \"type\": \"scatterpolargl\"}], \"scatterternary\": [{\"marker\": {\"colorbar\": {\"outlinewidth\": 0, \"ticks\": \"\"}}, \"type\": \"scatterternary\"}], \"surface\": [{\"colorbar\": {\"outlinewidth\": 0, \"ticks\": \"\"}, \"colorscale\": [[0.0, \"#0d0887\"], [0.1111111111111111, \"#46039f\"], [0.2222222222222222, \"#7201a8\"], [0.3333333333333333, \"#9c179e\"], [0.4444444444444444, \"#bd3786\"], [0.5555555555555556, \"#d8576b\"], [0.6666666666666666, \"#ed7953\"], [0.7777777777777778, \"#fb9f3a\"], [0.8888888888888888, \"#fdca26\"], [1.0, \"#f0f921\"]], \"type\": \"surface\"}], \"table\": [{\"cells\": {\"fill\": {\"color\": \"#EBF0F8\"}, \"line\": {\"color\": \"white\"}}, \"header\": {\"fill\": {\"color\": \"#C8D4E3\"}, \"line\": {\"color\": \"white\"}}, \"type\": \"table\"}]}, \"layout\": {\"annotationdefaults\": {\"arrowcolor\": \"#2a3f5f\", \"arrowhead\": 0, \"arrowwidth\": 1}, \"coloraxis\": {\"colorbar\": {\"outlinewidth\": 0, \"ticks\": \"\"}}, \"colorscale\": {\"diverging\": [[0, \"#8e0152\"], [0.1, \"#c51b7d\"], [0.2, \"#de77ae\"], [0.3, \"#f1b6da\"], [0.4, \"#fde0ef\"], [0.5, \"#f7f7f7\"], [0.6, \"#e6f5d0\"], [0.7, \"#b8e186\"], [0.8, \"#7fbc41\"], [0.9, \"#4d9221\"], [1, \"#276419\"]], \"sequential\": [[0.0, \"#0d0887\"], [0.1111111111111111, \"#46039f\"], [0.2222222222222222, \"#7201a8\"], [0.3333333333333333, \"#9c179e\"], [0.4444444444444444, \"#bd3786\"], [0.5555555555555556, \"#d8576b\"], [0.6666666666666666, \"#ed7953\"], [0.7777777777777778, \"#fb9f3a\"], [0.8888888888888888, \"#fdca26\"], [1.0, \"#f0f921\"]], \"sequentialminus\": [[0.0, \"#0d0887\"], [0.1111111111111111, \"#46039f\"], [0.2222222222222222, \"#7201a8\"], [0.3333333333333333, \"#9c179e\"], [0.4444444444444444, \"#bd3786\"], [0.5555555555555556, \"#d8576b\"], [0.6666666666666666, \"#ed7953\"], [0.7777777777777778, \"#fb9f3a\"], [0.8888888888888888, \"#fdca26\"], [1.0, \"#f0f921\"]]}, \"colorway\": [\"#636efa\", \"#EF553B\", \"#00cc96\", \"#ab63fa\", \"#FFA15A\", \"#19d3f3\", \"#FF6692\", \"#B6E880\", \"#FF97FF\", \"#FECB52\"], \"font\": {\"color\": \"#2a3f5f\"}, \"geo\": {\"bgcolor\": \"white\", \"lakecolor\": \"white\", \"landcolor\": \"#E5ECF6\", \"showlakes\": true, \"showland\": true, \"subunitcolor\": \"white\"}, \"hoverlabel\": {\"align\": \"left\"}, \"hovermode\": \"closest\", \"mapbox\": {\"style\": \"light\"}, \"paper_bgcolor\": \"white\", \"plot_bgcolor\": \"#E5ECF6\", \"polar\": {\"angularaxis\": {\"gridcolor\": \"white\", \"linecolor\": \"white\", \"ticks\": \"\"}, \"bgcolor\": \"#E5ECF6\", \"radialaxis\": {\"gridcolor\": \"white\", \"linecolor\": \"white\", \"ticks\": \"\"}}, \"scene\": {\"xaxis\": {\"backgroundcolor\": \"#E5ECF6\", \"gridcolor\": \"white\", \"gridwidth\": 2, \"linecolor\": \"white\", \"showbackground\": true, \"ticks\": \"\", \"zerolinecolor\": \"white\"}, \"yaxis\": {\"backgroundcolor\": \"#E5ECF6\", \"gridcolor\": \"white\", \"gridwidth\": 2, \"linecolor\": \"white\", \"showbackground\": true, \"ticks\": \"\", \"zerolinecolor\": \"white\"}, \"zaxis\": {\"backgroundcolor\": \"#E5ECF6\", \"gridcolor\": \"white\", \"gridwidth\": 2, \"linecolor\": \"white\", \"showbackground\": true, \"ticks\": \"\", \"zerolinecolor\": \"white\"}}, \"shapedefaults\": {\"line\": {\"color\": \"#2a3f5f\"}}, \"ternary\": {\"aaxis\": {\"gridcolor\": \"white\", \"linecolor\": \"white\", \"ticks\": \"\"}, \"baxis\": {\"gridcolor\": \"white\", \"linecolor\": \"white\", \"ticks\": \"\"}, \"bgcolor\": \"#E5ECF6\", \"caxis\": {\"gridcolor\": \"white\", \"linecolor\": \"white\", \"ticks\": \"\"}}, \"title\": {\"x\": 0.05}, \"xaxis\": {\"automargin\": true, \"gridcolor\": \"white\", \"linecolor\": \"white\", \"ticks\": \"\", \"title\": {\"standoff\": 15}, \"zerolinecolor\": \"white\", \"zerolinewidth\": 2}, \"yaxis\": {\"automargin\": true, \"gridcolor\": \"white\", \"linecolor\": \"white\", \"ticks\": \"\", \"title\": {\"standoff\": 15}, \"zerolinecolor\": \"white\", \"zerolinewidth\": 2}}}, \"xaxis\": {\"title\": {\"text\": \"Epoch\"}}, \"yaxis\": {\"title\": {\"text\": \"Accuracy\"}}},\n",
       "                        {\"responsive\": true}\n",
       "                    ).then(function(){\n",
       "                            \n",
       "var gd = document.getElementById('613810fe-b49e-456a-bc38-d1a7037898fa');\n",
       "var x = new MutationObserver(function (mutations, observer) {{\n",
       "        var display = window.getComputedStyle(gd).display;\n",
       "        if (!display || display === 'none') {{\n",
       "            console.log([gd, 'removed!']);\n",
       "            Plotly.purge(gd);\n",
       "            observer.disconnect();\n",
       "        }}\n",
       "}});\n",
       "\n",
       "// Listen for the removal of the full notebook cells\n",
       "var notebookContainer = gd.closest('#notebook-container');\n",
       "if (notebookContainer) {{\n",
       "    x.observe(notebookContainer, {childList: true});\n",
       "}}\n",
       "\n",
       "// Listen for the clearing of the current output cell\n",
       "var outputEl = gd.closest('.output');\n",
       "if (outputEl) {{\n",
       "    x.observe(outputEl, {childList: true});\n",
       "}}\n",
       "\n",
       "                        })\n",
       "                };\n",
       "                \n",
       "            </script>\n",
       "        </div>\n",
       "</body>\n",
       "</html>"
      ]
     },
     "metadata": {
      "tags": []
     },
     "output_type": "display_data"
    }
   ],
   "source": [
    "# Create traces\n",
    "fig = go.Figure()\n",
    "fig.add_trace(go.Scatter(x=epochs, y=res1.history[\"accuracy\"],mode='lines', name='training set' ))\n",
    "fig.add_trace(go.Scatter(x=epochs, \n",
    "                         y=res1.history[\"val_accuracy\"],\n",
    "                         mode='lines',\n",
    "                         name='test set',\n",
    "                         marker=dict(\n",
    "                          color='red'\n",
    "                          )))\n",
    "\n",
    "#fig.update_layout(legend_title_text = \"Accuracy evolution according to number of trees\")\n",
    "fig.update_xaxes(title_text=\"Epoch\")\n",
    "fig.update_yaxes(title_text=\"Accuracy\")\n",
    "fig.show()"
   ]
  },
  {
   "cell_type": "markdown",
   "metadata": {
    "id": "LRPLwPZI6q4Q"
   },
   "source": [
    "### Modèle à 7 couches cachées "
   ]
  },
  {
   "cell_type": "code",
   "execution_count": null,
   "metadata": {
    "id": "oMSfTnYV7PGf"
   },
   "outputs": [],
   "source": [
    "model2 = Sequential()\n",
    "model2.add(Dense(nb_neurones, input_dim=x_train.shape[1], activation='relu'))\n",
    "model2.add(Dense(nb_neurones, activation='relu'))\n",
    "model2.add(Dense(nb_neurones, activation = 'relu'))\n",
    "model2.add(Dense(nb_neurones, activation = 'relu'))\n",
    "model2.add(Dense(nb_neurones, activation = 'relu'))\n",
    "model2.add(Dense(nb_neurones, activation = 'relu'))\n",
    "model2.add(Dense(nb_neurones, activation = 'relu'))\n",
    "model2.add(Dense(1, activation='sigmoid'))"
   ]
  },
  {
   "cell_type": "code",
   "execution_count": null,
   "metadata": {
    "id": "cfQiGVLP7m--"
   },
   "outputs": [],
   "source": [
    "model2.compile(loss='binary_crossentropy', optimizer='adam', metrics=['accuracy'])"
   ]
  },
  {
   "cell_type": "code",
   "execution_count": null,
   "metadata": {
    "id": "tTQVMKVU7qc7"
   },
   "outputs": [],
   "source": [
    "res2=model2.fit(x_train, y_train,validation_data=(x_test,y_test), epochs=ep, batch_size=bs)"
   ]
  },
  {
   "cell_type": "code",
   "execution_count": null,
   "metadata": {
    "id": "ScxL11Wy72Rd"
   },
   "outputs": [],
   "source": [
    "size_epochs = len(res2.history[\"accuracy\"])\n",
    "epochs = np.linspace(0,size_epochs,size_epochs+1)"
   ]
  },
  {
   "cell_type": "code",
   "execution_count": null,
   "metadata": {
    "colab": {
     "base_uri": "https://localhost:8080/",
     "height": 542
    },
    "executionInfo": {
     "elapsed": 1766,
     "status": "ok",
     "timestamp": 1620151751338,
     "user": {
      "displayName": "Astrid bn",
      "photoUrl": "",
      "userId": "03102256477269013281"
     },
     "user_tz": -120
    },
    "id": "zbZJ64Eg77Y3",
    "outputId": "8ec2346d-cce9-44de-de8c-f8cf2b5d67ff"
   },
   "outputs": [
    {
     "data": {
      "text/html": [
       "<html>\n",
       "<head><meta charset=\"utf-8\" /></head>\n",
       "<body>\n",
       "    <div>\n",
       "            <script src=\"https://cdnjs.cloudflare.com/ajax/libs/mathjax/2.7.5/MathJax.js?config=TeX-AMS-MML_SVG\"></script><script type=\"text/javascript\">if (window.MathJax) {MathJax.Hub.Config({SVG: {font: \"STIX-Web\"}});}</script>\n",
       "                <script type=\"text/javascript\">window.PlotlyConfig = {MathJaxConfig: 'local'};</script>\n",
       "        <script src=\"https://cdn.plot.ly/plotly-latest.min.js\"></script>    \n",
       "            <div id=\"a53d50c7-9dcb-4487-971f-913edaa2d35b\" class=\"plotly-graph-div\" style=\"height:525px; width:100%;\"></div>\n",
       "            <script type=\"text/javascript\">\n",
       "                \n",
       "                    window.PLOTLYENV=window.PLOTLYENV || {};\n",
       "                    \n",
       "                if (document.getElementById(\"a53d50c7-9dcb-4487-971f-913edaa2d35b\")) {\n",
       "                    Plotly.newPlot(\n",
       "                        'a53d50c7-9dcb-4487-971f-913edaa2d35b',\n",
       "                        [{\"mode\": \"lines\", \"name\": \"training set\", \"type\": \"scatter\", \"x\": [0.0, 1.0, 2.0, 3.0, 4.0, 5.0, 6.0, 7.0, 8.0, 9.0, 10.0, 11.0, 12.0, 13.0, 14.0, 15.0, 16.0, 17.0, 18.0, 19.0, 20.0, 21.0, 22.0, 23.0, 24.0, 25.0, 26.0, 27.0, 28.0, 29.0, 30.0, 31.0, 32.0, 33.0, 34.0, 35.0, 36.0, 37.0, 38.0, 39.0, 40.0, 41.0, 42.0, 43.0, 44.0, 45.0, 46.0, 47.0, 48.0, 49.0, 50.0, 51.0, 52.0, 53.0, 54.0, 55.0, 56.0, 57.0, 58.0, 59.0, 60.0, 61.0, 62.0, 63.0, 64.0, 65.0, 66.0, 67.0, 68.0, 69.0, 70.0, 71.0, 72.0, 73.0, 74.0, 75.0, 76.0, 77.0, 78.0, 79.0, 80.0, 81.0, 82.0, 83.0, 84.0, 85.0, 86.0, 87.0, 88.0, 89.0, 90.0, 91.0, 92.0, 93.0, 94.0, 95.0, 96.0, 97.0, 98.0, 99.0, 100.0, 101.0, 102.0, 103.0, 104.0, 105.0, 106.0, 107.0, 108.0, 109.0, 110.0, 111.0, 112.0, 113.0, 114.0, 115.0, 116.0, 117.0, 118.0, 119.0, 120.0, 121.0, 122.0, 123.0, 124.0, 125.0, 126.0, 127.0, 128.0, 129.0, 130.0, 131.0, 132.0, 133.0, 134.0, 135.0, 136.0, 137.0, 138.0, 139.0, 140.0, 141.0, 142.0, 143.0, 144.0, 145.0, 146.0, 147.0, 148.0, 149.0, 150.0], \"y\": [0.6552743911743164, 0.6651048064231873, 0.6792292594909668, 0.6867235898971558, 0.688370943069458, 0.6881144046783447, 0.6869125962257385, 0.6887490749359131, 0.6907340288162231, 0.6919898390769958, 0.6938937902450562, 0.6939207911491394, 0.697512686252594, 0.7001863718032837, 0.7008479833602905, 0.7030895352363586, 0.7046559453010559, 0.7074376344680786, 0.7092470526695251, 0.7095035910606384, 0.7063438296318054, 0.709692656993866, 0.7100707292556763, 0.7084773778915405, 0.7112590670585632, 0.7123528122901917, 0.7120017409324646, 0.712622880935669, 0.7149454355239868, 0.7135816216468811, 0.7126634120941162, 0.7135680913925171, 0.714256763458252, 0.716255247592926, 0.7158096432685852, 0.7145943641662598, 0.7152155041694641, 0.7193880081176758, 0.7196310758590698, 0.7188884019851685, 0.717430055141449, 0.7170384526252747, 0.7191044688224792, 0.7196850776672363, 0.7211164236068726, 0.7218591570854187, 0.7217106223106384, 0.7226018309593201, 0.7216970920562744, 0.7240466475486755, 0.7254239916801453, 0.7260856628417969, 0.7253024578094482, 0.7255995273590088, 0.7284082174301147, 0.7264367341995239, 0.7294884920120239, 0.727044403553009, 0.7288403511047363, 0.7295020222663879, 0.7309738397598267, 0.7293129563331604, 0.7324457168579102, 0.7305957674980164, 0.7307173013687134, 0.7314329743385315, 0.7339715957641602, 0.733012855052948, 0.7350113391876221, 0.7357810139656067, 0.736172616481781, 0.7370773553848267, 0.7380900979042053, 0.7386977672576904, 0.7377660274505615, 0.7369422912597656, 0.7375094294548035, 0.7412363886833191, 0.737928032875061, 0.7434778809547424, 0.7408987879753113, 0.7397915124893188, 0.7395214438438416, 0.7420060634613037, 0.7436264157295227, 0.7191584706306458, 0.74519282579422, 0.7431808114051819, 0.7434644103050232, 0.7487981915473938, 0.7447202205657959, 0.7438290119171143, 0.7496083974838257, 0.7518229484558105, 0.7487307190895081, 0.7416414618492126, 0.74977046251297, 0.7517824172973633, 0.729610025882721, 0.7462460994720459, 0.7538619637489319, 0.7482850551605225, 0.7483931183815002, 0.7524846196174622, 0.7439640164375305, 0.7519444823265076, 0.751647412776947, 0.7429918050765991, 0.7496623992919922, 0.7476909160614014, 0.7520524859428406, 0.7354569435119629, 0.7309738397598267, 0.7457194328308105, 0.743680477142334, 0.743788480758667, 0.7519309520721436, 0.7577913999557495, 0.7548881769180298, 0.7561575174331665, 0.7603164911270142, 0.7573322653770447, 0.755981981754303, 0.7536458969116211, 0.7566301226615906, 0.7592227458953857, 0.759006679058075, 0.7557793855667114, 0.7592227458953857, 0.7561439871788025, 0.7589932084083557, 0.746840238571167, 0.7514718770980835, 0.7644215226173401, 0.7658393383026123, 0.7659338712692261, 0.7676892876625061, 0.7647321224212646, 0.7686480283737183, 0.7691341638565063, 0.7671762108802795, 0.7697148323059082, 0.7696337699890137, 0.7511612772941589, 0.7253024578094482, 0.7566841244697571, 0.7707950472831726, 0.7619369029998779, 0.7707275748252869, 0.7726855278015137]}, {\"marker\": {\"color\": \"red\"}, \"mode\": \"lines\", \"name\": \"test set\", \"type\": \"scatter\", \"x\": [0.0, 1.0, 2.0, 3.0, 4.0, 5.0, 6.0, 7.0, 8.0, 9.0, 10.0, 11.0, 12.0, 13.0, 14.0, 15.0, 16.0, 17.0, 18.0, 19.0, 20.0, 21.0, 22.0, 23.0, 24.0, 25.0, 26.0, 27.0, 28.0, 29.0, 30.0, 31.0, 32.0, 33.0, 34.0, 35.0, 36.0, 37.0, 38.0, 39.0, 40.0, 41.0, 42.0, 43.0, 44.0, 45.0, 46.0, 47.0, 48.0, 49.0, 50.0, 51.0, 52.0, 53.0, 54.0, 55.0, 56.0, 57.0, 58.0, 59.0, 60.0, 61.0, 62.0, 63.0, 64.0, 65.0, 66.0, 67.0, 68.0, 69.0, 70.0, 71.0, 72.0, 73.0, 74.0, 75.0, 76.0, 77.0, 78.0, 79.0, 80.0, 81.0, 82.0, 83.0, 84.0, 85.0, 86.0, 87.0, 88.0, 89.0, 90.0, 91.0, 92.0, 93.0, 94.0, 95.0, 96.0, 97.0, 98.0, 99.0, 100.0, 101.0, 102.0, 103.0, 104.0, 105.0, 106.0, 107.0, 108.0, 109.0, 110.0, 111.0, 112.0, 113.0, 114.0, 115.0, 116.0, 117.0, 118.0, 119.0, 120.0, 121.0, 122.0, 123.0, 124.0, 125.0, 126.0, 127.0, 128.0, 129.0, 130.0, 131.0, 132.0, 133.0, 134.0, 135.0, 136.0, 137.0, 138.0, 139.0, 140.0, 141.0, 142.0, 143.0, 144.0, 145.0, 146.0, 147.0, 148.0, 149.0, 150.0], \"y\": [0.6599133610725403, 0.6818456053733826, 0.6843129992485046, 0.6932229399681091, 0.6962112188339233, 0.6912490129470825, 0.6941824555397034, 0.6935518980026245, 0.6940454244613647, 0.6922360062599182, 0.6956354975700378, 0.6921263337135315, 0.6956354975700378, 0.7021328806877136, 0.7053130865097046, 0.6380907893180847, 0.7141681909561157, 0.7097269296646118, 0.7088496685028076, 0.7146068811416626, 0.701036274433136, 0.7181708812713623, 0.7162792086601257, 0.7122765779495239, 0.7082739472389221, 0.7167452573776245, 0.7121394872665405, 0.7186369299888611, 0.7187191843986511, 0.7066290378570557, 0.7182804942131042, 0.7131812572479248, 0.7129345536231995, 0.6911668181419373, 0.720775306224823, 0.7048470377922058, 0.7163066267967224, 0.7159776091575623, 0.7084110379219055, 0.7235168218612671, 0.7143875360488892, 0.7174580693244934, 0.7069031596183777, 0.7218993306159973, 0.7281225919723511, 0.7225573062896729, 0.7086029052734375, 0.7145246267318726, 0.7306448221206665, 0.7211316823959351, 0.7260116338729858, 0.7190481424331665, 0.7266696095466614, 0.7287531495094299, 0.715813159942627, 0.7206107974052429, 0.7269437313079834, 0.7217348217964172, 0.7345377802848816, 0.7263405919075012, 0.7220364212989807, 0.7116460204124451, 0.7317688465118408, 0.732454240322113, 0.7216251492500305, 0.7202544212341309, 0.7325090765953064, 0.7224202156066895, 0.7027086019515991, 0.7332492470741272, 0.7325364351272583, 0.7333040833473206, 0.7302883863449097, 0.7322623133659363, 0.7030102014541626, 0.7382662296295166, 0.7329751253128052, 0.7445169687271118, 0.733441174030304, 0.7423511147499084, 0.7351957559585571, 0.733879804611206, 0.7413093447685242, 0.7409803867340088, 0.7404595017433167, 0.744242787361145, 0.7485470175743103, 0.7475600242614746, 0.7335782647132874, 0.737251877784729, 0.7393903136253357, 0.7421866655349731, 0.7408707141876221, 0.7386775016784668, 0.747697114944458, 0.7460522055625916, 0.7398015260696411, 0.7388693690299988, 0.7353602647781372, 0.7526044249534607, 0.7471762299537659, 0.7358811497688293, 0.7411448359489441, 0.737251877784729, 0.7292191982269287, 0.7435025572776794, 0.7264776825904846, 0.7034762501716614, 0.7202544212341309, 0.7536736726760864, 0.7581971883773804, 0.6970610618591309, 0.7542219758033752, 0.7463811635971069, 0.7354698777198792, 0.7421592473983765, 0.7598146796226501, 0.7484647631645203, 0.7571005821228027, 0.7497258186340332, 0.7633512616157532, 0.758416473865509, 0.7452023029327393, 0.7452845573425293, 0.7549073100090027, 0.7649413347244263, 0.7349215745925903, 0.7464359998703003, 0.7464085817337036, 0.7532349824905396, 0.763899564743042, 0.7269711494445801, 0.7541397213935852, 0.7436944842338562, 0.7449007630348206, 0.7637076377868652, 0.7461070418357849, 0.7649961709976196, 0.7634609341621399, 0.7637076377868652, 0.7394176721572876, 0.7469568848609924, 0.7490679025650024, 0.7027360200881958, 0.7193496823310852, 0.7637076377868652, 0.767436146736145, 0.7365117073059082, 0.7631593346595764, 0.7555104494094849]}],\n",
       "                        {\"template\": {\"data\": {\"bar\": [{\"error_x\": {\"color\": \"#2a3f5f\"}, \"error_y\": {\"color\": \"#2a3f5f\"}, \"marker\": {\"line\": {\"color\": \"#E5ECF6\", \"width\": 0.5}}, \"type\": \"bar\"}], \"barpolar\": [{\"marker\": {\"line\": {\"color\": \"#E5ECF6\", \"width\": 0.5}}, \"type\": \"barpolar\"}], \"carpet\": [{\"aaxis\": {\"endlinecolor\": \"#2a3f5f\", \"gridcolor\": \"white\", \"linecolor\": \"white\", \"minorgridcolor\": \"white\", \"startlinecolor\": \"#2a3f5f\"}, \"baxis\": {\"endlinecolor\": \"#2a3f5f\", \"gridcolor\": \"white\", \"linecolor\": \"white\", \"minorgridcolor\": \"white\", \"startlinecolor\": \"#2a3f5f\"}, \"type\": \"carpet\"}], \"choropleth\": [{\"colorbar\": {\"outlinewidth\": 0, \"ticks\": \"\"}, \"type\": \"choropleth\"}], \"contour\": [{\"colorbar\": {\"outlinewidth\": 0, \"ticks\": \"\"}, \"colorscale\": [[0.0, \"#0d0887\"], [0.1111111111111111, \"#46039f\"], [0.2222222222222222, \"#7201a8\"], [0.3333333333333333, \"#9c179e\"], [0.4444444444444444, \"#bd3786\"], [0.5555555555555556, \"#d8576b\"], [0.6666666666666666, \"#ed7953\"], [0.7777777777777778, \"#fb9f3a\"], [0.8888888888888888, \"#fdca26\"], [1.0, \"#f0f921\"]], \"type\": \"contour\"}], \"contourcarpet\": [{\"colorbar\": {\"outlinewidth\": 0, \"ticks\": \"\"}, \"type\": \"contourcarpet\"}], \"heatmap\": [{\"colorbar\": {\"outlinewidth\": 0, \"ticks\": \"\"}, \"colorscale\": [[0.0, \"#0d0887\"], [0.1111111111111111, \"#46039f\"], [0.2222222222222222, \"#7201a8\"], [0.3333333333333333, \"#9c179e\"], [0.4444444444444444, \"#bd3786\"], [0.5555555555555556, \"#d8576b\"], [0.6666666666666666, \"#ed7953\"], [0.7777777777777778, \"#fb9f3a\"], [0.8888888888888888, \"#fdca26\"], [1.0, \"#f0f921\"]], \"type\": \"heatmap\"}], \"heatmapgl\": [{\"colorbar\": {\"outlinewidth\": 0, \"ticks\": \"\"}, \"colorscale\": [[0.0, \"#0d0887\"], [0.1111111111111111, \"#46039f\"], [0.2222222222222222, \"#7201a8\"], [0.3333333333333333, \"#9c179e\"], [0.4444444444444444, \"#bd3786\"], [0.5555555555555556, \"#d8576b\"], [0.6666666666666666, \"#ed7953\"], [0.7777777777777778, \"#fb9f3a\"], [0.8888888888888888, \"#fdca26\"], [1.0, \"#f0f921\"]], \"type\": \"heatmapgl\"}], \"histogram\": [{\"marker\": {\"colorbar\": {\"outlinewidth\": 0, \"ticks\": \"\"}}, \"type\": \"histogram\"}], \"histogram2d\": [{\"colorbar\": {\"outlinewidth\": 0, \"ticks\": \"\"}, \"colorscale\": [[0.0, \"#0d0887\"], [0.1111111111111111, \"#46039f\"], [0.2222222222222222, \"#7201a8\"], [0.3333333333333333, \"#9c179e\"], [0.4444444444444444, \"#bd3786\"], [0.5555555555555556, \"#d8576b\"], [0.6666666666666666, \"#ed7953\"], [0.7777777777777778, \"#fb9f3a\"], [0.8888888888888888, \"#fdca26\"], [1.0, \"#f0f921\"]], \"type\": \"histogram2d\"}], \"histogram2dcontour\": [{\"colorbar\": {\"outlinewidth\": 0, \"ticks\": \"\"}, \"colorscale\": [[0.0, \"#0d0887\"], [0.1111111111111111, \"#46039f\"], [0.2222222222222222, \"#7201a8\"], [0.3333333333333333, \"#9c179e\"], [0.4444444444444444, \"#bd3786\"], [0.5555555555555556, \"#d8576b\"], [0.6666666666666666, \"#ed7953\"], [0.7777777777777778, \"#fb9f3a\"], [0.8888888888888888, \"#fdca26\"], [1.0, \"#f0f921\"]], \"type\": \"histogram2dcontour\"}], \"mesh3d\": [{\"colorbar\": {\"outlinewidth\": 0, \"ticks\": \"\"}, \"type\": \"mesh3d\"}], \"parcoords\": [{\"line\": {\"colorbar\": {\"outlinewidth\": 0, \"ticks\": \"\"}}, \"type\": \"parcoords\"}], \"pie\": [{\"automargin\": true, \"type\": \"pie\"}], \"scatter\": [{\"marker\": {\"colorbar\": {\"outlinewidth\": 0, \"ticks\": \"\"}}, \"type\": \"scatter\"}], \"scatter3d\": [{\"line\": {\"colorbar\": {\"outlinewidth\": 0, \"ticks\": \"\"}}, \"marker\": {\"colorbar\": {\"outlinewidth\": 0, \"ticks\": \"\"}}, \"type\": \"scatter3d\"}], \"scattercarpet\": [{\"marker\": {\"colorbar\": {\"outlinewidth\": 0, \"ticks\": \"\"}}, \"type\": \"scattercarpet\"}], \"scattergeo\": [{\"marker\": {\"colorbar\": {\"outlinewidth\": 0, \"ticks\": \"\"}}, \"type\": \"scattergeo\"}], \"scattergl\": [{\"marker\": {\"colorbar\": {\"outlinewidth\": 0, \"ticks\": \"\"}}, \"type\": \"scattergl\"}], \"scattermapbox\": [{\"marker\": {\"colorbar\": {\"outlinewidth\": 0, \"ticks\": \"\"}}, \"type\": \"scattermapbox\"}], \"scatterpolar\": [{\"marker\": {\"colorbar\": {\"outlinewidth\": 0, \"ticks\": \"\"}}, \"type\": \"scatterpolar\"}], \"scatterpolargl\": [{\"marker\": {\"colorbar\": {\"outlinewidth\": 0, \"ticks\": \"\"}}, \"type\": \"scatterpolargl\"}], \"scatterternary\": [{\"marker\": {\"colorbar\": {\"outlinewidth\": 0, \"ticks\": \"\"}}, \"type\": \"scatterternary\"}], \"surface\": [{\"colorbar\": {\"outlinewidth\": 0, \"ticks\": \"\"}, \"colorscale\": [[0.0, \"#0d0887\"], [0.1111111111111111, \"#46039f\"], [0.2222222222222222, \"#7201a8\"], [0.3333333333333333, \"#9c179e\"], [0.4444444444444444, \"#bd3786\"], [0.5555555555555556, \"#d8576b\"], [0.6666666666666666, \"#ed7953\"], [0.7777777777777778, \"#fb9f3a\"], [0.8888888888888888, \"#fdca26\"], [1.0, \"#f0f921\"]], \"type\": \"surface\"}], \"table\": [{\"cells\": {\"fill\": {\"color\": \"#EBF0F8\"}, \"line\": {\"color\": \"white\"}}, \"header\": {\"fill\": {\"color\": \"#C8D4E3\"}, \"line\": {\"color\": \"white\"}}, \"type\": \"table\"}]}, \"layout\": {\"annotationdefaults\": {\"arrowcolor\": \"#2a3f5f\", \"arrowhead\": 0, \"arrowwidth\": 1}, \"coloraxis\": {\"colorbar\": {\"outlinewidth\": 0, \"ticks\": \"\"}}, \"colorscale\": {\"diverging\": [[0, \"#8e0152\"], [0.1, \"#c51b7d\"], [0.2, \"#de77ae\"], [0.3, \"#f1b6da\"], [0.4, \"#fde0ef\"], [0.5, \"#f7f7f7\"], [0.6, \"#e6f5d0\"], [0.7, \"#b8e186\"], [0.8, \"#7fbc41\"], [0.9, \"#4d9221\"], [1, \"#276419\"]], \"sequential\": [[0.0, \"#0d0887\"], [0.1111111111111111, \"#46039f\"], [0.2222222222222222, \"#7201a8\"], [0.3333333333333333, \"#9c179e\"], [0.4444444444444444, \"#bd3786\"], [0.5555555555555556, \"#d8576b\"], [0.6666666666666666, \"#ed7953\"], [0.7777777777777778, \"#fb9f3a\"], [0.8888888888888888, \"#fdca26\"], [1.0, \"#f0f921\"]], \"sequentialminus\": [[0.0, \"#0d0887\"], [0.1111111111111111, \"#46039f\"], [0.2222222222222222, \"#7201a8\"], [0.3333333333333333, \"#9c179e\"], [0.4444444444444444, \"#bd3786\"], [0.5555555555555556, \"#d8576b\"], [0.6666666666666666, \"#ed7953\"], [0.7777777777777778, \"#fb9f3a\"], [0.8888888888888888, \"#fdca26\"], [1.0, \"#f0f921\"]]}, \"colorway\": [\"#636efa\", \"#EF553B\", \"#00cc96\", \"#ab63fa\", \"#FFA15A\", \"#19d3f3\", \"#FF6692\", \"#B6E880\", \"#FF97FF\", \"#FECB52\"], \"font\": {\"color\": \"#2a3f5f\"}, \"geo\": {\"bgcolor\": \"white\", \"lakecolor\": \"white\", \"landcolor\": \"#E5ECF6\", \"showlakes\": true, \"showland\": true, \"subunitcolor\": \"white\"}, \"hoverlabel\": {\"align\": \"left\"}, \"hovermode\": \"closest\", \"mapbox\": {\"style\": \"light\"}, \"paper_bgcolor\": \"white\", \"plot_bgcolor\": \"#E5ECF6\", \"polar\": {\"angularaxis\": {\"gridcolor\": \"white\", \"linecolor\": \"white\", \"ticks\": \"\"}, \"bgcolor\": \"#E5ECF6\", \"radialaxis\": {\"gridcolor\": \"white\", \"linecolor\": \"white\", \"ticks\": \"\"}}, \"scene\": {\"xaxis\": {\"backgroundcolor\": \"#E5ECF6\", \"gridcolor\": \"white\", \"gridwidth\": 2, \"linecolor\": \"white\", \"showbackground\": true, \"ticks\": \"\", \"zerolinecolor\": \"white\"}, \"yaxis\": {\"backgroundcolor\": \"#E5ECF6\", \"gridcolor\": \"white\", \"gridwidth\": 2, \"linecolor\": \"white\", \"showbackground\": true, \"ticks\": \"\", \"zerolinecolor\": \"white\"}, \"zaxis\": {\"backgroundcolor\": \"#E5ECF6\", \"gridcolor\": \"white\", \"gridwidth\": 2, \"linecolor\": \"white\", \"showbackground\": true, \"ticks\": \"\", \"zerolinecolor\": \"white\"}}, \"shapedefaults\": {\"line\": {\"color\": \"#2a3f5f\"}}, \"ternary\": {\"aaxis\": {\"gridcolor\": \"white\", \"linecolor\": \"white\", \"ticks\": \"\"}, \"baxis\": {\"gridcolor\": \"white\", \"linecolor\": \"white\", \"ticks\": \"\"}, \"bgcolor\": \"#E5ECF6\", \"caxis\": {\"gridcolor\": \"white\", \"linecolor\": \"white\", \"ticks\": \"\"}}, \"title\": {\"x\": 0.05}, \"xaxis\": {\"automargin\": true, \"gridcolor\": \"white\", \"linecolor\": \"white\", \"ticks\": \"\", \"title\": {\"standoff\": 15}, \"zerolinecolor\": \"white\", \"zerolinewidth\": 2}, \"yaxis\": {\"automargin\": true, \"gridcolor\": \"white\", \"linecolor\": \"white\", \"ticks\": \"\", \"title\": {\"standoff\": 15}, \"zerolinecolor\": \"white\", \"zerolinewidth\": 2}}}, \"xaxis\": {\"title\": {\"text\": \"Epoch\"}}, \"yaxis\": {\"title\": {\"text\": \"Accuracy\"}}},\n",
       "                        {\"responsive\": true}\n",
       "                    ).then(function(){\n",
       "                            \n",
       "var gd = document.getElementById('a53d50c7-9dcb-4487-971f-913edaa2d35b');\n",
       "var x = new MutationObserver(function (mutations, observer) {{\n",
       "        var display = window.getComputedStyle(gd).display;\n",
       "        if (!display || display === 'none') {{\n",
       "            console.log([gd, 'removed!']);\n",
       "            Plotly.purge(gd);\n",
       "            observer.disconnect();\n",
       "        }}\n",
       "}});\n",
       "\n",
       "// Listen for the removal of the full notebook cells\n",
       "var notebookContainer = gd.closest('#notebook-container');\n",
       "if (notebookContainer) {{\n",
       "    x.observe(notebookContainer, {childList: true});\n",
       "}}\n",
       "\n",
       "// Listen for the clearing of the current output cell\n",
       "var outputEl = gd.closest('.output');\n",
       "if (outputEl) {{\n",
       "    x.observe(outputEl, {childList: true});\n",
       "}}\n",
       "\n",
       "                        })\n",
       "                };\n",
       "                \n",
       "            </script>\n",
       "        </div>\n",
       "</body>\n",
       "</html>"
      ]
     },
     "metadata": {
      "tags": []
     },
     "output_type": "display_data"
    }
   ],
   "source": [
    "# Create traces\n",
    "fig = go.Figure()\n",
    "fig.add_trace(go.Scatter(x=epochs, y=res2.history[\"accuracy\"],mode='lines', name='training set' ))\n",
    "fig.add_trace(go.Scatter(x=epochs, \n",
    "                         y=res2.history[\"val_accuracy\"],\n",
    "                         mode='lines',\n",
    "                         name='test set',\n",
    "                         marker=dict(\n",
    "                          color='red'\n",
    "                          )))\n",
    "\n",
    "#fig.update_layout(legend_title_text = \"Accuracy evolution according to number of trees\")\n",
    "fig.update_xaxes(title_text=\"Epoch\")\n",
    "fig.update_yaxes(title_text=\"Accuracy\")\n",
    "fig.show()"
   ]
  },
  {
   "cell_type": "markdown",
   "metadata": {
    "id": "7zYcDdbB7KV5"
   },
   "source": [
    "### Modèle à 10 couches cachées "
   ]
  },
  {
   "cell_type": "code",
   "execution_count": null,
   "metadata": {
    "id": "VODSMgRn7NXW"
   },
   "outputs": [],
   "source": [
    "model3 = Sequential()\n",
    "model3.add(Dense(nb_neurones, input_dim=x_train.shape[1], activation='relu'))\n",
    "model3.add(Dense(nb_neurones, activation='relu'))\n",
    "model3.add(Dense(nb_neurones, activation = 'relu'))\n",
    "model3.add(Dense(nb_neurones, activation = 'relu'))\n",
    "model3.add(Dense(nb_neurones, activation = 'relu'))\n",
    "model3.add(Dense(nb_neurones, activation = 'relu'))\n",
    "model3.add(Dense(nb_neurones, activation = 'relu'))\n",
    "model3.add(Dense(1, activation='sigmoid'))"
   ]
  },
  {
   "cell_type": "code",
   "execution_count": null,
   "metadata": {
    "id": "lZxlwtbY7ovs"
   },
   "outputs": [],
   "source": [
    "model3.compile(loss='binary_crossentropy', optimizer='adam', metrics=['accuracy'])"
   ]
  },
  {
   "cell_type": "code",
   "execution_count": null,
   "metadata": {
    "id": "mzbbFh3J7rAD"
   },
   "outputs": [],
   "source": [
    "res3=model3.fit(x_train, y_train,validation_data=(x_test,y_test), epochs=ep, batch_size=bs)"
   ]
  },
  {
   "cell_type": "code",
   "execution_count": null,
   "metadata": {
    "id": "zZqMVNnt73pQ"
   },
   "outputs": [],
   "source": [
    "size_epochs = len(res3.history[\"accuracy\"])\n",
    "epochs = np.linspace(0,size_epochs,size_epochs+1)"
   ]
  },
  {
   "cell_type": "code",
   "execution_count": null,
   "metadata": {
    "colab": {
     "base_uri": "https://localhost:8080/",
     "height": 542
    },
    "executionInfo": {
     "elapsed": 1846,
     "status": "ok",
     "timestamp": 1620158103536,
     "user": {
      "displayName": "Astrid bn",
      "photoUrl": "",
      "userId": "03102256477269013281"
     },
     "user_tz": -120
    },
    "id": "LgjscaBv7_lM",
    "outputId": "4c2fcf35-eb4a-48cb-fb65-7b5f46f2e2d9"
   },
   "outputs": [
    {
     "data": {
      "text/html": [
       "<html>\n",
       "<head><meta charset=\"utf-8\" /></head>\n",
       "<body>\n",
       "    <div>\n",
       "            <script src=\"https://cdnjs.cloudflare.com/ajax/libs/mathjax/2.7.5/MathJax.js?config=TeX-AMS-MML_SVG\"></script><script type=\"text/javascript\">if (window.MathJax) {MathJax.Hub.Config({SVG: {font: \"STIX-Web\"}});}</script>\n",
       "                <script type=\"text/javascript\">window.PlotlyConfig = {MathJaxConfig: 'local'};</script>\n",
       "        <script src=\"https://cdn.plot.ly/plotly-latest.min.js\"></script>    \n",
       "            <div id=\"62a34758-bcc2-400e-ba8a-14692f5505e0\" class=\"plotly-graph-div\" style=\"height:525px; width:100%;\"></div>\n",
       "            <script type=\"text/javascript\">\n",
       "                \n",
       "                    window.PLOTLYENV=window.PLOTLYENV || {};\n",
       "                    \n",
       "                if (document.getElementById(\"62a34758-bcc2-400e-ba8a-14692f5505e0\")) {\n",
       "                    Plotly.newPlot(\n",
       "                        '62a34758-bcc2-400e-ba8a-14692f5505e0',\n",
       "                        [{\"mode\": \"lines\", \"name\": \"training set\", \"type\": \"scatter\", \"x\": [0.0, 1.0, 2.0, 3.0, 4.0, 5.0, 6.0, 7.0, 8.0, 9.0, 10.0, 11.0, 12.0, 13.0, 14.0, 15.0, 16.0, 17.0, 18.0, 19.0, 20.0, 21.0, 22.0, 23.0, 24.0, 25.0, 26.0, 27.0, 28.0, 29.0, 30.0, 31.0, 32.0, 33.0, 34.0, 35.0, 36.0, 37.0, 38.0, 39.0, 40.0, 41.0, 42.0, 43.0, 44.0, 45.0, 46.0, 47.0, 48.0, 49.0, 50.0, 51.0, 52.0, 53.0, 54.0, 55.0, 56.0, 57.0, 58.0, 59.0, 60.0, 61.0, 62.0, 63.0, 64.0, 65.0, 66.0, 67.0, 68.0, 69.0, 70.0, 71.0, 72.0, 73.0, 74.0, 75.0, 76.0, 77.0, 78.0, 79.0, 80.0, 81.0, 82.0, 83.0, 84.0, 85.0, 86.0, 87.0, 88.0, 89.0, 90.0, 91.0, 92.0, 93.0, 94.0, 95.0, 96.0, 97.0, 98.0, 99.0, 100.0, 101.0, 102.0, 103.0, 104.0, 105.0, 106.0, 107.0, 108.0, 109.0, 110.0, 111.0, 112.0, 113.0, 114.0, 115.0, 116.0, 117.0, 118.0, 119.0, 120.0, 121.0, 122.0, 123.0, 124.0, 125.0, 126.0, 127.0, 128.0, 129.0, 130.0, 131.0, 132.0, 133.0, 134.0, 135.0, 136.0, 137.0, 138.0, 139.0, 140.0, 141.0, 142.0, 143.0, 144.0, 145.0, 146.0, 147.0, 148.0, 149.0, 150.0], \"y\": [0.6558955311775208, 0.6650102734565735, 0.6747866272926331, 0.6829696297645569, 0.6866830587387085, 0.6874797344207764, 0.6856837868690491, 0.6902478933334351, 0.6920573711395264, 0.6909500956535339, 0.6917062997817993, 0.6928675770759583, 0.6942043900489807, 0.6981608271598816, 0.7009425163269043, 0.7021173238754272, 0.7049530148506165, 0.705115020275116, 0.7074241042137146, 0.7060602903366089, 0.7092875838279724, 0.70993572473526, 0.7121502757072449, 0.7128119468688965, 0.7122042775154114, 0.7134735584259033, 0.7137706875801086, 0.7146618962287903, 0.7136491537094116, 0.7180511951446533, 0.7154991030693054, 0.7186723351478577, 0.719077467918396, 0.7193340063095093, 0.7182537317276001, 0.7194015383720398, 0.7176055908203125, 0.7213730216026306, 0.723884642124176, 0.7230879068374634, 0.7235740423202515, 0.7263557314872742, 0.726936399936676, 0.7287592887878418, 0.7274900078773499, 0.730217695236206, 0.7304202318191528, 0.7300421595573425, 0.7305957674980164, 0.7301771640777588, 0.7324592471122742, 0.7338500618934631, 0.7363616824150085, 0.7358890771865845, 0.7366047501564026, 0.7369828224182129, 0.7387382388114929, 0.7384951710700989, 0.7374824285507202, 0.7383601665496826, 0.7407232522964478, 0.7404801845550537, 0.7429918050765991, 0.7413578629493713, 0.7458004951477051, 0.7188208699226379, 0.7396564483642578, 0.7425732016563416, 0.7447877526283264, 0.743910014629364, 0.7449767589569092, 0.7460435628890991, 0.7475423812866211, 0.7490817904472351, 0.7475019097328186, 0.7519444823265076, 0.7524440884590149, 0.7545101046562195, 0.7579264044761658, 0.7586016058921814, 0.7571297287940979, 0.7512288093566895, 0.7601950168609619, 0.756076455116272, 0.7421815991401672, 0.7376174926757812, 0.7602894902229309, 0.7636788487434387, 0.762423038482666, 0.7651911973953247, 0.7657313346862793, 0.7596818804740906, 0.767095148563385, 0.7714702486991882, 0.7547666430473328, 0.7712947130203247, 0.757602334022522, 0.7702144384384155, 0.7722264528274536, 0.7757372856140137, 0.7567381262779236, 0.7676622867584229, 0.7721183896064758, 0.7529706954956055, 0.7373204231262207, 0.7227503657341003, 0.7346332669258118, 0.7666225433349609, 0.7673922181129456, 0.7788160443305969, 0.7651236653327942, 0.7788970470428467, 0.7819218039512634, 0.7073701024055481, 0.7243977785110474, 0.7524170875549316, 0.776007354259491, 0.7791401147842407, 0.7497029304504395, 0.688249409198761, 0.7161607146263123, 0.7580209374427795, 0.7620854377746582, 0.7752646803855896, 0.7811521291732788, 0.7780328392982483, 0.7273684740066528, 0.748231053352356, 0.7517824172973633, 0.7675137519836426, 0.7819622755050659, 0.7475964426994324, 0.7554553151130676, 0.7772901654243469, 0.7887544631958008, 0.7655152678489685, 0.7868235111236572, 0.7741708755493164, 0.7803149223327637, 0.765690803527832, 0.7688910961151123, 0.7741304039955139, 0.791576623916626, 0.7866614460945129, 0.7572107315063477, 0.7615048289299011, 0.740628719329834, 0.7757102847099304, 0.7808820605278015, 0.7784379124641418]}, {\"marker\": {\"color\": \"red\"}, \"mode\": \"lines\", \"name\": \"test set\", \"type\": \"scatter\", \"x\": [0.0, 1.0, 2.0, 3.0, 4.0, 5.0, 6.0, 7.0, 8.0, 9.0, 10.0, 11.0, 12.0, 13.0, 14.0, 15.0, 16.0, 17.0, 18.0, 19.0, 20.0, 21.0, 22.0, 23.0, 24.0, 25.0, 26.0, 27.0, 28.0, 29.0, 30.0, 31.0, 32.0, 33.0, 34.0, 35.0, 36.0, 37.0, 38.0, 39.0, 40.0, 41.0, 42.0, 43.0, 44.0, 45.0, 46.0, 47.0, 48.0, 49.0, 50.0, 51.0, 52.0, 53.0, 54.0, 55.0, 56.0, 57.0, 58.0, 59.0, 60.0, 61.0, 62.0, 63.0, 64.0, 65.0, 66.0, 67.0, 68.0, 69.0, 70.0, 71.0, 72.0, 73.0, 74.0, 75.0, 76.0, 77.0, 78.0, 79.0, 80.0, 81.0, 82.0, 83.0, 84.0, 85.0, 86.0, 87.0, 88.0, 89.0, 90.0, 91.0, 92.0, 93.0, 94.0, 95.0, 96.0, 97.0, 98.0, 99.0, 100.0, 101.0, 102.0, 103.0, 104.0, 105.0, 106.0, 107.0, 108.0, 109.0, 110.0, 111.0, 112.0, 113.0, 114.0, 115.0, 116.0, 117.0, 118.0, 119.0, 120.0, 121.0, 122.0, 123.0, 124.0, 125.0, 126.0, 127.0, 128.0, 129.0, 130.0, 131.0, 132.0, 133.0, 134.0, 135.0, 136.0, 137.0, 138.0, 139.0, 140.0, 141.0, 142.0, 143.0, 144.0, 145.0, 146.0, 147.0, 148.0, 149.0, 150.0], \"y\": [0.662243664264679, 0.6837098598480225, 0.6845322847366333, 0.6896863579750061, 0.6935244798660278, 0.6888639330863953, 0.6913861036300659, 0.6860127449035645, 0.6916054487228394, 0.6961015462875366, 0.6970336437225342, 0.6977738738059998, 0.702187716960907, 0.6928939819335938, 0.7014749646186829, 0.7062177658081055, 0.7112348079681396, 0.7010911107063293, 0.6822842359542847, 0.7029553651809692, 0.7086577415466309, 0.7151003479957581, 0.7013378739356995, 0.7066564559936523, 0.6965950131416321, 0.7126603722572327, 0.710055947303772, 0.7175403237342834, 0.7149632573127747, 0.7099188566207886, 0.7147165536880493, 0.722995936870575, 0.7124136686325073, 0.7259019613265991, 0.7200899124145508, 0.7221735119819641, 0.7110154628753662, 0.7195964455604553, 0.7133183479309082, 0.7218170762062073, 0.7296030521392822, 0.716964602470398, 0.7267518639564514, 0.7308092713356018, 0.7221186757087708, 0.7289999127388, 0.7347297072410583, 0.7244489789009094, 0.7328654527664185, 0.7174306511878967, 0.7297400832176208, 0.7370874285697937, 0.7118105292320251, 0.7205011248588562, 0.7341814041137695, 0.6656705737113953, 0.7295482158660889, 0.735826313495636, 0.7322623133659363, 0.7356892228126526, 0.7389242053031921, 0.7292466163635254, 0.7329202890396118, 0.7447636723518372, 0.7395821809768677, 0.7398563623428345, 0.7374438047409058, 0.7406513690948486, 0.7494242787361145, 0.7442702054977417, 0.7480809092521667, 0.7475874423980713, 0.7451748847961426, 0.7516997456550598, 0.7445991635322571, 0.748766303062439, 0.7239006757736206, 0.7518094182014465, 0.7515900731086731, 0.7450652718544006, 0.7583616375923157, 0.7554008364677429, 0.7496436238288879, 0.6801732778549194, 0.7591018676757812, 0.7293837070465088, 0.7586358189582825, 0.7719048261642456, 0.7294933795928955, 0.7732481360435486, 0.7145520448684692, 0.7580875158309937, 0.7524399757385254, 0.7528237700462341, 0.767353892326355, 0.7151826024055481, 0.7599243521690369, 0.7651058435440063, 0.7508772611618042, 0.7709452509880066, 0.7203640937805176, 0.7574295401573181, 0.7692729234695435, 0.7273549437522888, 0.7070950865745544, 0.7201721668243408, 0.748848557472229, 0.711289644241333, 0.7741802930831909, 0.7804309725761414, 0.7621175646781921, 0.7859140038490295, 0.7812808156013489, 0.7152100205421448, 0.6693716645240784, 0.7624739408493042, 0.7746463418006897, 0.7870106101036072, 0.6618598699569702, 0.6881511211395264, 0.747697114944458, 0.7526044249534607, 0.7811986207962036, 0.7797455787658691, 0.7690262198448181, 0.7829532027244568, 0.7077256441116333, 0.7726176381111145, 0.720857560634613, 0.7818565368652344, 0.7866542339324951, 0.7085754871368408, 0.7749205231666565, 0.7899166345596313, 0.7847625613212585, 0.7528237700462341, 0.7931516766548157, 0.7785392999649048, 0.7972365617752075, 0.7226943969726562, 0.7660105228424072, 0.7922195196151733, 0.788792610168457, 0.7149632573127747, 0.7882991433143616, 0.7302335500717163, 0.731412410736084, 0.7847351431846619, 0.736977756023407, 0.793042004108429]}],\n",
       "                        {\"template\": {\"data\": {\"bar\": [{\"error_x\": {\"color\": \"#2a3f5f\"}, \"error_y\": {\"color\": \"#2a3f5f\"}, \"marker\": {\"line\": {\"color\": \"#E5ECF6\", \"width\": 0.5}}, \"type\": \"bar\"}], \"barpolar\": [{\"marker\": {\"line\": {\"color\": \"#E5ECF6\", \"width\": 0.5}}, \"type\": \"barpolar\"}], \"carpet\": [{\"aaxis\": {\"endlinecolor\": \"#2a3f5f\", \"gridcolor\": \"white\", \"linecolor\": \"white\", \"minorgridcolor\": \"white\", \"startlinecolor\": \"#2a3f5f\"}, \"baxis\": {\"endlinecolor\": \"#2a3f5f\", \"gridcolor\": \"white\", \"linecolor\": \"white\", \"minorgridcolor\": \"white\", \"startlinecolor\": \"#2a3f5f\"}, \"type\": \"carpet\"}], \"choropleth\": [{\"colorbar\": {\"outlinewidth\": 0, \"ticks\": \"\"}, \"type\": \"choropleth\"}], \"contour\": [{\"colorbar\": {\"outlinewidth\": 0, \"ticks\": \"\"}, \"colorscale\": [[0.0, \"#0d0887\"], [0.1111111111111111, \"#46039f\"], [0.2222222222222222, \"#7201a8\"], [0.3333333333333333, \"#9c179e\"], [0.4444444444444444, \"#bd3786\"], [0.5555555555555556, \"#d8576b\"], [0.6666666666666666, \"#ed7953\"], [0.7777777777777778, \"#fb9f3a\"], [0.8888888888888888, \"#fdca26\"], [1.0, \"#f0f921\"]], \"type\": \"contour\"}], \"contourcarpet\": [{\"colorbar\": {\"outlinewidth\": 0, \"ticks\": \"\"}, \"type\": \"contourcarpet\"}], \"heatmap\": [{\"colorbar\": {\"outlinewidth\": 0, \"ticks\": \"\"}, \"colorscale\": [[0.0, \"#0d0887\"], [0.1111111111111111, \"#46039f\"], [0.2222222222222222, \"#7201a8\"], [0.3333333333333333, \"#9c179e\"], [0.4444444444444444, \"#bd3786\"], [0.5555555555555556, \"#d8576b\"], [0.6666666666666666, \"#ed7953\"], [0.7777777777777778, \"#fb9f3a\"], [0.8888888888888888, \"#fdca26\"], [1.0, \"#f0f921\"]], \"type\": \"heatmap\"}], \"heatmapgl\": [{\"colorbar\": {\"outlinewidth\": 0, \"ticks\": \"\"}, \"colorscale\": [[0.0, \"#0d0887\"], [0.1111111111111111, \"#46039f\"], [0.2222222222222222, \"#7201a8\"], [0.3333333333333333, \"#9c179e\"], [0.4444444444444444, \"#bd3786\"], [0.5555555555555556, \"#d8576b\"], [0.6666666666666666, \"#ed7953\"], [0.7777777777777778, \"#fb9f3a\"], [0.8888888888888888, \"#fdca26\"], [1.0, \"#f0f921\"]], \"type\": \"heatmapgl\"}], \"histogram\": [{\"marker\": {\"colorbar\": {\"outlinewidth\": 0, \"ticks\": \"\"}}, \"type\": \"histogram\"}], \"histogram2d\": [{\"colorbar\": {\"outlinewidth\": 0, \"ticks\": \"\"}, \"colorscale\": [[0.0, \"#0d0887\"], [0.1111111111111111, \"#46039f\"], [0.2222222222222222, \"#7201a8\"], [0.3333333333333333, \"#9c179e\"], [0.4444444444444444, \"#bd3786\"], [0.5555555555555556, \"#d8576b\"], [0.6666666666666666, \"#ed7953\"], [0.7777777777777778, \"#fb9f3a\"], [0.8888888888888888, \"#fdca26\"], [1.0, \"#f0f921\"]], \"type\": \"histogram2d\"}], \"histogram2dcontour\": [{\"colorbar\": {\"outlinewidth\": 0, \"ticks\": \"\"}, \"colorscale\": [[0.0, \"#0d0887\"], [0.1111111111111111, \"#46039f\"], [0.2222222222222222, \"#7201a8\"], [0.3333333333333333, \"#9c179e\"], [0.4444444444444444, \"#bd3786\"], [0.5555555555555556, \"#d8576b\"], [0.6666666666666666, \"#ed7953\"], [0.7777777777777778, \"#fb9f3a\"], [0.8888888888888888, \"#fdca26\"], [1.0, \"#f0f921\"]], \"type\": \"histogram2dcontour\"}], \"mesh3d\": [{\"colorbar\": {\"outlinewidth\": 0, \"ticks\": \"\"}, \"type\": \"mesh3d\"}], \"parcoords\": [{\"line\": {\"colorbar\": {\"outlinewidth\": 0, \"ticks\": \"\"}}, \"type\": \"parcoords\"}], \"pie\": [{\"automargin\": true, \"type\": \"pie\"}], \"scatter\": [{\"marker\": {\"colorbar\": {\"outlinewidth\": 0, \"ticks\": \"\"}}, \"type\": \"scatter\"}], \"scatter3d\": [{\"line\": {\"colorbar\": {\"outlinewidth\": 0, \"ticks\": \"\"}}, \"marker\": {\"colorbar\": {\"outlinewidth\": 0, \"ticks\": \"\"}}, \"type\": \"scatter3d\"}], \"scattercarpet\": [{\"marker\": {\"colorbar\": {\"outlinewidth\": 0, \"ticks\": \"\"}}, \"type\": \"scattercarpet\"}], \"scattergeo\": [{\"marker\": {\"colorbar\": {\"outlinewidth\": 0, \"ticks\": \"\"}}, \"type\": \"scattergeo\"}], \"scattergl\": [{\"marker\": {\"colorbar\": {\"outlinewidth\": 0, \"ticks\": \"\"}}, \"type\": \"scattergl\"}], \"scattermapbox\": [{\"marker\": {\"colorbar\": {\"outlinewidth\": 0, \"ticks\": \"\"}}, \"type\": \"scattermapbox\"}], \"scatterpolar\": [{\"marker\": {\"colorbar\": {\"outlinewidth\": 0, \"ticks\": \"\"}}, \"type\": \"scatterpolar\"}], \"scatterpolargl\": [{\"marker\": {\"colorbar\": {\"outlinewidth\": 0, \"ticks\": \"\"}}, \"type\": \"scatterpolargl\"}], \"scatterternary\": [{\"marker\": {\"colorbar\": {\"outlinewidth\": 0, \"ticks\": \"\"}}, \"type\": \"scatterternary\"}], \"surface\": [{\"colorbar\": {\"outlinewidth\": 0, \"ticks\": \"\"}, \"colorscale\": [[0.0, \"#0d0887\"], [0.1111111111111111, \"#46039f\"], [0.2222222222222222, \"#7201a8\"], [0.3333333333333333, \"#9c179e\"], [0.4444444444444444, \"#bd3786\"], [0.5555555555555556, \"#d8576b\"], [0.6666666666666666, \"#ed7953\"], [0.7777777777777778, \"#fb9f3a\"], [0.8888888888888888, \"#fdca26\"], [1.0, \"#f0f921\"]], \"type\": \"surface\"}], \"table\": [{\"cells\": {\"fill\": {\"color\": \"#EBF0F8\"}, \"line\": {\"color\": \"white\"}}, \"header\": {\"fill\": {\"color\": \"#C8D4E3\"}, \"line\": {\"color\": \"white\"}}, \"type\": \"table\"}]}, \"layout\": {\"annotationdefaults\": {\"arrowcolor\": \"#2a3f5f\", \"arrowhead\": 0, \"arrowwidth\": 1}, \"coloraxis\": {\"colorbar\": {\"outlinewidth\": 0, \"ticks\": \"\"}}, \"colorscale\": {\"diverging\": [[0, \"#8e0152\"], [0.1, \"#c51b7d\"], [0.2, \"#de77ae\"], [0.3, \"#f1b6da\"], [0.4, \"#fde0ef\"], [0.5, \"#f7f7f7\"], [0.6, \"#e6f5d0\"], [0.7, \"#b8e186\"], [0.8, \"#7fbc41\"], [0.9, \"#4d9221\"], [1, \"#276419\"]], \"sequential\": [[0.0, \"#0d0887\"], [0.1111111111111111, \"#46039f\"], [0.2222222222222222, \"#7201a8\"], [0.3333333333333333, \"#9c179e\"], [0.4444444444444444, \"#bd3786\"], [0.5555555555555556, \"#d8576b\"], [0.6666666666666666, \"#ed7953\"], [0.7777777777777778, \"#fb9f3a\"], [0.8888888888888888, \"#fdca26\"], [1.0, \"#f0f921\"]], \"sequentialminus\": [[0.0, \"#0d0887\"], [0.1111111111111111, \"#46039f\"], [0.2222222222222222, \"#7201a8\"], [0.3333333333333333, \"#9c179e\"], [0.4444444444444444, \"#bd3786\"], [0.5555555555555556, \"#d8576b\"], [0.6666666666666666, \"#ed7953\"], [0.7777777777777778, \"#fb9f3a\"], [0.8888888888888888, \"#fdca26\"], [1.0, \"#f0f921\"]]}, \"colorway\": [\"#636efa\", \"#EF553B\", \"#00cc96\", \"#ab63fa\", \"#FFA15A\", \"#19d3f3\", \"#FF6692\", \"#B6E880\", \"#FF97FF\", \"#FECB52\"], \"font\": {\"color\": \"#2a3f5f\"}, \"geo\": {\"bgcolor\": \"white\", \"lakecolor\": \"white\", \"landcolor\": \"#E5ECF6\", \"showlakes\": true, \"showland\": true, \"subunitcolor\": \"white\"}, \"hoverlabel\": {\"align\": \"left\"}, \"hovermode\": \"closest\", \"mapbox\": {\"style\": \"light\"}, \"paper_bgcolor\": \"white\", \"plot_bgcolor\": \"#E5ECF6\", \"polar\": {\"angularaxis\": {\"gridcolor\": \"white\", \"linecolor\": \"white\", \"ticks\": \"\"}, \"bgcolor\": \"#E5ECF6\", \"radialaxis\": {\"gridcolor\": \"white\", \"linecolor\": \"white\", \"ticks\": \"\"}}, \"scene\": {\"xaxis\": {\"backgroundcolor\": \"#E5ECF6\", \"gridcolor\": \"white\", \"gridwidth\": 2, \"linecolor\": \"white\", \"showbackground\": true, \"ticks\": \"\", \"zerolinecolor\": \"white\"}, \"yaxis\": {\"backgroundcolor\": \"#E5ECF6\", \"gridcolor\": \"white\", \"gridwidth\": 2, \"linecolor\": \"white\", \"showbackground\": true, \"ticks\": \"\", \"zerolinecolor\": \"white\"}, \"zaxis\": {\"backgroundcolor\": \"#E5ECF6\", \"gridcolor\": \"white\", \"gridwidth\": 2, \"linecolor\": \"white\", \"showbackground\": true, \"ticks\": \"\", \"zerolinecolor\": \"white\"}}, \"shapedefaults\": {\"line\": {\"color\": \"#2a3f5f\"}}, \"ternary\": {\"aaxis\": {\"gridcolor\": \"white\", \"linecolor\": \"white\", \"ticks\": \"\"}, \"baxis\": {\"gridcolor\": \"white\", \"linecolor\": \"white\", \"ticks\": \"\"}, \"bgcolor\": \"#E5ECF6\", \"caxis\": {\"gridcolor\": \"white\", \"linecolor\": \"white\", \"ticks\": \"\"}}, \"title\": {\"x\": 0.05}, \"xaxis\": {\"automargin\": true, \"gridcolor\": \"white\", \"linecolor\": \"white\", \"ticks\": \"\", \"title\": {\"standoff\": 15}, \"zerolinecolor\": \"white\", \"zerolinewidth\": 2}, \"yaxis\": {\"automargin\": true, \"gridcolor\": \"white\", \"linecolor\": \"white\", \"ticks\": \"\", \"title\": {\"standoff\": 15}, \"zerolinecolor\": \"white\", \"zerolinewidth\": 2}}}, \"xaxis\": {\"title\": {\"text\": \"Epoch\"}}, \"yaxis\": {\"title\": {\"text\": \"Accuracy\"}}},\n",
       "                        {\"responsive\": true}\n",
       "                    ).then(function(){\n",
       "                            \n",
       "var gd = document.getElementById('62a34758-bcc2-400e-ba8a-14692f5505e0');\n",
       "var x = new MutationObserver(function (mutations, observer) {{\n",
       "        var display = window.getComputedStyle(gd).display;\n",
       "        if (!display || display === 'none') {{\n",
       "            console.log([gd, 'removed!']);\n",
       "            Plotly.purge(gd);\n",
       "            observer.disconnect();\n",
       "        }}\n",
       "}});\n",
       "\n",
       "// Listen for the removal of the full notebook cells\n",
       "var notebookContainer = gd.closest('#notebook-container');\n",
       "if (notebookContainer) {{\n",
       "    x.observe(notebookContainer, {childList: true});\n",
       "}}\n",
       "\n",
       "// Listen for the clearing of the current output cell\n",
       "var outputEl = gd.closest('.output');\n",
       "if (outputEl) {{\n",
       "    x.observe(outputEl, {childList: true});\n",
       "}}\n",
       "\n",
       "                        })\n",
       "                };\n",
       "                \n",
       "            </script>\n",
       "        </div>\n",
       "</body>\n",
       "</html>"
      ]
     },
     "metadata": {
      "tags": []
     },
     "output_type": "display_data"
    }
   ],
   "source": [
    "# Create traces\n",
    "fig = go.Figure()\n",
    "fig.add_trace(go.Scatter(x=epochs, y=res3.history[\"accuracy\"],mode='lines', name='training set' ))\n",
    "fig.add_trace(go.Scatter(x=epochs, \n",
    "                         y=res3.history[\"val_accuracy\"],\n",
    "                         mode='lines',\n",
    "                         name='test set',\n",
    "                         marker=dict(\n",
    "                          color='red'\n",
    "                          )))\n",
    "\n",
    "#fig.update_layout(legend_title_text = \"Accuracy evolution according to number of trees\")\n",
    "fig.update_xaxes(title_text=\"Epoch\")\n",
    "fig.update_yaxes(title_text=\"Accuracy\")\n",
    "fig.show()"
   ]
  }
 ],
 "metadata": {
  "accelerator": "GPU",
  "colab": {
   "authorship_tag": "ABX9TyOATsEJzyXwbN1K0UpN46Ry",
   "collapsed_sections": [],
   "mount_file_id": "1_0WcpzKfh4yHKTstYAST-sud6Q7S7BTX",
   "name": "DeepLearning.ipynb",
   "provenance": [],
   "toc_visible": true
  },
  "kernelspec": {
   "display_name": "Python 3",
   "language": "python",
   "name": "python3"
  },
  "language_info": {
   "codemirror_mode": {
    "name": "ipython",
    "version": 3
   },
   "file_extension": ".py",
   "mimetype": "text/x-python",
   "name": "python",
   "nbconvert_exporter": "python",
   "pygments_lexer": "ipython3",
   "version": "3.9.5"
  }
 },
 "nbformat": 4,
 "nbformat_minor": 1
}
