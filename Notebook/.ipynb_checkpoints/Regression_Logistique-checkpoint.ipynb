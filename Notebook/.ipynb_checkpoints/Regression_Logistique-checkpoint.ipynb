{
 "cells": [
  {
   "cell_type": "markdown",
   "metadata": {},
   "source": [
    "# 3.1 Chargement de nos données"
   ]
  },
  {
   "cell_type": "code",
   "execution_count": 1,
   "metadata": {},
   "outputs": [],
   "source": [
    "import pandas as pd\n",
    "import os\n",
    "import numpy as np\n",
    "from sklearn.metrics import accuracy_score\n",
    "from sklearn.model_selection import train_test_split"
   ]
  },
  {
   "cell_type": "code",
   "execution_count": 6,
   "metadata": {},
   "outputs": [],
   "source": [
    "PATH_TO_DATA=os.path.join(\"..\",\"Data\")\n",
    "FILENAME=\"clean_data.csv\"\n",
    "OurData = pd.read_csv(os.path.join(PATH_TO_DATA,FILENAME))"
   ]
  },
  {
   "cell_type": "markdown",
   "metadata": {},
   "source": [
    "Construction de X et de y"
   ]
  },
  {
   "cell_type": "code",
   "execution_count": 7,
   "metadata": {},
   "outputs": [],
   "source": [
    "X = OurData.drop(['winner','Mois','Jour'], axis = 1)\n",
    "y = OurData['winner']"
   ]
  },
  {
   "cell_type": "markdown",
   "metadata": {},
   "source": [
    "Nous allons maintenant séparer nos données en 2 échantillons : l'echantillon de test et celui d'apprentissage"
   ]
  },
  {
   "cell_type": "code",
   "execution_count": 8,
   "metadata": {},
   "outputs": [],
   "source": [
    "Xapp, Xtest = train_test_split(X, test_size=0.33, random_state=42)\n",
    "yapp, ytest = train_test_split(y, test_size=0.33, random_state=42)\n",
    "Xapp=np.array(Xapp)\n",
    "Xtest=np.array(Xtest)\n",
    "yapp=np.array(yapp)\n",
    "ytest=np.array(ytest)"
   ]
  },
  {
   "cell_type": "code",
   "execution_count": 9,
   "metadata": {},
   "outputs": [
    {
     "name": "stdout",
     "output_type": "stream",
     "text": [
      "(74056, 273) (74056,)\n",
      "(36476, 273) (36476,)\n"
     ]
    }
   ],
   "source": [
    "print(Xapp.shape,yapp.shape)\n",
    "print(Xtest.shape,ytest.shape)"
   ]
  },
  {
   "cell_type": "markdown",
   "metadata": {},
   "source": [
    "# 3.2 Regression Logistique"
   ]
  },
  {
   "cell_type": "code",
   "execution_count": 11,
   "metadata": {},
   "outputs": [
    {
     "name": "stdout",
     "output_type": "stream",
     "text": [
      "Populating the interactive namespace from numpy and matplotlib\n"
     ]
    }
   ],
   "source": [
    "import matplotlib.pyplot as plt\n",
    "%pylab inline"
   ]
  },
  {
   "cell_type": "markdown",
   "metadata": {},
   "source": [
    "Ajout de l'intercept à X"
   ]
  },
  {
   "cell_type": "code",
   "execution_count": 12,
   "metadata": {},
   "outputs": [],
   "source": [
    "m=Xapp.shape[1]\n",
    "n_app=len(yapp)\n",
    "n_test=len(ytest)\n",
    "#m et n sont respectivement le nombre de variables explicatives et le nombre d'observations\n",
    "Xapp=np.c_[np.ones(n_app),Xapp]\n",
    "Xtest=np.c_[np.ones(n_test),Xtest]\n",
    "#Afin de prendre en compte l'intercept on doit actualiser la valeur de m\n",
    "m=m+1"
   ]
  },
  {
   "cell_type": "markdown",
   "metadata": {},
   "source": [
    "Fonction de coût, fonction sigmoid et calcul de son gradient"
   ]
  },
  {
   "cell_type": "code",
   "execution_count": 13,
   "metadata": {},
   "outputs": [],
   "source": [
    "def sigmoid(x):\n",
    "    return(1/(1+exp(-x)))\n",
    "def fonctionCout(theta,X,y,n):\n",
    "    cout=0\n",
    "    for i in range (0,n):\n",
    "        cout=cout+(y[i]*log(sigmoid(np.vdot(X[i,:],theta)))+(1-y[i])*log(1-sigmoid(np.vdot(X[i,:],theta)))) \n",
    "        #vdot est le produit scalaire\n",
    "    return(-(1/n)*cout)\n",
    "def grad(theta,X,y,n):\n",
    "    vecteurGrad=np.zeros(X.shape[1])\n",
    "    for j in range (0,X.shape[1]):\n",
    "        temp=0\n",
    "        for i in range (0,n):\n",
    "            temp=temp+X[i,j]*(sigmoid(np.vdot(X[i,:],theta))-y[i])\n",
    "        vecteurGrad[j]=(1/n)*temp\n",
    "    return(vecteurGrad)"
   ]
  },
  {
   "cell_type": "markdown",
   "metadata": {},
   "source": [
    "Même si dans la théorie il était naturel de parler du choix de l'initialisation dans un second temps, en pratique il est plus pertinent d'initialiser notre vecteur de paramètres theta une fois pour toute."
   ]
  },
  {
   "cell_type": "markdown",
   "metadata": {},
   "source": [
    "## 3.2.3 Choix du point de départ"
   ]
  },
  {
   "cell_type": "markdown",
   "metadata": {},
   "source": [
    "Toutes les coordonnées correspondant à des nombres aléatoires correspondent aux variables explicatives dont, à priori, nous ne savons pas quel joueur ça influence, les autres ont été choisies selon le principe expliqué dans le pdf après consultation d'un amateur de tennis."
   ]
  },
  {
   "cell_type": "code",
   "execution_count": 14,
   "metadata": {},
   "outputs": [],
   "source": [
    "a_priori=np.random.uniform(-1,1,m)\n",
    "for i in range(157,266):\n",
    "    a_priori[i]=np.random.uniform(0.6,0.85,1) \n",
    "for i in range(56,150):\n",
    "    a_priori[i]=np.random.uniform(-0.85,-0.6,1) \n",
    "a_priori[271]=-0.85\n",
    "a_priori[270]=-0.55\n",
    "a_priori[269]=-0.45\n",
    "a_priori[268]=-0.75\n",
    "a_priori[267]=-0.25\n",
    "a_priori[266]=-0.65\n",
    "a_priori[156]=0.9\n",
    "a_priori[155]=0.85\n",
    "a_priori[154]=0.55\n",
    "a_priori[153]=0.45\n",
    "a_priori[152]=0.75\n",
    "a_priori[151]=0.25\n",
    "a_priori[150]=0.65\n",
    "Theta=a_priori/(sqrt(m))"
   ]
  },
  {
   "cell_type": "markdown",
   "metadata": {},
   "source": [
    "## 3.2.1 Feature scaling"
   ]
  },
  {
   "cell_type": "markdown",
   "metadata": {},
   "source": [
    "Nous allons ici comparer les differentes méthodes de renormalisation de nos variables. Notons que nous commençons les boucles à 1 car on ne renormalise pas l'intercept. De plus nous ne renormaliserons pas les colonnes correspondant à un one hot encoding ou une discretisation mais seulement celle dont les rapports d'echelle sont relativement différents."
   ]
  },
  {
   "cell_type": "markdown",
   "metadata": {},
   "source": [
    "Commencons donc par identifier ces colonnes avec un simple calcul de moyenne pour ensuite récupérer leur indice."
   ]
  },
  {
   "cell_type": "code",
   "execution_count": 15,
   "metadata": {},
   "outputs": [
    {
     "name": "stdout",
     "output_type": "stream",
     "text": [
      "[1, 3, 4, 21, 22, 273]\n"
     ]
    }
   ],
   "source": [
    "identification=(abs(numpy.mean(Xapp, 0))>=6).astype(int)\n",
    "liste_colonne=[]\n",
    "for i in range(0,len(identification)):\n",
    "    if identification[i]==1:\n",
    "        liste_colonne.append(i)\n",
    "print(liste_colonne)"
   ]
  },
  {
   "cell_type": "markdown",
   "metadata": {},
   "source": [
    "Et nous allons maintenant pouvoir appliquer une renormalisation sur ces colonnes :"
   ]
  },
  {
   "cell_type": "code",
   "execution_count": 16,
   "metadata": {},
   "outputs": [],
   "source": [
    "#Min-max normalization\n",
    "XappMinMax=np.copy(Xapp)\n",
    "for i in liste_colonne:\n",
    "    XappMinMax[:,i]=(Xapp[:,i]-numpy.amin(Xapp, 0)[i])/(numpy.amax(Xapp, 0)[i]-numpy.amin(Xapp, 0)[i])\n",
    "#Mean normalization\n",
    "XappMean=np.copy(Xapp)\n",
    "for i in liste_colonne:\n",
    "    XappMean[:,i]=(Xapp[:,i]-numpy.mean(Xapp, 0)[i])/(numpy.amax(Xapp, 0)[i]-numpy.amin(Xapp, 0)[i])\n",
    "#Standardization\n",
    "XappStand=np.copy(Xapp)\n",
    "for i in liste_colonne:\n",
    "    XappStand[:,i]=(Xapp[:,i]-numpy.mean(Xapp, 0)[i])/(numpy.std(Xapp, 0)[i])"
   ]
  },
  {
   "cell_type": "markdown",
   "metadata": {},
   "source": [
    "Au vu de la taille du jeu de données et donc pour ne pas que les blocs mettent trop de temps à tourner, nous allons introduire pour des étapes intermédiaires comme celles qui suivent la notion de \"mini-batch\". La descente de gradient \"mini-batch\" consiste à effectuer, à chaque itération de notre descente de gradient, non pas une descente sur toutes les observations de notre échantillon d'apprentissage, mais sur un sous-échantillon tiré aléatoirement. On fixera la taille de cet échantillon à 30.\n",
    "Attention ces blocs mettent quand même plusieurs minutes à tourner : mettre le nombre d'itération à 20 si vous voulez un résultat rapidement."
   ]
  },
  {
   "cell_type": "code",
   "execution_count": null,
   "metadata": {},
   "outputs": [],
   "source": [
    "#Min-max normalization\n",
    "Niter=200\n",
    "alpha=0.01\n",
    "cout=np.zeros(Niter-1)\n",
    "theta=Theta\n",
    "for j in range (1,Niter):\n",
    "    MB=randint(0,n_app-30,1)[0]\n",
    "    theta=theta-(alpha*grad(theta,XappMinMax[MB:(MB+30),:],yapp[MB:(MB+30)],30))\n",
    "    cout[j-1]=fonctionCout(theta,XappMinMax,yapp,n_app)\n",
    "absplot=np.linspace(1,Niter-1,Niter-1)\n",
    "plt.plot(absplot,cout)\n",
    "plt.xlabel(\"Nombre d'itérations\")\n",
    "plt.ylabel(\"Fonction de cout\")\n",
    "plt.title(\"Evolution de la fonction de cout après 'Min-max normalization'\")"
   ]
  },
  {
   "cell_type": "code",
   "execution_count": null,
   "metadata": {},
   "outputs": [],
   "source": [
    "#Mean normalization\n",
    "Niter=200\n",
    "alpha=0.01\n",
    "cout=np.zeros(Niter-1)\n",
    "theta=Theta\n",
    "for j in range (1,Niter):\n",
    "    MB=randint(0,n_app-30,1)[0]\n",
    "    theta=theta-(alpha*grad(theta,XappMean[MB:(MB+30),:],yapp[MB:(MB+30)],30))\n",
    "    cout[j-1]=fonctionCout(theta,XappMean,yapp,n_app)\n",
    "absplot=np.linspace(1,Niter-1,Niter-1)\n",
    "plt.plot(absplot,cout)\n",
    "plt.xlabel(\"Nombre d'itérations\")\n",
    "plt.ylabel(\"Fonction de cout\")\n",
    "plt.title(\"Evolution de la fonction de cout après 'Mean normalization'\")"
   ]
  },
  {
   "cell_type": "code",
   "execution_count": null,
   "metadata": {},
   "outputs": [],
   "source": [
    "#Standardization \n",
    "Niter=200\n",
    "alpha=0.01\n",
    "cout=np.zeros(Niter-1)\n",
    "theta=Theta\n",
    "for j in range (1,Niter):\n",
    "    MB=randint(0,n_app-30,1)[0]\n",
    "    theta=theta-(alpha*grad(theta,XappStand[MB:(MB+30),:],yapp[MB:(MB+30)],30))\n",
    "    cout[j-1]=fonctionCout(theta,XappStand,yapp,n_app)\n",
    "absplot=np.linspace(1,Niter-1,Niter-1)\n",
    "plt.plot(absplot,cout)\n",
    "plt.xlabel(\"Nombre d'itérations\")\n",
    "plt.ylabel(\"Fonction de cout\")\n",
    "plt.title(\"Evolution de la fonction de cout après 'Standardization'\")"
   ]
  },
  {
   "cell_type": "markdown",
   "metadata": {},
   "source": [
    "On Conservera donc pour la suite la technique de \"Standardization\" :"
   ]
  },
  {
   "cell_type": "code",
   "execution_count": 289,
   "metadata": {},
   "outputs": [],
   "source": [
    "Xapp=XappStand\n",
    "for i in liste_colonne:\n",
    "    Xtest[:,i]=(Xtest[:,i]-numpy.mean(Xtest, 0)[i])/(numpy.std(Xtest, 0)[i])"
   ]
  },
  {
   "cell_type": "markdown",
   "metadata": {},
   "source": [
    "## 3.2.2 Recherche Linéaire"
   ]
  },
  {
   "cell_type": "markdown",
   "metadata": {},
   "source": [
    "Commençons avec la descente à pas optimal avec la méthode de Broyden Fletcher Goldfard Shanno (seule méthode que nous n'avons pas codée à la main dans cette partie Regression Logistique, avec la validation croisée, afin d'avoir accès à des fonctions optimisées qui ne mettent pas trop de temps à tourner)"
   ]
  },
  {
   "cell_type": "code",
   "execution_count": 267,
   "metadata": {},
   "outputs": [
    {
     "name": "stderr",
     "output_type": "stream",
     "text": [
      "C:\\Users\\Utilisateur\\anaconda3\\lib\\site-packages\\ipykernel_launcher.py:6: RuntimeWarning: divide by zero encountered in log\n",
      "  \n",
      "C:\\Users\\Utilisateur\\anaconda3\\lib\\site-packages\\ipykernel_launcher.py:6: RuntimeWarning: invalid value encountered in double_scalars\n",
      "  \n",
      "C:\\Users\\Utilisateur\\anaconda3\\lib\\site-packages\\ipykernel_launcher.py:6: RuntimeWarning: divide by zero encountered in log\n",
      "  \n",
      "C:\\Users\\Utilisateur\\anaconda3\\lib\\site-packages\\ipykernel_launcher.py:6: RuntimeWarning: invalid value encountered in double_scalars\n",
      "  \n",
      "C:\\Users\\Utilisateur\\anaconda3\\lib\\site-packages\\ipykernel_launcher.py:6: RuntimeWarning: divide by zero encountered in log\n",
      "  \n",
      "C:\\Users\\Utilisateur\\anaconda3\\lib\\site-packages\\ipykernel_launcher.py:6: RuntimeWarning: invalid value encountered in double_scalars\n",
      "  \n"
     ]
    },
    {
     "name": "stdout",
     "output_type": "stream",
     "text": [
      "Warning: Desired error not necessarily achieved due to precision loss.\n",
      "         Current function value: nan\n",
      "         Iterations: 1\n",
      "         Function evaluations: 30800\n",
      "         Gradient evaluations: 112\n",
      "      fun: nan\n",
      " hess_inv: array([[1, 0, 0, ..., 0, 0, 0],\n",
      "       [0, 1, 0, ..., 0, 0, 0],\n",
      "       [0, 0, 1, ..., 0, 0, 0],\n",
      "       ...,\n",
      "       [0, 0, 0, ..., 1, 0, 0],\n",
      "       [0, 0, 0, ..., 0, 1, 0],\n",
      "       [0, 0, 0, ..., 0, 0, 1]])\n",
      "      jac: array([nan, nan, nan, nan, nan, nan, nan, nan, nan, nan, nan, nan, nan,\n",
      "       nan, nan, nan, nan, nan, nan, nan, nan, nan, nan, nan, nan, nan,\n",
      "       nan, nan, nan, nan, nan, nan, nan, nan, nan, nan, nan, nan, nan,\n",
      "       nan, nan, nan, nan, nan, nan, nan, nan, nan, nan, nan, nan, nan,\n",
      "       nan, nan, nan, nan, nan, nan, nan, nan, nan, nan, nan, nan, nan,\n",
      "       nan, nan, nan, nan, nan, nan, nan, nan, nan, nan, nan, nan, nan,\n",
      "       nan, nan, nan, nan, nan, nan, nan, nan, nan, nan, nan, nan, nan,\n",
      "       nan, nan, nan, nan, nan, nan, nan, nan, nan, nan, nan, nan, nan,\n",
      "       nan, nan, nan, nan, nan, nan, nan, nan, nan, nan, nan, nan, nan,\n",
      "       nan, nan, nan, nan, nan, nan, nan, nan, nan, nan, nan, nan, nan,\n",
      "       nan, nan, nan, nan, nan, nan, nan, nan, nan, nan, nan, nan, nan,\n",
      "       nan, nan, nan, nan, nan, nan, nan, nan, nan, nan, nan, nan, nan,\n",
      "       nan, nan, nan, nan, nan, nan, nan, nan, nan, nan, nan, nan, nan,\n",
      "       nan, nan, nan, nan, nan, nan, nan, nan, nan, nan, nan, nan, nan,\n",
      "       nan, nan, nan, nan, nan, nan, nan, nan, nan, nan, nan, nan, nan,\n",
      "       nan, nan, nan, nan, nan, nan, nan, nan, nan, nan, nan, nan, nan,\n",
      "       nan, nan, nan, nan, nan, nan, nan, nan, nan, nan, nan, nan, nan,\n",
      "       nan, nan, nan, nan, nan, nan, nan, nan, nan, nan, nan, nan, nan,\n",
      "       nan, nan, nan, nan, nan, nan, nan, nan, nan, nan, nan, nan, nan,\n",
      "       nan, nan, nan, nan, nan, nan, nan, nan, nan, nan, nan, nan, nan,\n",
      "       nan, nan, nan, nan, nan, nan, nan, nan, nan, nan, nan, nan, nan,\n",
      "       nan])\n",
      "  message: 'Desired error not necessarily achieved due to precision loss.'\n",
      "     nfev: 30800\n",
      "      nit: 1\n",
      "     njev: 112\n",
      "   status: 2\n",
      "  success: False\n",
      "        x: array([ 6.55084710e+01,  4.09387991e+00,  2.29509290e+02, -1.96974743e+01,\n",
      "        9.22279162e+00,  9.87441652e+01,  2.21224614e+02,  1.09227829e+02,\n",
      "        1.62406649e+02,  9.56692275e+01,  1.71397244e+02,  1.00587607e+02,\n",
      "        1.93075455e+02,  7.41157240e+01,  3.90120227e+02,  9.62116647e+01,\n",
      "        1.83954457e+02,  7.76938480e+01,  3.47101132e+02,  9.45951165e+01,\n",
      "        3.37639226e+02,  1.95415528e+01, -3.99381153e+00,  8.51949900e+01,\n",
      "        3.50460436e+02,  8.07921201e+01,  3.38070091e+02,  8.30331390e+01,\n",
      "        3.28811608e+02,  1.86687168e+01,  8.05583783e+00,  1.61930864e+01,\n",
      "        8.03849218e+00,  2.22406940e+00,  2.58276958e+00,  9.61641875e+00,\n",
      "        1.48324004e-01,  1.29396883e+01,  5.25375229e+01,  5.78473606e-01,\n",
      "        1.99844796e+01,  7.28746133e+00,  3.76576716e+01,  2.74044211e+01,\n",
      "        2.13506670e+01,  4.63900390e+00,  1.31088578e+00,  7.60885552e+00,\n",
      "        5.20667091e-01,  1.37207745e+00,  1.27432271e+00,  2.36262199e-02,\n",
      "        6.53647181e+01, -2.18918509e-02,  2.72921866e-02, -1.41223869e-02,\n",
      "        6.62835526e-02, -4.83742173e-02, -3.76119931e-02,  5.63559336e-02,\n",
      "        4.86424421e-02, -5.05298434e-02,  6.94430999e-02, -4.35604392e-02,\n",
      "        5.57660351e-02, -3.74420177e-02, -4.57834874e-02,  5.83420363e-02,\n",
      "       -4.23651271e-02, -3.85400239e-02, -3.96899475e-02, -4.59901427e-02,\n",
      "       -3.71226190e-02,  2.32194505e-02,  1.74337282e-01, -4.11443084e-02,\n",
      "        3.68455057e-02, -4.43718600e-02, -4.62038130e-02, -4.45765034e-02,\n",
      "       -8.97462502e-02,  3.89727845e-02,  6.41562382e-02, -3.65222933e-02,\n",
      "       -3.99724317e-02, -3.90769274e-02, -3.74419728e-02, -4.27301718e-02,\n",
      "        5.27667881e-02,  2.42077802e-01, -3.85203319e-02, -4.48727580e-02,\n",
      "       -4.27362279e-02, -3.82441875e-02, -3.90367361e-02, -3.77749026e-02,\n",
      "       -4.61576334e-02, -3.77025527e-02, -4.11068181e-02, -4.47519210e-02,\n",
      "       -3.73229594e-02, -4.89959088e-02, -4.77193578e-02, -3.83509960e-02,\n",
      "       -4.93773442e-02, -1.38118456e-01, -4.72385016e-02, -4.97443251e-02,\n",
      "       -4.01436936e-02, -6.59542023e-02, -3.75951713e-02, -4.78635774e-02,\n",
      "       -3.71344021e-02,  5.35879502e-02, -3.69188177e-02, -5.08785473e-02,\n",
      "       -4.18089693e-02,  2.77094381e-01, -4.10201919e-02, -4.89516661e-02,\n",
      "        7.26713494e-02, -4.05944074e-02, -3.83152236e-02, -4.78330949e-02,\n",
      "       -3.90403526e-02, -4.60540466e-02,  3.17435269e-02, -4.84107937e-02,\n",
      "       -4.78204506e-02,  1.15864829e-01, -4.65130184e-02, -4.25112923e-02,\n",
      "       -4.48671119e-02, -3.89027811e-02, -4.23966269e-02, -4.80312471e-02,\n",
      "       -4.56324230e-02,  5.21198944e-02, -4.88106618e-02,  3.87256726e-02,\n",
      "       -3.78222008e-02,  6.07029300e-02, -3.85009669e-02, -4.45595586e-02,\n",
      "       -4.68308718e-02,  6.30336710e-02,  1.15367355e-01,  5.39025134e-02,\n",
      "        4.28195790e-02, -4.13288592e-02,  1.27803649e-01,  1.47176338e+01,\n",
      "        2.76463863e+00,  7.57779174e+00,  9.50053160e+00,  2.55859753e+01,\n",
      "        2.41176738e+00,  4.04570371e-01,  1.77274106e-01,  3.75594106e-01,\n",
      "        1.52438421e-01,  2.46496305e-01,  4.95096435e-02,  4.68104778e-02,\n",
      "        2.32364211e-01,  4.77349263e-02, -8.21811086e-02,  1.47551128e-01,\n",
      "        4.27799790e-02,  9.29531695e-01,  2.76074871e-01,  2.68249104e-01,\n",
      "       -6.40116901e-02,  1.65675651e-01, -5.75932209e-02,  1.70580556e+00,\n",
      "        3.85418601e-02,  1.46683221e+00,  2.41535178e-01,  3.65030906e+00,\n",
      "        4.03523814e-02,  3.68064275e-02,  3.80917820e-02,  4.16357260e-02,\n",
      "        3.12335858e+00,  4.94337601e-02,  1.31870951e+00,  3.76533536e-02,\n",
      "        8.39652752e-01,  1.56882317e-01,  4.24270463e-02,  4.63523882e-02,\n",
      "        3.41205194e-01,  1.59320241e-01,  4.25963850e-02, -6.61543092e-02,\n",
      "        1.33989547e+00,  4.79473469e-01,  5.01209403e-02,  5.06280590e-02,\n",
      "       -5.34639118e-02,  3.61104597e-01,  4.25659925e-02,  2.42884373e-01,\n",
      "        1.47919638e-01,  4.81573333e-02,  1.52345538e-01,  4.45194603e-02,\n",
      "       -3.48614216e-02,  1.58158206e-01,  3.94925754e-02,  4.48963191e-02,\n",
      "        4.47184959e-02,  1.33993708e-01,  2.45743591e-01,  4.17897278e-02,\n",
      "        3.79557266e-02,  1.56605590e-01,  4.20405116e-02,  1.40396060e-01,\n",
      "        4.10210266e-02,  4.09762667e-02,  4.77156811e-02,  8.71185403e-01,\n",
      "        1.66499496e-01,  2.03480531e+00,  2.74948704e+00,  2.42830907e-01,\n",
      "       -5.20835662e-02,  1.44438515e-01, -5.63338640e-02,  3.66024868e-01,\n",
      "        4.92015560e-02,  4.07567354e-02, -5.67668994e-02,  4.70088623e-02,\n",
      "        3.80025028e-02,  1.45933083e-01,  2.51963333e-01,  4.65804227e-02,\n",
      "        6.08910164e-01,  1.20494506e+00,  4.41663270e-02, -1.59692559e-01,\n",
      "        3.92542167e-01,  1.49419369e-01,  3.67434511e-02,  2.66903018e-01,\n",
      "        4.56039802e-02,  1.45261148e-01,  7.60074998e-01,  1.50100143e-01,\n",
      "        9.10019159e-01,  4.13873375e-02,  4.99653560e-02,  5.55847496e-02,\n",
      "        5.17281514e-02,  3.65976786e-01,  2.41489776e-01,  4.30375968e-02,\n",
      "        4.42664113e-02,  1.29213421e-01,  1.60344664e+00,  4.37271674e-02,\n",
      "       -1.71130435e-01,  4.59260769e-02,  5.63928122e-02,  1.77263048e+00,\n",
      "        1.03107725e+01,  7.19022681e-02,  1.49101239e+01,  8.39746368e+00,\n",
      "        5.22345902e-02, -3.23131611e+00])\n"
     ]
    }
   ],
   "source": [
    "from scipy.optimize import minimize\n",
    "theta_0=Theta\n",
    "#On selectionne au hasard 1600 observations de notre échantillon d'apprentissage pour eviter que ce bloc de calcul mette\n",
    "#plus de 10 minutes à tourner\n",
    "XappBFGS=np.copy(Xapp)\n",
    "yappBFGS=np.copy(yapp)\n",
    "data=np.c_[XappBFGS,yappBFGS]\n",
    "np.random.shuffle(data)\n",
    "XappBFGS=data[1:1601,0:(data.shape[1]-1)]\n",
    "yappBFGS=data[1:1601,data.shape[1]-1]\n",
    "def f(theta):\n",
    "    return(fonctionCout(theta,XappBFGS,yappBFGS,1600))\n",
    "    #Afin que la fonction minimize comprenne qu'on cherche à optimiser notre fonction \n",
    "    #de cout en fonction de theta.\n",
    "theta=minimize(f,theta_0,method='BFGS', options={'disp': True,'maxiter':2})\n",
    "print(theta)\n",
    "#Récuperons à present notre vecteur de paramètre\n",
    "theta=theta['x']\n",
    "#par convention on fixera le seuil à 0.5, calculons alors l'erreur de classification sur l'echantillon de test et d'apprentissage\n",
    "prediction_app=(dot(Xapp,theta)>=0).astype('int')\n",
    "prediction_test=(dot(Xtest,theta)>=0).astype('int')\n",
    "erreur_app=(abs(yapp-prediction_app)).mean()\n",
    "erreur_test=(abs(ytest-prediction_test)).mean()"
   ]
  },
  {
   "cell_type": "code",
   "execution_count": 268,
   "metadata": {},
   "outputs": [
    {
     "name": "stdout",
     "output_type": "stream",
     "text": [
      "Erreur de classification sur l'echantillon d'apprentissage de BFGS-Grad pas optimal est : 0.33679917899967593\n",
      "Erreur de classification sur l'echantillon de test de BFGS-Grad pas optimal est : 0.3381401469459371\n"
     ]
    }
   ],
   "source": [
    "print(\"Erreur de classification sur l'echantillon d'apprentissage de BFGS-Grad pas optimal est :\", erreur_app)\n",
    "print(\"Erreur de classification sur l'echantillon de test de BFGS-Grad pas optimal est :\",erreur_test)"
   ]
  },
  {
   "cell_type": "markdown",
   "metadata": {},
   "source": [
    "Comparons maintenant ce résultat à celui qu'on aurait obtenu avec Wolfe-Armijo dans le cadre d'une descente de gradient classique (mini-batch toujours afin d'éviter un temps de calcul par bloc trop important)"
   ]
  },
  {
   "cell_type": "code",
   "execution_count": 273,
   "metadata": {},
   "outputs": [
    {
     "name": "stdout",
     "output_type": "stream",
     "text": [
      "Erreur de classification sur l'echantillon d'apprentissage de Wolfe-Armijo est : 0.31493734471210977\n",
      "Erreur de classification sur l'echantillon de test de de Wolfe-Armijo est : 0.31374054172606647\n"
     ]
    },
    {
     "data": {
      "image/png": "[encoded data removed]",
      "text/plain": [
       "<Figure size 432x288 with 1 Axes>"
      ]
     },
     "metadata": {
      "needs_background": "light"
     },
     "output_type": "display_data"
    }
   ],
   "source": [
    "#Par convention on fixera\n",
    "k=0.8\n",
    "w=0.9  #on a bien 0<k<w<1\n",
    "epsilon=1e-4\n",
    "Niter =200\n",
    "#on testera différente valeur de alpha suffisament grande pour trouver celle qui verifie à chaque itération Wolfe\n",
    "alpha_w_possible=[0.001,0.05,0.1,0.5,1,2,5,10,20,50,100,200,500,1000] \n",
    "#idem pour Armijo\n",
    "alpha_a_possible=[0.0001,0.00005,0.00001,0.000005,0.000001,0.0000001,0.00000001]    \n",
    "def verifie_Wolfe(alpha,theta_n,X,y,n):\n",
    "    #Retournera True si alpha verifie Wolfe et faux sinon\n",
    "    #D'après nos resultats théoriques on a que alpha verifie Wolfe si :\n",
    "    Gradient_J_theta_n=grad(theta_n,X,y,n)\n",
    "    resultBool=(-np.vdot(Gradient_J_theta_n,grad((theta_n-alpha*Gradient_J_theta_n),X,y,n)) >= w*(-np.vdot(Gradient_J_theta_n,Gradient_J_theta_n)))\n",
    "    return(resultBool)\n",
    "def verifie_Armijo(alpha,theta_n,X,y,n):\n",
    "    #Retournera True si alpha verifie Armijo et faux sinon\n",
    "    #D'après nos resultats théoriques on a que alpha verifie Armijo si :\n",
    "    Gradient_J_theta_n=grad(theta_n,X,y,n)\n",
    "    Phi_en_alpha=fonctionCout(theta_n-(alpha*Gradient_J_theta_n),X,y,n)\n",
    "    temp=fonctionCout(theta_n,X,y,n)-k*alpha*(np.vdot(Gradient_J_theta_n,Gradient_J_theta_n))\n",
    "    resultBool=(Phi_en_alpha <= temp)\n",
    "    return(resultBool)\n",
    "\n",
    "#Implementons maintenant l'algorithme de dichotomie permettant de trouver notre alpha à chaque itération\n",
    "\n",
    "def dichotomie(theta_n,alpha_a,alpha_w,X,y,n) :\n",
    "    temp=0\n",
    "    while verifie_Wolfe(alpha_w,theta_n,X,y,n)==False:\n",
    "        assert ( temp<14 ) , \"Erreur , alpha_w doit vérifier Wolfe et il ne le vérifie toujours pas pour 1000\"\n",
    "        temp+=1\n",
    "        alpha_w=alpha_w_possible[temp]\n",
    "    temp2=0    \n",
    "    while verifie_Armijo(alpha_a,theta_n,X,y,n)==False:\n",
    "        assert ( temp2<5 ) , \"Erreur , alpha_a doit vérifier Armijo et il ne le vérifie toujours pas pour 0.00000001\"\n",
    "        temp2=temp2+1\n",
    "        alpha_a=alpha_a_possible[temp2]\n",
    "    xmoins , xplus , xn = alpha_a , alpha_w , ( alpha_a + alpha_w )/2 \n",
    "    for f in range (Niter) :\n",
    "        if  verifie_Armijo(xplus-epsilon,theta_n,X,y,n): \n",
    "            return(xplus)\n",
    "        if verifie_Armijo(xn,theta_n,X,y,n):\n",
    "            xmoins = xn \n",
    "            xn=(xmoins+xplus)/2\n",
    "        else :\n",
    "            xplus = xn\n",
    "            xn = (xmoins+xplus)/2\n",
    "    print (\" Erreur , Wolfe-Armijo n’a pas trouvé de alpha après \", Niter , \" itérations.\")\n",
    "\n",
    "#Nous sommes maintenant en mesure d'implementer notre descente de gradient :\n",
    "cout=np.zeros(Niter-1)\n",
    "theta=Theta  \n",
    "for j in range (1,Niter):\n",
    "    MB=randint(0,n_app-30,1)[0]\n",
    "    alpha=dichotomie(theta,alpha_a_possible[0],alpha_w_possible[0],Xapp[MB:(MB+30),:],yapp[MB:(MB+30)],30) \n",
    "    #Selection de notre taux d'apprentissage avec Wolfe-Armijo\n",
    "    theta=theta-(alpha*grad(theta,Xapp[MB:(MB+30),:],yapp[MB:(MB+30)],30))\n",
    "    cout[j-1]=fonctionCout(theta,Xapp,yapp,n_app)\n",
    "absplot=np.linspace(1,Niter-1,Niter-1)\n",
    "plt.plot(absplot,cout)\n",
    "plt.xlabel(\"Nombre d'itérations\")\n",
    "plt.ylabel(\"Fonction de cout\")\n",
    "plt.title(\"Evolution de la fonction de cout dans une descente de gradient avec Wolfe-Armijo\")\n",
    "#par convention on fixera le seuil à 0.5, calculons alors l'erreur de classification sur l'echantillon de test et d'apprentissage\n",
    "prediction_app=(dot(Xapp,theta)>=0).astype('int')\n",
    "prediction_test=(dot(Xtest,theta)>=0).astype('int')\n",
    "erreur_app=(abs(yapp-prediction_app)).mean()\n",
    "erreur_test=(abs(ytest-prediction_test)).mean()\n",
    "print(\"Erreur de classification sur l'echantillon d'apprentissage de Wolfe-Armijo est :\", erreur_app)\n",
    "print(\"Erreur de classification sur l'echantillon de test de de Wolfe-Armijo est :\",erreur_test)\n"
   ]
  },
  {
   "cell_type": "markdown",
   "metadata": {},
   "source": [
    "On conclut que \"BFGS-Gradient pas optimal\" est moins performant que Wolfe-Armijo avec direction de descente classique pour une durée d'apprentissage équivalente assez petite (moins de 10 minutes). En revanche en augmentant le nombre d'itération dans le bloc Wolfe-Armijo et le nombre d'observations tirées au hasard dans notre echantillon d'apprentissage on se rend compte que cet écart se réduit."
   ]
  },
  {
   "cell_type": "markdown",
   "metadata": {},
   "source": [
    "On conservera donc Wolfe-Armijo dans la suite pour son efficacité et ses bons résultats."
   ]
  },
  {
   "cell_type": "markdown",
   "metadata": {},
   "source": [
    "## 3.2.4 Sur-apprentissage et choix des variables explicatives"
   ]
  },
  {
   "cell_type": "code",
   "execution_count": 292,
   "metadata": {},
   "outputs": [
    {
     "name": "stderr",
     "output_type": "stream",
     "text": [
      "C:\\Users\\Utilisateur\\anaconda3\\lib\\site-packages\\ipykernel_launcher.py:6: RuntimeWarning: divide by zero encountered in log\n",
      "  \n",
      "C:\\Users\\Utilisateur\\anaconda3\\lib\\site-packages\\ipykernel_launcher.py:6: RuntimeWarning: invalid value encountered in multiply\n",
      "  \n"
     ]
    },
    {
     "ename": "AssertionError",
     "evalue": "Erreur , alpha_a doit vérifier Armijo et il ne le vérifie toujours pas pour 0.00000001",
     "output_type": "error",
     "traceback": [
      "\u001b[1;31m---------------------------------------------------------------------------\u001b[0m",
      "\u001b[1;31mAssertionError\u001b[0m                            Traceback (most recent call last)",
      "\u001b[1;32m<ipython-input-292-83b9d9b36195>\u001b[0m in \u001b[0;36m<module>\u001b[1;34m\u001b[0m\n\u001b[0;32m     11\u001b[0m \u001b[1;32mfor\u001b[0m \u001b[0mj\u001b[0m \u001b[1;32min\u001b[0m \u001b[0mrange\u001b[0m \u001b[1;33m(\u001b[0m\u001b[1;36m1\u001b[0m\u001b[1;33m,\u001b[0m\u001b[0mNiter\u001b[0m\u001b[1;33m)\u001b[0m\u001b[1;33m:\u001b[0m\u001b[1;33m\u001b[0m\u001b[1;33m\u001b[0m\u001b[0m\n\u001b[0;32m     12\u001b[0m     \u001b[0mMB\u001b[0m\u001b[1;33m=\u001b[0m\u001b[0mrandint\u001b[0m\u001b[1;33m(\u001b[0m\u001b[1;36m0\u001b[0m\u001b[1;33m,\u001b[0m\u001b[0mn_app\u001b[0m\u001b[1;33m-\u001b[0m\u001b[1;36m30\u001b[0m\u001b[1;33m,\u001b[0m\u001b[1;36m1\u001b[0m\u001b[1;33m)\u001b[0m\u001b[1;33m[\u001b[0m\u001b[1;36m0\u001b[0m\u001b[1;33m]\u001b[0m\u001b[1;33m\u001b[0m\u001b[1;33m\u001b[0m\u001b[0m\n\u001b[1;32m---> 13\u001b[1;33m     \u001b[0malpha\u001b[0m\u001b[1;33m=\u001b[0m\u001b[0mdichotomie\u001b[0m\u001b[1;33m(\u001b[0m\u001b[0mtheta\u001b[0m\u001b[1;33m,\u001b[0m\u001b[0malpha_a_possible\u001b[0m\u001b[1;33m[\u001b[0m\u001b[1;36m0\u001b[0m\u001b[1;33m]\u001b[0m\u001b[1;33m,\u001b[0m\u001b[0malpha_w_possible\u001b[0m\u001b[1;33m[\u001b[0m\u001b[1;36m0\u001b[0m\u001b[1;33m]\u001b[0m\u001b[1;33m,\u001b[0m\u001b[0mXapp2\u001b[0m\u001b[1;33m[\u001b[0m\u001b[0mMB\u001b[0m\u001b[1;33m:\u001b[0m\u001b[1;33m(\u001b[0m\u001b[0mMB\u001b[0m\u001b[1;33m+\u001b[0m\u001b[1;36m30\u001b[0m\u001b[1;33m)\u001b[0m\u001b[1;33m,\u001b[0m\u001b[1;33m:\u001b[0m\u001b[1;33m]\u001b[0m\u001b[1;33m,\u001b[0m\u001b[0myapp\u001b[0m\u001b[1;33m[\u001b[0m\u001b[0mMB\u001b[0m\u001b[1;33m:\u001b[0m\u001b[1;33m(\u001b[0m\u001b[0mMB\u001b[0m\u001b[1;33m+\u001b[0m\u001b[1;36m30\u001b[0m\u001b[1;33m)\u001b[0m\u001b[1;33m]\u001b[0m\u001b[1;33m,\u001b[0m\u001b[1;36m30\u001b[0m\u001b[1;33m)\u001b[0m\u001b[1;33m\u001b[0m\u001b[1;33m\u001b[0m\u001b[0m\n\u001b[0m\u001b[0;32m     14\u001b[0m     \u001b[1;31m#Selection de notre taux d'apprentissage avec Wolfe-Armijo\u001b[0m\u001b[1;33m\u001b[0m\u001b[1;33m\u001b[0m\u001b[1;33m\u001b[0m\u001b[0m\n\u001b[0;32m     15\u001b[0m     \u001b[0mtheta\u001b[0m\u001b[1;33m=\u001b[0m\u001b[0mtheta\u001b[0m\u001b[1;33m-\u001b[0m\u001b[1;33m(\u001b[0m\u001b[0malpha\u001b[0m\u001b[1;33m*\u001b[0m\u001b[0mgrad\u001b[0m\u001b[1;33m(\u001b[0m\u001b[0mtheta\u001b[0m\u001b[1;33m,\u001b[0m\u001b[0mXapp2\u001b[0m\u001b[1;33m[\u001b[0m\u001b[0mMB\u001b[0m\u001b[1;33m:\u001b[0m\u001b[1;33m(\u001b[0m\u001b[0mMB\u001b[0m\u001b[1;33m+\u001b[0m\u001b[1;36m30\u001b[0m\u001b[1;33m)\u001b[0m\u001b[1;33m,\u001b[0m\u001b[1;33m:\u001b[0m\u001b[1;33m]\u001b[0m\u001b[1;33m,\u001b[0m\u001b[0myapp\u001b[0m\u001b[1;33m[\u001b[0m\u001b[0mMB\u001b[0m\u001b[1;33m:\u001b[0m\u001b[1;33m(\u001b[0m\u001b[0mMB\u001b[0m\u001b[1;33m+\u001b[0m\u001b[1;36m30\u001b[0m\u001b[1;33m)\u001b[0m\u001b[1;33m]\u001b[0m\u001b[1;33m,\u001b[0m\u001b[1;36m30\u001b[0m\u001b[1;33m)\u001b[0m\u001b[1;33m)\u001b[0m\u001b[1;33m\u001b[0m\u001b[1;33m\u001b[0m\u001b[0m\n",
      "\u001b[1;32m<ipython-input-273-65d60fb42afe>\u001b[0m in \u001b[0;36mdichotomie\u001b[1;34m(theta_n, alpha_a, alpha_w, X, y, n)\u001b[0m\n\u001b[0;32m     33\u001b[0m     \u001b[0mtemp2\u001b[0m\u001b[1;33m=\u001b[0m\u001b[1;36m0\u001b[0m\u001b[1;33m\u001b[0m\u001b[1;33m\u001b[0m\u001b[0m\n\u001b[0;32m     34\u001b[0m     \u001b[1;32mwhile\u001b[0m \u001b[0mverifie_Armijo\u001b[0m\u001b[1;33m(\u001b[0m\u001b[0malpha_a\u001b[0m\u001b[1;33m,\u001b[0m\u001b[0mtheta_n\u001b[0m\u001b[1;33m,\u001b[0m\u001b[0mX\u001b[0m\u001b[1;33m,\u001b[0m\u001b[0my\u001b[0m\u001b[1;33m,\u001b[0m\u001b[0mn\u001b[0m\u001b[1;33m)\u001b[0m\u001b[1;33m==\u001b[0m\u001b[1;32mFalse\u001b[0m\u001b[1;33m:\u001b[0m\u001b[1;33m\u001b[0m\u001b[1;33m\u001b[0m\u001b[0m\n\u001b[1;32m---> 35\u001b[1;33m         \u001b[1;32massert\u001b[0m \u001b[1;33m(\u001b[0m \u001b[0mtemp2\u001b[0m\u001b[1;33m<\u001b[0m\u001b[1;36m5\u001b[0m \u001b[1;33m)\u001b[0m \u001b[1;33m,\u001b[0m \u001b[1;34m\"Erreur , alpha_a doit vérifier Armijo et il ne le vérifie toujours pas pour 0.00000001\"\u001b[0m\u001b[1;33m\u001b[0m\u001b[1;33m\u001b[0m\u001b[0m\n\u001b[0m\u001b[0;32m     36\u001b[0m         \u001b[0mtemp2\u001b[0m\u001b[1;33m=\u001b[0m\u001b[0mtemp2\u001b[0m\u001b[1;33m+\u001b[0m\u001b[1;36m1\u001b[0m\u001b[1;33m\u001b[0m\u001b[1;33m\u001b[0m\u001b[0m\n\u001b[0;32m     37\u001b[0m         \u001b[0malpha_a\u001b[0m\u001b[1;33m=\u001b[0m\u001b[0malpha_a_possible\u001b[0m\u001b[1;33m[\u001b[0m\u001b[0mtemp2\u001b[0m\u001b[1;33m]\u001b[0m\u001b[1;33m\u001b[0m\u001b[1;33m\u001b[0m\u001b[0m\n",
      "\u001b[1;31mAssertionError\u001b[0m: Erreur , alpha_a doit vérifier Armijo et il ne le vérifie toujours pas pour 0.00000001"
     ]
    }
   ],
   "source": [
    "#On commence par ajouter toutes les variables au carré :\n",
    "Xapp2=np.copy(Xapp)\n",
    "Xtest2=np.copy(Xtest)\n",
    "Xapp2=np.c_[Xapp2,Xapp2[:,1:m]**2] #On a naturellement pas ajouter l'intercept au carré\n",
    "Xtest2=np.c_[Xtest2,Xtest2[:,1:m]**2]\n",
    "m2=Xapp2.shape[1]\n",
    "#On applique de nouveau Wolfe-Armijo :\n",
    "Niter = 200\n",
    "cout=np.zeros(Niter-1)\n",
    "theta=np.concatenate(((Theta*(sqrt(m)))/(sqrt(m2)),np.random.uniform(-1,1,m-1)/(sqrt(m2))))\n",
    "for j in range (1,Niter):\n",
    "    MB=randint(0,n_app-30,1)[0]\n",
    "    alpha=dichotomie(theta,alpha_a_possible[0],alpha_w_possible[0],Xapp2[MB:(MB+30),:],yapp[MB:(MB+30)],30) \n",
    "    #Selection de notre taux d'apprentissage avec Wolfe-Armijo\n",
    "    theta=theta-(alpha*grad(theta,Xapp2[MB:(MB+30),:],yapp[MB:(MB+30)],30))\n",
    "    cout[j-1]=fonctionCout(theta,Xapp2,yapp,n_app)\n",
    "absplot=np.linspace(1,Niter-1,Niter-1)\n",
    "plt.plot(absplot,cout)\n",
    "plt.xlabel(\"Nombre d'itérations\")\n",
    "plt.ylabel(\"Fonction de cout\")\n",
    "plt.title(\"Evolution de la fonction de cout dans une descente de gradient avec Wolfe-Armijo\")\n",
    "#par convention on fixera le seuil à 0.5, calculons alors l'erreur de classification sur l'echantillon de test et d'apprentissage\n",
    "prediction_app2=(dot(Xapp2,theta)>=0).astype('int')\n",
    "prediction_test2=(dot(Xtest2,theta)>=0).astype('int')\n",
    "erreur_app2=(abs(yapp-prediction_app2)).mean()\n",
    "erreur_test2=(abs(ytest-prediction_test2)).mean()\n",
    "print(\"Erreur de classification sur l'echantillon d'apprentissage de Wolfe-Armijo est :\", erreur_app2)\n",
    "print(\"Erreur de classification sur l'echantillon de test de de Wolfe-Armijo est :\",erreur_test2)"
   ]
  },
  {
   "cell_type": "markdown",
   "metadata": {},
   "source": [
    "Redéfinition de la fonction de coût et de son gradient"
   ]
  },
  {
   "cell_type": "code",
   "execution_count": 359,
   "metadata": {},
   "outputs": [],
   "source": [
    "def fonctionCoutRidge(theta,X,y,n,Lambda):\n",
    "    cout=0\n",
    "    for i in range (0,n):\n",
    "        cout=cout+(y[i]*log(sigmoid(np.vdot(X[i,:],theta)))+(1-y[i])*log(1-sigmoid(np.vdot(X[i,:],theta)))) \n",
    "        #vdot est le produit scalaire\n",
    "    return((-(1/n)*cout)+(Lambda/(2*m))*(np.sum(theta**2)))\n",
    "def gradRidge(theta,X,y,n,Lambda):\n",
    "    vecteurGrad=np.zeros(m)\n",
    "    for j in range (0,m):\n",
    "        temp=0\n",
    "        for i in range (0,n):\n",
    "            temp=temp+X[i,j]*(sigmoid(np.vdot(X[i,:],theta))-y[i])\n",
    "        vecteurGrad[j]=(1/n)*temp\n",
    "    terme_penalisation=(Lambda/m)*theta\n",
    "    terme_penalisation[0]=0 #Toujours car on ne pénalise pas l'intercept\n",
    "    return(vecteurGrad+terme_penalisation)"
   ]
  },
  {
   "cell_type": "markdown",
   "metadata": {},
   "source": [
    "Nous allons maintenant pouvoir passer à la validation croisée V-fold"
   ]
  },
  {
   "cell_type": "code",
   "execution_count": 360,
   "metadata": {},
   "outputs": [
    {
     "name": "stdout",
     "output_type": "stream",
     "text": [
      "lambda_opt :  0.5214008287999684\n"
     ]
    },
    {
     "data": {
      "text/plain": [
       "<matplotlib.lines.Line2D at 0x210743add08>"
      ]
     },
     "execution_count": 360,
     "metadata": {},
     "output_type": "execute_result"
    },
    {
     "data": {
      "image/png": "[encoded data removed]",
      "text/plain": [
       "<Figure size 432x288 with 1 Axes>"
      ]
     },
     "metadata": {
      "needs_background": "light"
     },
     "output_type": "display_data"
    }
   ],
   "source": [
    "from sklearn.linear_model import LogisticRegression\n",
    "from sklearn.linear_model import LogisticRegressionCV\n",
    "grilleLambda=np.logspace(0,4,100)\n",
    "grid_score = np.zeros(len(grilleLambda))\n",
    "LogReg=LogisticRegressionCV(cv=5,Cs = grilleLambda, penalty = 'l2',max_iter=1000)\n",
    "LogReg.fit(Xapp2,yapp)\n",
    "grid_score = LogReg.scores_[1].mean(axis=0)\n",
    "grid_l = 1/grilleLambda[::-1]                              #car la librairie prend en compte 1/lambda \n",
    "grid_score = grid_score[::-1]\n",
    "idx_l_opt = np.argmax(grid_score)\n",
    "lambda_opt = grid_l[idx_l_opt]\n",
    "print('lambda_optimal : ', lambda_opt)\n",
    "#Et on obtient notre lambda optimal par validation croisée V-fold avec V=5 : lambda=0.52"
   ]
  },
  {
   "cell_type": "markdown",
   "metadata": {},
   "source": [
    "Modèle final :"
   ]
  },
  {
   "cell_type": "code",
   "execution_count": 362,
   "metadata": {},
   "outputs": [
    {
     "name": "stderr",
     "output_type": "stream",
     "text": [
      "C:\\Users\\Utilisateur\\anaconda3\\lib\\site-packages\\ipykernel_launcher.py:2: RuntimeWarning: overflow encountered in exp\n",
      "  \n",
      "C:\\Users\\Utilisateur\\anaconda3\\lib\\site-packages\\ipykernel_launcher.py:4: RuntimeWarning: divide by zero encountered in log\n",
      "  after removing the cwd from sys.path.\n",
      "C:\\Users\\Utilisateur\\anaconda3\\lib\\site-packages\\ipykernel_launcher.py:4: RuntimeWarning: invalid value encountered in multiply\n",
      "  after removing the cwd from sys.path.\n",
      "C:\\Users\\Utilisateur\\anaconda3\\lib\\site-packages\\ipykernel_launcher.py:2: RuntimeWarning: overflow encountered in exp\n",
      "  \n",
      "C:\\Users\\Utilisateur\\anaconda3\\lib\\site-packages\\ipykernel_launcher.py:4: RuntimeWarning: divide by zero encountered in log\n",
      "  after removing the cwd from sys.path.\n",
      "C:\\Users\\Utilisateur\\anaconda3\\lib\\site-packages\\ipykernel_launcher.py:4: RuntimeWarning: invalid value encountered in multiply\n",
      "  after removing the cwd from sys.path.\n"
     ]
    },
    {
     "name": "stdout",
     "output_type": "stream",
     "text": [
      "Warning: Desired error not necessarily achieved due to precision loss.\n",
      "         Current function value: nan\n",
      "         Iterations: 1\n",
      "         Function evaluations: 44576\n",
      "         Gradient evaluations: 112\n",
      "0.31746031746031744 0.3\n"
     ]
    },
    {
     "name": "stderr",
     "output_type": "stream",
     "text": [
      "C:\\Users\\Utilisateur\\anaconda3\\lib\\site-packages\\ipykernel_launcher.py:2: RuntimeWarning: overflow encountered in exp\n",
      "  \n",
      "C:\\Users\\Utilisateur\\anaconda3\\lib\\site-packages\\ipykernel_launcher.py:4: RuntimeWarning: divide by zero encountered in log\n",
      "  after removing the cwd from sys.path.\n",
      "C:\\Users\\Utilisateur\\anaconda3\\lib\\site-packages\\ipykernel_launcher.py:4: RuntimeWarning: invalid value encountered in multiply\n",
      "  after removing the cwd from sys.path.\n"
     ]
    }
   ],
   "source": [
    "theta_0=np.ones(m)/5000\n",
    "def f(theta):\n",
    "    return(fonctionCoutRidge(theta,Xapp2,yapp,n_app,0.52))\n",
    "theta=minimize(f,theta_0,method='BFGS', options={'disp': True})\n",
    "theta=theta['x']\n",
    "#par convention on fixera le seuil à 0.5, calculons alors l'erreur de classification sur l'echantillon de test et d'apprentissage\n",
    "prediction_app=(dot(Xapp2,theta)>=0).astype('int')\n",
    "prediction_test=(dot(Xtest2,theta)>=0).astype('int')\n",
    "erreur_app=(abs(yapp-prediction_app)).mean()\n",
    "erreur_test=(abs(ytest-prediction_test)).mean()\n",
    "print(erreur_app,erreur_test)\n",
    "#Et nous avons diminuer l'erreur de 0.05 avec l'ajout de variable + pénalisation Ridge"
   ]
  }
 ],
 "metadata": {
  "kernelspec": {
   "display_name": "Python 3",
   "language": "python",
   "name": "python3"
  },
  "language_info": {
   "codemirror_mode": {
    "name": "ipython",
    "version": 3
   },
   "file_extension": ".py",
   "mimetype": "text/x-python",
   "name": "python",
   "nbconvert_exporter": "python",
   "pygments_lexer": "ipython3",
   "version": "3.9.5"
  }
 },
 "nbformat": 4,
 "nbformat_minor": 4
}
