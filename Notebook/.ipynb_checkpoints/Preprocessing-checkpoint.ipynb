{
 "cells": [
  {
   "cell_type": "markdown",
   "metadata": {
    "id": "Sj42m-X23jlu"
   },
   "source": [
    "# Treatment of data\n"
   ]
  },
  {
   "cell_type": "markdown",
   "metadata": {
    "id": "I8jcaXf-29I5"
   },
   "source": [
    "## Import libraries "
   ]
  },
  {
   "cell_type": "code",
   "execution_count": 2,
   "metadata": {
    "executionInfo": {
     "elapsed": 419,
     "status": "ok",
     "timestamp": 1620228888152,
     "user": {
      "displayName": "Astrid bn",
      "photoUrl": "",
      "userId": "03102256477269013281"
     },
     "user_tz": -120
    },
    "id": "lLrI-aV-p45H"
   },
   "outputs": [],
   "source": [
    "import pandas as pd\n",
    "import numpy as np\n",
    "import os "
   ]
  },
  {
   "cell_type": "markdown",
   "metadata": {
    "id": "hGJ6cwGsrJgU"
   },
   "source": [
    "## Upload data"
   ]
  },
  {
   "cell_type": "code",
   "execution_count": 30,
   "metadata": {
    "colab": {
     "base_uri": "https://localhost:8080/"
    },
    "executionInfo": {
     "elapsed": 1140,
     "status": "ok",
     "timestamp": 1620228889942,
     "user": {
      "displayName": "Astrid bn",
      "photoUrl": "",
      "userId": "03102256477269013281"
     },
     "user_tz": -120
    },
    "id": "Fumi9HxJqS8k",
    "outputId": "220a1a6f-b33d-460b-e40c-d3a448ba12a2"
   },
   "outputs": [
    {
     "name": "stderr",
     "output_type": "stream",
     "text": [
      "/Library/Frameworks/Python.framework/Versions/3.9/lib/python3.9/site-packages/IPython/core/interactiveshell.py:3169: DtypeWarning: Columns (12,15,16,17,18,38) have mixed types.Specify dtype option on import or set low_memory=False.\n",
      "  has_raised = await self.run_ast_nodes(code_ast.body, cell_name,\n"
     ]
    }
   ],
   "source": [
    "PATH_TO_DATA=os.path.join(\"..\",\"Data\")\n",
    "FILE=\"data_2000_2020.csv\"\n",
    "df = pd.read_csv(os.path.join(PATH_TO_DATA,FILE))"
   ]
  },
  {
   "cell_type": "markdown",
   "metadata": {
    "id": "6pNe06nFRf8f"
   },
   "source": [
    "## Columns to drop\n",
    "\n",
    "We drop these columns either because they contain info that are not available before the tennis game takes place or because they contain too many values that would make the number of columns after the one-hot encoding way too big. "
   ]
  },
  {
   "cell_type": "code",
   "execution_count": 5,
   "metadata": {
    "executionInfo": {
     "elapsed": 321,
     "status": "ok",
     "timestamp": 1620228890243,
     "user": {
      "displayName": "Astrid bn",
      "photoUrl": "",
      "userId": "03102256477269013281"
     },
     "user_tz": -120
    },
    "id": "3kOcO-MZsLWP"
   },
   "outputs": [],
   "source": [
    "liste = ['W1', 'L1', 'W2', 'L2', 'W3', 'L3', 'W4', 'L4', 'W5', 'L5','Wsets', 'Lsets','Location', 'Tournament', 'MaxW',\t'MaxL',\t'AvgW',\t'AvgL']\n",
    "df = df.drop(liste, axis = 1)"
   ]
  },
  {
   "cell_type": "markdown",
   "metadata": {
    "id": "_sjlsJVgU_Q0"
   },
   "source": [
    "## Get info on dataframe\n",
    "\n",
    "This function allows us to get a list of the colums with the number of values, the number of null values and their type. \n",
    "\n",
    "The argument 'only_empty = True' makes the function send back only columns that have null values"
   ]
  },
  {
   "cell_type": "code",
   "execution_count": 6,
   "metadata": {
    "executionInfo": {
     "elapsed": 315,
     "status": "ok",
     "timestamp": 1620228891414,
     "user": {
      "displayName": "Astrid bn",
      "photoUrl": "",
      "userId": "03102256477269013281"
     },
     "user_tz": -120
    },
    "id": "419dxVWxU_3G"
   },
   "outputs": [],
   "source": [
    "def get_info_columns(df,only_empty=True):\n",
    "    df_info=pd.DataFrame()\n",
    "    cols=[]\n",
    "    isnull=[]\n",
    "    count_values=[]\n",
    "    type_cols=[]\n",
    "    for col in df.columns:\n",
    "      if only_empty:\n",
    "        if df[col].isnull().sum() >0:\n",
    "          #if col==\"Location\":\n",
    "          cols.append(col)\n",
    "          isnull.append(df[col].isnull().sum())\n",
    "          count_values.append(len(df[col].value_counts()))\n",
    "          type_cols.append(df[col].dtype)\n",
    "          #print(\"*\"*5,'\\n',\"col:\",col,\"\\nNulles\",df[col].isnull().sum(),\"\\nvalue counts\",len(df[col].value_counts()),\"\\ntype\",df[col].dtype,\"\\n\")\n",
    "      else:\n",
    "        cols.append(col)\n",
    "        isnull.append(df[col].isnull().sum())\n",
    "        count_values.append(len(df[col].value_counts()))\n",
    "        type_cols.append(df[col].dtype)\n",
    "\n",
    "    df_info[\"cols\"]=cols\n",
    "    df_info[\"isnull\"]=isnull\n",
    "    df_info[\"count_values\"]=count_values\n",
    "    df_info[\"type_cols\"]=type_cols\n",
    "    \n",
    "    return df_info"
   ]
  },
  {
   "cell_type": "code",
   "execution_count": 7,
   "metadata": {
    "executionInfo": {
     "elapsed": 751,
     "status": "ok",
     "timestamp": 1620228892339,
     "user": {
      "displayName": "Astrid bn",
      "photoUrl": "",
      "userId": "03102256477269013281"
     },
     "user_tz": -120
    },
    "id": "yxw2TAPdjKLS"
   },
   "outputs": [],
   "source": [
    "info = get_info_columns(df,only_empty=False)"
   ]
  },
  {
   "cell_type": "markdown",
   "metadata": {
    "id": "J5c-1ewh8UUx"
   },
   "source": [
    "## Sort players by rank to reduce number of values \n",
    "\n",
    "20 premiers -> garde leur noms \n",
    "20-50 -> \"classé-20-50\"\n",
    "50-100 -> \"classé-20-50\"\n",
    "100-200 -> \"classé-100-200\"\n",
    "200-500 -> \"classé-200-500\"\n",
    "500-1000 -> \"classé-500-1000\""
   ]
  },
  {
   "cell_type": "code",
   "execution_count": 8,
   "metadata": {
    "executionInfo": {
     "elapsed": 747,
     "status": "ok",
     "timestamp": 1620228894234,
     "user": {
      "displayName": "Astrid bn",
      "photoUrl": "",
      "userId": "03102256477269013281"
     },
     "user_tz": -120
    },
    "id": "Ot4M50Oj9K88"
   },
   "outputs": [],
   "source": [
    "df[\"LRank\"] = pd.to_numeric(df[\"LRank\"], errors='coerce')"
   ]
  },
  {
   "cell_type": "code",
   "execution_count": 9,
   "metadata": {
    "executionInfo": {
     "elapsed": 1253,
     "status": "ok",
     "timestamp": 1620228895499,
     "user": {
      "displayName": "Astrid bn",
      "photoUrl": "",
      "userId": "03102256477269013281"
     },
     "user_tz": -120
    },
    "id": "wz0qjkNO-M9P"
   },
   "outputs": [],
   "source": [
    "df.loc[(df['WRank'] > 15) & (df['WRank'] <= 25),'Winner'] = \"classé-15-25\"\n",
    "df.loc[(df['WRank'] > 25) & (df['WRank'] <= 50),'Winner'] = \"classé-25-50\"\n",
    "df.loc[(df['WRank'] > 50) & (df['WRank'] <= 100),'Winner'] = \"classé-50-100\"\n",
    "df.loc[(df['WRank'] > 100) & (df['WRank'] <= 200),'Winner'] = \"classé-100-200\"\n",
    "df.loc[(df['WRank'] > 200) & (df['WRank'] <= 500),'Winner'] = \"classé-200-500\"\n",
    "df.loc[(df['WRank'] > 500) & (df['WRank'] <= 1000),'Winner'] = \"classé-500-1000\"\n",
    "df.loc[(df['WRank'] >1000),'Winner'] = \"classé-plus-de-1000\""
   ]
  },
  {
   "cell_type": "code",
   "execution_count": 10,
   "metadata": {
    "executionInfo": {
     "elapsed": 865,
     "status": "ok",
     "timestamp": 1620228895500,
     "user": {
      "displayName": "Astrid bn",
      "photoUrl": "",
      "userId": "03102256477269013281"
     },
     "user_tz": -120
    },
    "id": "XNlU5TgT_kOB"
   },
   "outputs": [],
   "source": [
    "df.loc[(df['LRank'] > 15) & (df['LRank'] <= 25),'Loser'] = \"classé-15-25\"\n",
    "df.loc[(df['LRank'] > 25) & (df['LRank'] <= 50),'Loser'] = \"classé-25-50\"\n",
    "df.loc[(df['LRank'] > 50) & (df['LRank'] <= 100),'Loser'] = \"classé-50-100\"\n",
    "df.loc[(df['LRank'] > 100) & (df['LRank'] <= 200),'Loser'] = \"classé-100-200\"\n",
    "df.loc[(df['LRank'] > 200) & (df['LRank'] <= 500),'Loser'] = \"classé-200-500\"\n",
    "df.loc[(df['LRank'] > 500) & (df['LRank'] <= 1000),'Loser'] = \"classé-500-1000\"\n",
    "df.loc[(df['LRank'] >1000),'Loser'] = \"classé-plus-de-1000\""
   ]
  },
  {
   "cell_type": "markdown",
   "metadata": {
    "id": "HIH0EB3drMn7"
   },
   "source": [
    "## Player names \n"
   ]
  },
  {
   "cell_type": "markdown",
   "metadata": {
    "id": "jT79Z795A-UK"
   },
   "source": [
    "### Players that appear with 2 different syntaxes for their name : \n",
    "\n",
    "This part was done by hand but we could have found a way to automize it with a for loop. \n",
    "\n",
    "Some players were had an additionnal blank in their name which made the algorithm believe they were two disctinct players instead of one so we tried to fix this. \n"
   ]
  },
  {
   "cell_type": "code",
   "execution_count": 11,
   "metadata": {
    "executionInfo": {
     "elapsed": 813,
     "status": "ok",
     "timestamp": 1620228897563,
     "user": {
      "displayName": "Astrid bn",
      "photoUrl": "",
      "userId": "03102256477269013281"
     },
     "user_tz": -120
    },
    "id": "35mn2nFeC4Hx"
   },
   "outputs": [],
   "source": [
    "df.loc[(df['Winner'] == 'Djokovic N. '), 'Winner'] = 'Djokovic N.'\n",
    "df.loc[(df['Winner'] == 'Federer R. '), 'Winner'] = 'Federer R.'\n",
    "df.loc[(df['Winner'] == 'Nadal R. '), 'Winner'] = 'Nadal R.'\n",
    "df.loc[(df['Winner'] == 'Murray A. '), 'Winner'] = 'Murray A.'\n",
    "df.loc[(df['Winner'] == 'Roddick A. '), 'Winner'] = 'Roddick A.'\n",
    "df.loc[(df['Winner'] == 'Davydenko N. '), 'Winner'] = 'Davydenko N.'\n",
    "df.loc[(df['Winner'] == 'Verdasco F. '), 'Winner'] = 'Verdasco F.'\n",
    "df.loc[(df['Winner'] == 'Ferrero J.C. '), 'Winner'] = 'Ferrero J.C.'\n",
    "df.loc[(df['Winner'] == 'Simon G. '), 'Winner'] = 'Simon G.'\n",
    "df.loc[(df['Winner'] == 'Cilic M. '), 'Winner'] = 'Cilic M.'\n",
    "df.loc[(df['Winner'] == 'Thiem D. '), 'Winner'] = 'Thiem D.'\n",
    "df.loc[(df['Winner'] == 'Robredo T. '), 'Winner'] = 'Robredo T.'\n",
    "df.loc[(df['Winner'] == 'Zverev A. '), 'Winner'] = 'Zverev A.'\n",
    "df.loc[(df['Winner'] == 'Stepanek R. '), 'Winner'] = 'Stepanek R.'\n",
    "df.loc[(df['Winner'] == 'Tsitsipas S. '), 'Winner'] = 'Tsitsipas S.'\n",
    "df.loc[(df['Winner'] == 'Bautista Agut R.'), 'Winner'] = 'Bautista R.'\n",
    "df.loc[(df['Winner'] == 'Berrettini M. '), 'Winner'] = 'Berrettini M.'\n",
    "df.loc[(df['Winner'] == 'Stepanek R. '), 'Winner'] = 'Stepanek R.'"
   ]
  },
  {
   "cell_type": "code",
   "execution_count": 12,
   "metadata": {
    "executionInfo": {
     "elapsed": 723,
     "status": "ok",
     "timestamp": 1620228927180,
     "user": {
      "displayName": "Astrid bn",
      "photoUrl": "",
      "userId": "03102256477269013281"
     },
     "user_tz": -120
    },
    "id": "Zs6ih__yJJGk"
   },
   "outputs": [],
   "source": [
    "df.loc[(df['Loser'] == 'Djokovic N. '), 'Loser'] = 'Djokovic N.'\n",
    "df.loc[(df['Loser'] == 'Federer R. '), 'Loser'] = 'Federer R.'\n",
    "df.loc[(df['Loser'] == 'Nadal R. '), 'Loser'] = 'Nadal R.'\n",
    "df.loc[(df['Loser'] == 'Murray A. '), 'Loser'] = 'Murray A.'\n",
    "df.loc[(df['Loser'] == 'Roddick A. '), 'Loser'] = 'Roddick A.'\n",
    "df.loc[(df['Loser'] == 'Davydenko N. '), 'Loser'] = 'Davydenko N.'\n",
    "df.loc[(df['Loser'] == 'Verdasco F. '), 'Loser'] = 'Verdasco F.'\n",
    "df.loc[(df['Loser'] == 'Ferrero J.C. '), 'Loser'] = 'Ferrero J.C.'\n",
    "df.loc[(df['Loser'] == 'Simon G. '), 'Loser'] = 'Simon G.'\n",
    "df.loc[(df['Loser'] == 'Cilic M. '), 'Loser'] = 'Cilic M.'\n",
    "df.loc[(df['Loser'] == 'Thiem D. '), 'Loser'] = 'Thiem D.'\n",
    "df.loc[(df['Loser'] == 'Robredo T. '), 'Loser'] = 'Robredo T.'\n",
    "df.loc[(df['Loser'] == 'Zverev A. '), 'Loser'] = 'Zverev A.'\n",
    "df.loc[(df['Loser'] == 'Stepanek R. '), 'Loser'] = 'Stepanek R.'\n",
    "df.loc[(df['Loser'] == 'Tsitsipas S. '), 'Loser'] = 'Tsitsipas S.'\n",
    "df.loc[(df['Loser'] == 'Bautista Agut R.'), 'Loser'] = 'Bautista R.'\n",
    "df.loc[(df['Loser'] == 'Berrettini M. '), 'Loser'] = 'Berrettini M.'\n",
    "df.loc[(df['Loser'] == 'Stepanek R. '), 'Loser'] = 'Stepanek R.'\n",
    "df.loc[(df['Loser'] == 'Tsonga J.W. '), 'Loser'] = 'Tsonga J.W.'\n",
    "df.loc[(df['Loser'] == 'Gonzalez F. '), 'Loser'] = 'Gonzalez F.'"
   ]
  },
  {
   "cell_type": "markdown",
   "metadata": {
    "id": "y20BcrxU2gA5"
   },
   "source": [
    "### Create Player 0, Player 1 and winner\n",
    "\n",
    "Player 1 = player with best rank between winner and loser \n",
    "\n",
    "Player 0 = the other player\n",
    "\n",
    "winner = 0 or 1 according to which player won \n",
    "\n",
    "index of columns to use iloc :\n",
    "\n",
    "Winner : 9                                                 \n",
    "Loser : 10                                                  \n",
    "WRank : 11                                                 \n",
    "Lrank : 12                          \n",
    "\n",
    "player0 : 42                                               \n",
    "player1 : 43                                                \n",
    "winner : 44"
   ]
  },
  {
   "cell_type": "code",
   "execution_count": 13,
   "metadata": {
    "executionInfo": {
     "elapsed": 533,
     "status": "ok",
     "timestamp": 1620228934379,
     "user": {
      "displayName": "Astrid bn",
      "photoUrl": "",
      "userId": "03102256477269013281"
     },
     "user_tz": -120
    },
    "id": "t5bWcC0euuJZ"
   },
   "outputs": [],
   "source": [
    "df[\"player0\"] = \"0\"  \n",
    "df[\"player1\"] = \"0\"  \n",
    "df[\"winner\"] = \"0\"  "
   ]
  },
  {
   "cell_type": "code",
   "execution_count": 14,
   "metadata": {
    "executionInfo": {
     "elapsed": 473,
     "status": "ok",
     "timestamp": 1620228936377,
     "user": {
      "displayName": "Astrid bn",
      "photoUrl": "",
      "userId": "03102256477269013281"
     },
     "user_tz": -120
    },
    "id": "pD90NdGcKwJZ"
   },
   "outputs": [],
   "source": [
    "df_test = df\n",
    "df_test.loc[(df_test['LRank'] > df_test['WRank']),'player0'] = df_test.loc[(df_test['LRank'] > df_test['WRank']),'Loser']\n",
    "df_test.loc[(df_test['LRank'] > df_test['WRank']),'player1'] = df_test.loc[(df_test['LRank'] > df_test['WRank']),'Winner']\n",
    "df_test.loc[(df_test['LRank'] > df_test['WRank']),'winner'] = 1\n",
    "\n",
    "df_test.loc[(df_test['LRank'] <= df_test['WRank']),'player0'] = df_test.loc[(df_test['LRank'] <= df_test['WRank']),'Winner']\n",
    "df_test.loc[(df_test['LRank'] <= df_test['WRank']),'player1'] = df_test.loc[(df_test['LRank'] <= df_test['WRank']),'Loser']\n",
    "df_test.loc[(df_test['LRank'] <= df_test['WRank']),'winner'] = 0"
   ]
  },
  {
   "cell_type": "code",
   "execution_count": 15,
   "metadata": {
    "executionInfo": {
     "elapsed": 719,
     "status": "ok",
     "timestamp": 1620228938817,
     "user": {
      "displayName": "Astrid bn",
      "photoUrl": "",
      "userId": "03102256477269013281"
     },
     "user_tz": -120
    },
    "id": "Qtyp2Y3SdQIJ"
   },
   "outputs": [],
   "source": [
    "#df_test.drop(df_test['player0'] == '0' | df_test['player1'] == '0')\n",
    "df_test.drop(df_test[df_test['player0'] == '0'].index, axis=0, inplace=True)\n",
    "df_test.drop(df_test[df_test['player1'] == '0'].index, axis=0, inplace=True)"
   ]
  },
  {
   "cell_type": "code",
   "execution_count": 16,
   "metadata": {
    "executionInfo": {
     "elapsed": 647,
     "status": "ok",
     "timestamp": 1620228940296,
     "user": {
      "displayName": "Astrid bn",
      "photoUrl": "",
      "userId": "03102256477269013281"
     },
     "user_tz": -120
    },
    "id": "8V6P5btBpcO9"
   },
   "outputs": [],
   "source": [
    "df = df_test"
   ]
  },
  {
   "cell_type": "markdown",
   "metadata": {
    "id": "rHAqm3MNpVT0"
   },
   "source": [
    "higher rank (worst player) as player 0  \n",
    "mieux classé a le plus petit Rank \n",
    "for i in range(0,len(df_test)):\n",
    "  if (df_test.iloc[i,11] < df_test.iloc[i,12]): #WRank < LRank (winner better ranked) # winner -> player1 #loser -> player0 #rand = 1  \n",
    "    df_test.iloc[i,43] = df_test.iloc[i,9]\n",
    "    df_test.iloc[i,42] = df_test.iloc[i,10]\n",
    "    df_test.iloc[i,44] = 1\n",
    "  else: #winer -> player0 loser -> player1\n",
    "    df_test.iloc[i,43] = df_test.iloc[i,10]\n",
    "    df_test.iloc[i,42] = df_test.iloc[i,9]\n",
    "    df_test.iloc[i,44] = 0"
   ]
  },
  {
   "cell_type": "markdown",
   "metadata": {
    "id": "n0zXF_PlZ2Bi"
   },
   "source": [
    "### Create columns to associate variables to player 1 and 0 instead of W and L "
   ]
  },
  {
   "cell_type": "code",
   "execution_count": 17,
   "metadata": {
    "executionInfo": {
     "elapsed": 846,
     "status": "ok",
     "timestamp": 1620228945953,
     "user": {
      "displayName": "Astrid bn",
      "photoUrl": "",
      "userId": "03102256477269013281"
     },
     "user_tz": -120
    },
    "id": "lg3sVBzNeEFY"
   },
   "outputs": [],
   "source": [
    "dfW = df_test[df_test[\"WRank\"] < df_test['LRank']] \n",
    "dfW = dfW.rename(columns={\"WRank\": \"RankP1\", \"LRank\": \"RankP0\",'WPts' : 'PtsP1', 'LPts' :'PtsP0' ,'B365W' : 'B365P1', 'B365L' : 'B365P0', 'CBW' : 'CBP1', 'CBL' : 'CBP0',\n",
    "       'EXW' : 'EXP1','B&WW': 'B&WP1','B&WL': 'B&WP0', 'EXL' : 'EXP0', 'IWW' : 'IWP1', 'IWL' : 'IWP0', 'PSW': 'PSP1', 'PSL':'PSP0', 'UBW' : 'UBP1', 'UBL': 'UBP0', 'LBW':'LBP1', 'LBL':'LBP0',\n",
    "       'SJW' : 'SJP1', 'SJL' : 'SJP0', 'MaxW' : 'MaxP1', 'MaxL' : 'MaxP0', 'AvgW' : 'AvgP1', 'AvgL' : 'AvgP0' , 'SBW':\"SBP1\", 'SBL':'SBP0'})\n"
   ]
  },
  {
   "cell_type": "code",
   "execution_count": 18,
   "metadata": {
    "executionInfo": {
     "elapsed": 547,
     "status": "ok",
     "timestamp": 1620228946826,
     "user": {
      "displayName": "Astrid bn",
      "photoUrl": "",
      "userId": "03102256477269013281"
     },
     "user_tz": -120
    },
    "id": "zURF5oP6hO4t"
   },
   "outputs": [],
   "source": [
    "dfL = df_test[df_test[\"WRank\"] >= df_test['LRank']] \n",
    "dfL = dfL.rename(columns={\"WRank\": \"RankP0\", \"LRank\": \"RankP1\",'WPts' : 'PtsP0', 'LPts' :'PtsP1' ,'B365W' : 'B365P0', 'B365L' : 'B365P1', 'CBW' : 'CBP0', 'CBL' : 'CBP1',\n",
    "       'EXW' : 'EXP0', 'B&WW': 'B&WP0','B&WL': 'B&WP1','EXL' : 'EXP1', 'IWW' : 'IWP0', 'IWL' : 'IWP1', 'PSW': 'PSP0', 'PSL':'PSP1', 'UBW' : 'UBP0', 'UBL': 'UBP1', 'LBW':'LBP0', 'LBL':'LBP1',\n",
    "       'SJW' : 'SJP0', 'SJL' : 'SJP1', 'MaxW' : 'MaxP0', 'MaxL' : 'MaxP1', 'AvgW' : 'AvgP0', 'AvgL' : 'AvgP1' , 'SBW':\"SBP0\", 'SBL':'SBP1'})"
   ]
  },
  {
   "cell_type": "markdown",
   "metadata": {
    "id": "NGW6Omhqhy1l"
   },
   "source": [
    "### Now combine the 2 dataframes again \n"
   ]
  },
  {
   "cell_type": "code",
   "execution_count": 19,
   "metadata": {
    "executionInfo": {
     "elapsed": 980,
     "status": "ok",
     "timestamp": 1620228953245,
     "user": {
      "displayName": "Astrid bn",
      "photoUrl": "",
      "userId": "03102256477269013281"
     },
     "user_tz": -120
    },
    "id": "kOtPl66HcnB6"
   },
   "outputs": [],
   "source": [
    "dfc = pd.concat([dfW, dfL], ignore_index=True)\n",
    "df = dfc.sort_values(by=\"Date\")\n",
    "df = df.drop(['Winner','Loser'], axis = 1)"
   ]
  },
  {
   "cell_type": "markdown",
   "metadata": {
    "id": "MtyfpDy1vYhq"
   },
   "source": [
    "## Null Values "
   ]
  },
  {
   "cell_type": "markdown",
   "metadata": {
    "id": "ASMv8BQWAOVm"
   },
   "source": [
    "### Check columns types and delete na"
   ]
  },
  {
   "cell_type": "code",
   "execution_count": 20,
   "metadata": {
    "executionInfo": {
     "elapsed": 954,
     "status": "ok",
     "timestamp": 1620228958838,
     "user": {
      "displayName": "Astrid bn",
      "photoUrl": "",
      "userId": "03102256477269013281"
     },
     "user_tz": -120
    },
    "id": "Xk8gff7hv6Ti"
   },
   "outputs": [],
   "source": [
    "df_info = get_info_columns(df)"
   ]
  },
  {
   "cell_type": "markdown",
   "metadata": {
    "id": "V_BuyaV6wbtW"
   },
   "source": [
    "### To numeric "
   ]
  },
  {
   "cell_type": "code",
   "execution_count": 21,
   "metadata": {
    "executionInfo": {
     "elapsed": 798,
     "status": "ok",
     "timestamp": 1620228963106,
     "user": {
      "displayName": "Astrid bn",
      "photoUrl": "",
      "userId": "03102256477269013281"
     },
     "user_tz": -120
    },
    "id": "VpvyxV6Pvu-z"
   },
   "outputs": [],
   "source": [
    "df[\"winner\"] = pd.to_numeric(df[\"winner\"], errors='coerce')\n",
    "df[\"EXP0\"] = pd.to_numeric(df[\"EXP0\"], errors='coerce')\n",
    "df[\"EXP1\"] = pd.to_numeric(df[\"EXP1\"], errors='coerce')"
   ]
  },
  {
   "cell_type": "markdown",
   "metadata": {
    "id": "6WSN0ZNlBTzP"
   },
   "source": [
    "### Fill empty spots\n"
   ]
  },
  {
   "cell_type": "code",
   "execution_count": 22,
   "metadata": {
    "executionInfo": {
     "elapsed": 535,
     "status": "ok",
     "timestamp": 1620228966147,
     "user": {
      "displayName": "Astrid bn",
      "photoUrl": "",
      "userId": "03102256477269013281"
     },
     "user_tz": -120
    },
    "id": "9BcbaBWh4aXL"
   },
   "outputs": [],
   "source": [
    "df_info=get_info_columns(df,only_empty = True)\n",
    "list_col_empty = df_info.cols\n",
    "for col in list_col_empty:\n",
    "  df.loc[df[col].isna()==True,col] = df.loc[:,col].mean()"
   ]
  },
  {
   "cell_type": "markdown",
   "metadata": {
    "id": "62xOsYO2yY5K"
   },
   "source": [
    "## One Hot encoding"
   ]
  },
  {
   "cell_type": "code",
   "execution_count": 23,
   "metadata": {
    "executionInfo": {
     "elapsed": 647,
     "status": "ok",
     "timestamp": 1620228969820,
     "user": {
      "displayName": "Astrid bn",
      "photoUrl": "",
      "userId": "03102256477269013281"
     },
     "user_tz": -120
    },
    "id": "xrBewq_-yfEP"
   },
   "outputs": [],
   "source": [
    "cols_to_dumb = ['Series', 'Court', 'Surface', 'Round', 'Comment', 'player0','player1']\n",
    "df_dumb = pd.get_dummies(df, prefix=None, prefix_sep='_', dummy_na=False, columns=cols_to_dumb, drop_first=False, dtype=None)\n",
    "df = df_dumb"
   ]
  },
  {
   "cell_type": "markdown",
   "metadata": {
    "id": "0svpP1gJeGv3"
   },
   "source": [
    "## Treatment for the dates \n",
    "\n",
    "We divide the date which was in the format day-month-year in three columns and make them numeric. \n",
    "\n",
    "\n",
    "\n"
   ]
  },
  {
   "cell_type": "code",
   "execution_count": 25,
   "metadata": {
    "executionInfo": {
     "elapsed": 521,
     "status": "ok",
     "timestamp": 1620228978009,
     "user": {
      "displayName": "Astrid bn",
      "photoUrl": "",
      "userId": "03102256477269013281"
     },
     "user_tz": -120
    },
    "id": "8S2VWppXBdM9"
   },
   "outputs": [],
   "source": [
    "df['Annee'] = df['Date'].astype(str).str[2:4]\n",
    "df['Mois'] = df['Date'].astype(str).str[6:7]\n",
    "df['Jour'] = df['Date'].astype(str).str[8:10]"
   ]
  },
  {
   "cell_type": "code",
   "execution_count": 26,
   "metadata": {
    "executionInfo": {
     "elapsed": 992,
     "status": "ok",
     "timestamp": 1620228979811,
     "user": {
      "displayName": "Astrid bn",
      "photoUrl": "",
      "userId": "03102256477269013281"
     },
     "user_tz": -120
    },
    "id": "mMaflsnChL1P"
   },
   "outputs": [],
   "source": [
    "df[\"Annee\"] = pd.to_numeric(df[\"Annee\"], errors='coerce')\n",
    "df[\"Mois\"] = pd.to_numeric(df[\"Mois\"], errors='coerce')\n",
    "df[\"Jour\"] = pd.to_numeric(df[\"Jour\"], errors='coerce')"
   ]
  },
  {
   "cell_type": "code",
   "execution_count": 27,
   "metadata": {
    "executionInfo": {
     "elapsed": 597,
     "status": "ok",
     "timestamp": 1620228982363,
     "user": {
      "displayName": "Astrid bn",
      "photoUrl": "",
      "userId": "03102256477269013281"
     },
     "user_tz": -120
    },
    "id": "3TOEzoMKhc1l"
   },
   "outputs": [],
   "source": [
    "df = df.drop(['Date'], axis = 1)"
   ]
  },
  {
   "cell_type": "code",
   "execution_count": 28,
   "metadata": {
    "colab": {
     "base_uri": "https://localhost:8080/",
     "height": 456
    },
    "executionInfo": {
     "elapsed": 956,
     "status": "ok",
     "timestamp": 1620228990374,
     "user": {
      "displayName": "Astrid bn",
      "photoUrl": "",
      "userId": "03102256477269013281"
     },
     "user_tz": -120
    },
    "id": "xCtiZc1BLFke",
    "outputId": "0df0edb0-3ff2-4b2d-dc3a-a4fe6f7ce044"
   },
   "outputs": [
    {
     "data": {
      "text/html": [
       "<div>\n",
       "<style scoped>\n",
       "    .dataframe tbody tr th:only-of-type {\n",
       "        vertical-align: middle;\n",
       "    }\n",
       "\n",
       "    .dataframe tbody tr th {\n",
       "        vertical-align: top;\n",
       "    }\n",
       "\n",
       "    .dataframe thead th {\n",
       "        text-align: right;\n",
       "    }\n",
       "</style>\n",
       "<table border=\"1\" class=\"dataframe\">\n",
       "  <thead>\n",
       "    <tr style=\"text-align: right;\">\n",
       "      <th></th>\n",
       "      <th>ATP</th>\n",
       "      <th>Best of</th>\n",
       "      <th>RankP1</th>\n",
       "      <th>RankP0</th>\n",
       "      <th>CBP1</th>\n",
       "      <th>CBP0</th>\n",
       "      <th>GBW</th>\n",
       "      <th>GBL</th>\n",
       "      <th>IWP1</th>\n",
       "      <th>IWP0</th>\n",
       "      <th>...</th>\n",
       "      <th>player1_Zverev A.</th>\n",
       "      <th>player1_classé-100-200</th>\n",
       "      <th>player1_classé-15-25</th>\n",
       "      <th>player1_classé-200-500</th>\n",
       "      <th>player1_classé-25-50</th>\n",
       "      <th>player1_classé-50-100</th>\n",
       "      <th>player1_classé-500-1000</th>\n",
       "      <th>Annee</th>\n",
       "      <th>Mois</th>\n",
       "      <th>Jour</th>\n",
       "    </tr>\n",
       "  </thead>\n",
       "  <tbody>\n",
       "    <tr>\n",
       "      <th>0</th>\n",
       "      <td>1</td>\n",
       "      <td>3</td>\n",
       "      <td>18.0</td>\n",
       "      <td>101.0</td>\n",
       "      <td>1.578642</td>\n",
       "      <td>3.174237</td>\n",
       "      <td>1.732327</td>\n",
       "      <td>2.376439</td>\n",
       "      <td>1.496667</td>\n",
       "      <td>2.536149</td>\n",
       "      <td>...</td>\n",
       "      <td>0</td>\n",
       "      <td>0</td>\n",
       "      <td>1</td>\n",
       "      <td>0</td>\n",
       "      <td>0</td>\n",
       "      <td>0</td>\n",
       "      <td>0</td>\n",
       "      <td>1</td>\n",
       "      <td>1</td>\n",
       "      <td>1</td>\n",
       "    </tr>\n",
       "    <tr>\n",
       "      <th>73293</th>\n",
       "      <td>3</td>\n",
       "      <td>3</td>\n",
       "      <td>5.0</td>\n",
       "      <td>76.0</td>\n",
       "      <td>1.280000</td>\n",
       "      <td>3.250000</td>\n",
       "      <td>2.550000</td>\n",
       "      <td>1.350000</td>\n",
       "      <td>1.200000</td>\n",
       "      <td>2.800000</td>\n",
       "      <td>...</td>\n",
       "      <td>0</td>\n",
       "      <td>0</td>\n",
       "      <td>0</td>\n",
       "      <td>0</td>\n",
       "      <td>0</td>\n",
       "      <td>0</td>\n",
       "      <td>0</td>\n",
       "      <td>1</td>\n",
       "      <td>1</td>\n",
       "      <td>1</td>\n",
       "    </tr>\n",
       "    <tr>\n",
       "      <th>73294</th>\n",
       "      <td>3</td>\n",
       "      <td>3</td>\n",
       "      <td>20.0</td>\n",
       "      <td>46.0</td>\n",
       "      <td>1.420000</td>\n",
       "      <td>2.600000</td>\n",
       "      <td>2.350000</td>\n",
       "      <td>1.420000</td>\n",
       "      <td>1.450000</td>\n",
       "      <td>2.000000</td>\n",
       "      <td>...</td>\n",
       "      <td>0</td>\n",
       "      <td>0</td>\n",
       "      <td>1</td>\n",
       "      <td>0</td>\n",
       "      <td>0</td>\n",
       "      <td>0</td>\n",
       "      <td>0</td>\n",
       "      <td>1</td>\n",
       "      <td>1</td>\n",
       "      <td>1</td>\n",
       "    </tr>\n",
       "    <tr>\n",
       "      <th>73295</th>\n",
       "      <td>3</td>\n",
       "      <td>3</td>\n",
       "      <td>48.0</td>\n",
       "      <td>76.0</td>\n",
       "      <td>1.420000</td>\n",
       "      <td>2.700000</td>\n",
       "      <td>2.150000</td>\n",
       "      <td>1.500000</td>\n",
       "      <td>1.450000</td>\n",
       "      <td>2.000000</td>\n",
       "      <td>...</td>\n",
       "      <td>0</td>\n",
       "      <td>0</td>\n",
       "      <td>0</td>\n",
       "      <td>0</td>\n",
       "      <td>1</td>\n",
       "      <td>0</td>\n",
       "      <td>0</td>\n",
       "      <td>1</td>\n",
       "      <td>1</td>\n",
       "      <td>1</td>\n",
       "    </tr>\n",
       "    <tr>\n",
       "      <th>74367</th>\n",
       "      <td>1</td>\n",
       "      <td>3</td>\n",
       "      <td>67.0</td>\n",
       "      <td>127.0</td>\n",
       "      <td>1.578642</td>\n",
       "      <td>3.174237</td>\n",
       "      <td>1.732327</td>\n",
       "      <td>2.376439</td>\n",
       "      <td>1.496667</td>\n",
       "      <td>2.536149</td>\n",
       "      <td>...</td>\n",
       "      <td>0</td>\n",
       "      <td>0</td>\n",
       "      <td>0</td>\n",
       "      <td>0</td>\n",
       "      <td>0</td>\n",
       "      <td>1</td>\n",
       "      <td>0</td>\n",
       "      <td>1</td>\n",
       "      <td>1</td>\n",
       "      <td>1</td>\n",
       "    </tr>\n",
       "    <tr>\n",
       "      <th>...</th>\n",
       "      <td>...</td>\n",
       "      <td>...</td>\n",
       "      <td>...</td>\n",
       "      <td>...</td>\n",
       "      <td>...</td>\n",
       "      <td>...</td>\n",
       "      <td>...</td>\n",
       "      <td>...</td>\n",
       "      <td>...</td>\n",
       "      <td>...</td>\n",
       "      <td>...</td>\n",
       "      <td>...</td>\n",
       "      <td>...</td>\n",
       "      <td>...</td>\n",
       "      <td>...</td>\n",
       "      <td>...</td>\n",
       "      <td>...</td>\n",
       "      <td>...</td>\n",
       "      <td>...</td>\n",
       "      <td>...</td>\n",
       "      <td>...</td>\n",
       "    </tr>\n",
       "    <tr>\n",
       "      <th>73254</th>\n",
       "      <td>32</td>\n",
       "      <td>3</td>\n",
       "      <td>1.0</td>\n",
       "      <td>7.0</td>\n",
       "      <td>1.578642</td>\n",
       "      <td>3.174237</td>\n",
       "      <td>1.732327</td>\n",
       "      <td>2.376439</td>\n",
       "      <td>1.496667</td>\n",
       "      <td>2.536149</td>\n",
       "      <td>...</td>\n",
       "      <td>0</td>\n",
       "      <td>0</td>\n",
       "      <td>0</td>\n",
       "      <td>0</td>\n",
       "      <td>0</td>\n",
       "      <td>0</td>\n",
       "      <td>0</td>\n",
       "      <td>20</td>\n",
       "      <td>1</td>\n",
       "      <td>20</td>\n",
       "    </tr>\n",
       "    <tr>\n",
       "      <th>73255</th>\n",
       "      <td>32</td>\n",
       "      <td>3</td>\n",
       "      <td>4.0</td>\n",
       "      <td>9.0</td>\n",
       "      <td>1.578642</td>\n",
       "      <td>3.174237</td>\n",
       "      <td>1.732327</td>\n",
       "      <td>2.376439</td>\n",
       "      <td>1.496667</td>\n",
       "      <td>2.536149</td>\n",
       "      <td>...</td>\n",
       "      <td>0</td>\n",
       "      <td>0</td>\n",
       "      <td>0</td>\n",
       "      <td>0</td>\n",
       "      <td>0</td>\n",
       "      <td>0</td>\n",
       "      <td>0</td>\n",
       "      <td>20</td>\n",
       "      <td>1</td>\n",
       "      <td>20</td>\n",
       "    </tr>\n",
       "    <tr>\n",
       "      <th>110529</th>\n",
       "      <td>32</td>\n",
       "      <td>3</td>\n",
       "      <td>1.0</td>\n",
       "      <td>3.0</td>\n",
       "      <td>1.578642</td>\n",
       "      <td>3.174237</td>\n",
       "      <td>1.732327</td>\n",
       "      <td>2.376439</td>\n",
       "      <td>1.496667</td>\n",
       "      <td>2.536149</td>\n",
       "      <td>...</td>\n",
       "      <td>0</td>\n",
       "      <td>0</td>\n",
       "      <td>0</td>\n",
       "      <td>0</td>\n",
       "      <td>0</td>\n",
       "      <td>0</td>\n",
       "      <td>0</td>\n",
       "      <td>20</td>\n",
       "      <td>1</td>\n",
       "      <td>21</td>\n",
       "    </tr>\n",
       "    <tr>\n",
       "      <th>110530</th>\n",
       "      <td>32</td>\n",
       "      <td>3</td>\n",
       "      <td>2.0</td>\n",
       "      <td>4.0</td>\n",
       "      <td>1.578642</td>\n",
       "      <td>3.174237</td>\n",
       "      <td>1.732327</td>\n",
       "      <td>2.376439</td>\n",
       "      <td>1.496667</td>\n",
       "      <td>2.536149</td>\n",
       "      <td>...</td>\n",
       "      <td>0</td>\n",
       "      <td>0</td>\n",
       "      <td>0</td>\n",
       "      <td>0</td>\n",
       "      <td>0</td>\n",
       "      <td>0</td>\n",
       "      <td>0</td>\n",
       "      <td>20</td>\n",
       "      <td>1</td>\n",
       "      <td>21</td>\n",
       "    </tr>\n",
       "    <tr>\n",
       "      <th>110531</th>\n",
       "      <td>32</td>\n",
       "      <td>3</td>\n",
       "      <td>3.0</td>\n",
       "      <td>4.0</td>\n",
       "      <td>1.578642</td>\n",
       "      <td>3.174237</td>\n",
       "      <td>1.732327</td>\n",
       "      <td>2.376439</td>\n",
       "      <td>1.496667</td>\n",
       "      <td>2.536149</td>\n",
       "      <td>...</td>\n",
       "      <td>0</td>\n",
       "      <td>0</td>\n",
       "      <td>0</td>\n",
       "      <td>0</td>\n",
       "      <td>0</td>\n",
       "      <td>0</td>\n",
       "      <td>0</td>\n",
       "      <td>20</td>\n",
       "      <td>1</td>\n",
       "      <td>22</td>\n",
       "    </tr>\n",
       "  </tbody>\n",
       "</table>\n",
       "<p>110532 rows × 276 columns</p>\n",
       "</div>"
      ],
      "text/plain": [
       "        ATP  Best of  RankP1  RankP0      CBP1      CBP0       GBW       GBL  \\\n",
       "0         1        3    18.0   101.0  1.578642  3.174237  1.732327  2.376439   \n",
       "73293     3        3     5.0    76.0  1.280000  3.250000  2.550000  1.350000   \n",
       "73294     3        3    20.0    46.0  1.420000  2.600000  2.350000  1.420000   \n",
       "73295     3        3    48.0    76.0  1.420000  2.700000  2.150000  1.500000   \n",
       "74367     1        3    67.0   127.0  1.578642  3.174237  1.732327  2.376439   \n",
       "...     ...      ...     ...     ...       ...       ...       ...       ...   \n",
       "73254    32        3     1.0     7.0  1.578642  3.174237  1.732327  2.376439   \n",
       "73255    32        3     4.0     9.0  1.578642  3.174237  1.732327  2.376439   \n",
       "110529   32        3     1.0     3.0  1.578642  3.174237  1.732327  2.376439   \n",
       "110530   32        3     2.0     4.0  1.578642  3.174237  1.732327  2.376439   \n",
       "110531   32        3     3.0     4.0  1.578642  3.174237  1.732327  2.376439   \n",
       "\n",
       "            IWP1      IWP0  ...  player1_Zverev A.  player1_classé-100-200  \\\n",
       "0       1.496667  2.536149  ...                  0                       0   \n",
       "73293   1.200000  2.800000  ...                  0                       0   \n",
       "73294   1.450000  2.000000  ...                  0                       0   \n",
       "73295   1.450000  2.000000  ...                  0                       0   \n",
       "74367   1.496667  2.536149  ...                  0                       0   \n",
       "...          ...       ...  ...                ...                     ...   \n",
       "73254   1.496667  2.536149  ...                  0                       0   \n",
       "73255   1.496667  2.536149  ...                  0                       0   \n",
       "110529  1.496667  2.536149  ...                  0                       0   \n",
       "110530  1.496667  2.536149  ...                  0                       0   \n",
       "110531  1.496667  2.536149  ...                  0                       0   \n",
       "\n",
       "        player1_classé-15-25  player1_classé-200-500  player1_classé-25-50  \\\n",
       "0                          1                       0                     0   \n",
       "73293                      0                       0                     0   \n",
       "73294                      1                       0                     0   \n",
       "73295                      0                       0                     1   \n",
       "74367                      0                       0                     0   \n",
       "...                      ...                     ...                   ...   \n",
       "73254                      0                       0                     0   \n",
       "73255                      0                       0                     0   \n",
       "110529                     0                       0                     0   \n",
       "110530                     0                       0                     0   \n",
       "110531                     0                       0                     0   \n",
       "\n",
       "        player1_classé-50-100  player1_classé-500-1000  Annee  Mois  Jour  \n",
       "0                           0                        0      1     1     1  \n",
       "73293                       0                        0      1     1     1  \n",
       "73294                       0                        0      1     1     1  \n",
       "73295                       0                        0      1     1     1  \n",
       "74367                       1                        0      1     1     1  \n",
       "...                       ...                      ...    ...   ...   ...  \n",
       "73254                       0                        0     20     1    20  \n",
       "73255                       0                        0     20     1    20  \n",
       "110529                      0                        0     20     1    21  \n",
       "110530                      0                        0     20     1    21  \n",
       "110531                      0                        0     20     1    22  \n",
       "\n",
       "[110532 rows x 276 columns]"
      ]
     },
     "execution_count": 28,
     "metadata": {},
     "output_type": "execute_result"
    }
   ],
   "source": [
    "df"
   ]
  },
  {
   "cell_type": "markdown",
   "metadata": {
    "id": "s_xb26zfa-u9"
   },
   "source": [
    "##Write dataframe in csv file "
   ]
  },
  {
   "cell_type": "code",
   "execution_count": 31,
   "metadata": {
    "executionInfo": {
     "elapsed": 8762,
     "status": "ok",
     "timestamp": 1620229104789,
     "user": {
      "displayName": "Astrid bn",
      "photoUrl": "",
      "userId": "03102256477269013281"
     },
     "user_tz": -120
    },
    "id": "sVkZtmkCa9B8"
   },
   "outputs": [],
   "source": [
    "NEW_FILE=\"clean_data.csv\"\n",
    "df.to_csv(os.path.join(PATH_TO_DATA,NEW_FILE), index=False)  "
   ]
  }
 ],
 "metadata": {
  "colab": {
   "collapsed_sections": [],
   "name": "Preprocessing.ipynb",
   "provenance": [],
   "toc_visible": true
  },
  "kernelspec": {
   "display_name": "Python 3",
   "language": "python",
   "name": "python3"
  },
  "language_info": {
   "codemirror_mode": {
    "name": "ipython",
    "version": 3
   },
   "file_extension": ".py",
   "mimetype": "text/x-python",
   "name": "python",
   "nbconvert_exporter": "python",
   "pygments_lexer": "ipython3",
   "version": "3.9.5"
  }
 },
 "nbformat": 4,
 "nbformat_minor": 1
}
