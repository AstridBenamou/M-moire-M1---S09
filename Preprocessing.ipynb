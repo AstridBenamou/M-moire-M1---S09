{
  "nbformat": 4,
  "nbformat_minor": 0,
  "metadata": {
    "colab": {
      "name": "Preprocessing.ipynb",
      "provenance": [],
      "collapsed_sections": [],
      "toc_visible": true,
      "include_colab_link": true
    },
    "kernelspec": {
      "display_name": "Python 3",
      "name": "python3"
    },
    "language_info": {
      "name": "python"
    }
  },
  "cells": [
    {
      "cell_type": "markdown",
      "metadata": {
        "id": "view-in-github",
        "colab_type": "text"
      },
      "source": [
        "<a href=\"https://colab.research.google.com/github/AstridBenamou/M-moire-M1---S09/blob/main/Preprocessing.ipynb\" target=\"_parent\"><img src=\"https://colab.research.google.com/assets/colab-badge.svg\" alt=\"Open In Colab\"/></a>"
      ]
    },
    {
      "cell_type": "markdown",
      "metadata": {
        "id": "Sj42m-X23jlu"
      },
      "source": [
        "# Treatment of data\n"
      ]
    },
    {
      "cell_type": "markdown",
      "metadata": {
        "id": "I8jcaXf-29I5"
      },
      "source": [
        "## Import libraries "
      ]
    },
    {
      "cell_type": "code",
      "metadata": {
        "id": "lLrI-aV-p45H"
      },
      "source": [
        "import pandas as pd\n",
        "import numpy as np\n",
        "import os "
      ],
      "execution_count": null,
      "outputs": []
    },
    {
      "cell_type": "markdown",
      "metadata": {
        "id": "hGJ6cwGsrJgU"
      },
      "source": [
        "## Upload data"
      ]
    },
    {
      "cell_type": "code",
      "metadata": {
        "colab": {
          "base_uri": "https://localhost:8080/"
        },
        "id": "TlBt_gtediPw",
        "outputId": "e224d63a-0b6c-40b5-f181-0bd669852892"
      },
      "source": [
        "from google.colab import drive\n",
        "drive.mount('/content/drive')"
      ],
      "execution_count": null,
      "outputs": [
        {
          "output_type": "stream",
          "text": [
            "Drive already mounted at /content/drive; to attempt to forcibly remount, call drive.mount(\"/content/drive\", force_remount=True).\n"
          ],
          "name": "stdout"
        }
      ]
    },
    {
      "cell_type": "code",
      "metadata": {
        "colab": {
          "base_uri": "https://localhost:8080/"
        },
        "id": "Fumi9HxJqS8k",
        "outputId": "9f681fa3-f97f-4a95-fe6b-bea038f081f9"
      },
      "source": [
        "df = pd.read_csv('/content/drive/MyDrive/Data_tennis/Raw_data/data_2000_2020.csv')"
      ],
      "execution_count": null,
      "outputs": [
        {
          "output_type": "stream",
          "text": [
            "/usr/local/lib/python3.7/dist-packages/IPython/core/interactiveshell.py:2718: DtypeWarning: Columns (12,15,16,17,18,38) have mixed types.Specify dtype option on import or set low_memory=False.\n",
            "  interactivity=interactivity, compiler=compiler, result=result)\n"
          ],
          "name": "stderr"
        }
      ]
    },
    {
      "cell_type": "markdown",
      "metadata": {
        "id": "6pNe06nFRf8f"
      },
      "source": [
        "## Columns to drop\n",
        "\n",
        "We drop these columns either because they contain info that are not available before the tennis game takes place or because they contain too many values that would make the number of columns after the one-hot encoding way too big. "
      ]
    },
    {
      "cell_type": "code",
      "metadata": {
        "id": "3kOcO-MZsLWP"
      },
      "source": [
        "liste = ['W1', 'L1', 'W2', 'L2', 'W3', 'L3', 'W4', 'L4', 'W5', 'L5','Wsets', 'Lsets','Location', 'Tournament', 'MaxW',\t'MaxL',\t'AvgW',\t'AvgL']\n",
        "df = df.drop(liste, axis = 1)"
      ],
      "execution_count": null,
      "outputs": []
    },
    {
      "cell_type": "markdown",
      "metadata": {
        "id": "_sjlsJVgU_Q0"
      },
      "source": [
        "## Get info on dataframe\n",
        "\n",
        "This function allows us to get a list of the colums with the number of values, the number of null values and their type. \n",
        "\n",
        "The argument 'only_empty = True' makes the function send back only columns that have null values"
      ]
    },
    {
      "cell_type": "code",
      "metadata": {
        "id": "419dxVWxU_3G"
      },
      "source": [
        "def get_info_columns(df,only_empty=True):\n",
        "    df_info=pd.DataFrame()\n",
        "    cols=[]\n",
        "    isnull=[]\n",
        "    count_values=[]\n",
        "    type_cols=[]\n",
        "    for col in df.columns:\n",
        "      if only_empty:\n",
        "        if df[col].isnull().sum() >0:\n",
        "          #if col==\"Location\":\n",
        "          cols.append(col)\n",
        "          isnull.append(df[col].isnull().sum())\n",
        "          count_values.append(len(df[col].value_counts()))\n",
        "          type_cols.append(df[col].dtype)\n",
        "          #print(\"*\"*5,'\\n',\"col:\",col,\"\\nNulles\",df[col].isnull().sum(),\"\\nvalue counts\",len(df[col].value_counts()),\"\\ntype\",df[col].dtype,\"\\n\")\n",
        "      else:\n",
        "        cols.append(col)\n",
        "        isnull.append(df[col].isnull().sum())\n",
        "        count_values.append(len(df[col].value_counts()))\n",
        "        type_cols.append(df[col].dtype)\n",
        "\n",
        "    df_info[\"cols\"]=cols\n",
        "    df_info[\"isnull\"]=isnull\n",
        "    df_info[\"count_values\"]=count_values\n",
        "    df_info[\"type_cols\"]=type_cols\n",
        "    \n",
        "    return df_info"
      ],
      "execution_count": null,
      "outputs": []
    },
    {
      "cell_type": "code",
      "metadata": {
        "id": "yxw2TAPdjKLS"
      },
      "source": [
        "info = get_info_columns(df,only_empty=False)"
      ],
      "execution_count": null,
      "outputs": []
    },
    {
      "cell_type": "markdown",
      "metadata": {
        "id": "J5c-1ewh8UUx"
      },
      "source": [
        "## Sort players by rank to reduce number of values \n",
        "\n",
        "20 premiers -> garde leur noms \n",
        "20-50 -> \"classé-20-50\"\n",
        "50-100 -> \"classé-20-50\"\n",
        "100-200 -> \"classé-100-200\"\n",
        "200-500 -> \"classé-200-500\"\n",
        "500-1000 -> \"classé-500-1000\""
      ]
    },
    {
      "cell_type": "code",
      "metadata": {
        "id": "Ot4M50Oj9K88"
      },
      "source": [
        "df[\"LRank\"] = pd.to_numeric(df[\"LRank\"], errors='coerce')"
      ],
      "execution_count": null,
      "outputs": []
    },
    {
      "cell_type": "code",
      "metadata": {
        "id": "wz0qjkNO-M9P"
      },
      "source": [
        "df.loc[(df['WRank'] > 15) & (df['WRank'] <= 25),'Winner'] = \"classé-15-25\"\n",
        "df.loc[(df['WRank'] > 25) & (df['WRank'] <= 50),'Winner'] = \"classé-25-50\"\n",
        "df.loc[(df['WRank'] > 50) & (df['WRank'] <= 100),'Winner'] = \"classé-50-100\"\n",
        "df.loc[(df['WRank'] > 100) & (df['WRank'] <= 200),'Winner'] = \"classé-100-200\"\n",
        "df.loc[(df['WRank'] > 200) & (df['WRank'] <= 500),'Winner'] = \"classé-200-500\"\n",
        "df.loc[(df['WRank'] > 500) & (df['WRank'] <= 1000),'Winner'] = \"classé-500-1000\"\n",
        "df.loc[(df['WRank'] >1000),'Winner'] = \"classé-plus-de-1000\""
      ],
      "execution_count": null,
      "outputs": []
    },
    {
      "cell_type": "code",
      "metadata": {
        "id": "XNlU5TgT_kOB"
      },
      "source": [
        "df.loc[(df['LRank'] > 15) & (df['LRank'] <= 25),'Loser'] = \"classé-15-25\"\n",
        "df.loc[(df['LRank'] > 25) & (df['LRank'] <= 50),'Loser'] = \"classé-25-50\"\n",
        "df.loc[(df['LRank'] > 50) & (df['LRank'] <= 100),'Loser'] = \"classé-50-100\"\n",
        "df.loc[(df['LRank'] > 100) & (df['LRank'] <= 200),'Loser'] = \"classé-100-200\"\n",
        "df.loc[(df['LRank'] > 200) & (df['LRank'] <= 500),'Loser'] = \"classé-200-500\"\n",
        "df.loc[(df['LRank'] > 500) & (df['LRank'] <= 1000),'Loser'] = \"classé-500-1000\"\n",
        "df.loc[(df['LRank'] >1000),'Loser'] = \"classé-plus-de-1000\""
      ],
      "execution_count": null,
      "outputs": []
    },
    {
      "cell_type": "markdown",
      "metadata": {
        "id": "HIH0EB3drMn7"
      },
      "source": [
        "## Player names \n"
      ]
    },
    {
      "cell_type": "markdown",
      "metadata": {
        "id": "y20BcrxU2gA5"
      },
      "source": [
        "### Create Player 0, Player 1 and winner\n",
        "\n",
        "Player 1 = player with best rank between winner and loser \n",
        "\n",
        "Player 0 = the other player\n",
        "\n",
        "winner = 0 or 1 according to which player won \n",
        "\n",
        "index of columns to use iloc :\n",
        "\n",
        "Winner : 9                                                 \n",
        "Loser : 10                                                  \n",
        "WRank : 11                                                 \n",
        "Lrank : 12                          \n",
        "\n",
        "player0 : 42                                               \n",
        "player1 : 43                                                \n",
        "winner : 44"
      ]
    },
    {
      "cell_type": "code",
      "metadata": {
        "id": "t5bWcC0euuJZ"
      },
      "source": [
        "df[\"player0\"] = \"0\"  \n",
        "df[\"player1\"] = \"0\"  \n",
        "df[\"winner\"] = \"0\"  "
      ],
      "execution_count": null,
      "outputs": []
    },
    {
      "cell_type": "code",
      "metadata": {
        "id": "pD90NdGcKwJZ"
      },
      "source": [
        "df_test = df\n",
        "df_test.loc[(df_test['LRank'] > df_test['WRank']),'player0'] = df_test.loc[(df_test['LRank'] > df_test['WRank']),'Loser']\n",
        "df_test.loc[(df_test['LRank'] > df_test['WRank']),'player1'] = df_test.loc[(df_test['LRank'] > df_test['WRank']),'Winner']\n",
        "df_test.loc[(df_test['LRank'] > df_test['WRank']),'winner'] = 1\n",
        "\n",
        "df_test.loc[(df_test['LRank'] <= df_test['WRank']),'player0'] = df_test.loc[(df_test['LRank'] <= df_test['WRank']),'Winner']\n",
        "df_test.loc[(df_test['LRank'] <= df_test['WRank']),'player1'] = df_test.loc[(df_test['LRank'] <= df_test['WRank']),'Loser']\n",
        "df_test.loc[(df_test['LRank'] <= df_test['WRank']),'winner'] = 0"
      ],
      "execution_count": null,
      "outputs": []
    },
    {
      "cell_type": "code",
      "metadata": {
        "id": "Qtyp2Y3SdQIJ"
      },
      "source": [
        "#df_test.drop(df_test['player0'] == '0' | df_test['player1'] == '0')\n",
        "df_test.drop(df_test[df_test['player0'] == '0'].index, axis=0, inplace=True)\n",
        "df_test.drop(df_test[df_test['player1'] == '0'].index, axis=0, inplace=True)"
      ],
      "execution_count": null,
      "outputs": []
    },
    {
      "cell_type": "code",
      "metadata": {
        "id": "8V6P5btBpcO9"
      },
      "source": [
        "df = df_test"
      ],
      "execution_count": null,
      "outputs": []
    },
    {
      "cell_type": "markdown",
      "metadata": {
        "id": "rHAqm3MNpVT0"
      },
      "source": [
        "higher rank (worst player) as player 0  \n",
        "mieux classé a le plus petit Rank \n",
        "for i in range(0,len(df_test)):\n",
        "  if (df_test.iloc[i,11] < df_test.iloc[i,12]): #WRank < LRank (winner better ranked) # winner -> player1 #loser -> player0 #rand = 1  \n",
        "    df_test.iloc[i,43] = df_test.iloc[i,9]\n",
        "    df_test.iloc[i,42] = df_test.iloc[i,10]\n",
        "    df_test.iloc[i,44] = 1\n",
        "  else: #winer -> player0 loser -> player1\n",
        "    df_test.iloc[i,43] = df_test.iloc[i,10]\n",
        "    df_test.iloc[i,42] = df_test.iloc[i,9]\n",
        "    df_test.iloc[i,44] = 0"
      ]
    },
    {
      "cell_type": "markdown",
      "metadata": {
        "id": "n0zXF_PlZ2Bi"
      },
      "source": [
        "### Create columns to associate variables to player 1 and 0 instead of W and L "
      ]
    },
    {
      "cell_type": "code",
      "metadata": {
        "id": "lg3sVBzNeEFY"
      },
      "source": [
        "dfW = df_test[df_test[\"WRank\"] < df_test['LRank']] \n",
        "dfW = dfW.rename(columns={\"WRank\": \"RankP1\", \"LRank\": \"RankP0\",'WPts' : 'PtsP1', 'LPts' :'PtsP0' ,'B365W' : 'B365P1', 'B365L' : 'B365P0', 'CBW' : 'CBP1', 'CBL' : 'CBP0',\n",
        "       'EXW' : 'EXP1','B&WW': 'B&WP1','B&WL': 'B&WP0', 'EXL' : 'EXP0', 'IWW' : 'IWP1', 'IWL' : 'IWP0', 'PSW': 'PSP1', 'PSL':'PSP0', 'UBW' : 'UBP1', 'UBL': 'UBP0', 'LBW':'LBP1', 'LBL':'LBP0',\n",
        "       'SJW' : 'SJP1', 'SJL' : 'SJP0', 'MaxW' : 'MaxP1', 'MaxL' : 'MaxP0', 'AvgW' : 'AvgP1', 'AvgL' : 'AvgP0' , 'SBW':\"SBP1\", 'SBL':'SBP0'})\n"
      ],
      "execution_count": null,
      "outputs": []
    },
    {
      "cell_type": "code",
      "metadata": {
        "id": "zURF5oP6hO4t"
      },
      "source": [
        "dfL = df_test[df_test[\"WRank\"] >= df_test['LRank']] \n",
        "dfL = dfL.rename(columns={\"WRank\": \"RankP0\", \"LRank\": \"RankP1\",'WPts' : 'PtsP0', 'LPts' :'PtsP1' ,'B365W' : 'B365P0', 'B365L' : 'B365P1', 'CBW' : 'CBP0', 'CBL' : 'CBP1',\n",
        "       'EXW' : 'EXP0', 'B&WW': 'B&WP0','B&WL': 'B&WP1','EXL' : 'EXP1', 'IWW' : 'IWP0', 'IWL' : 'IWP1', 'PSW': 'PSP0', 'PSL':'PSP1', 'UBW' : 'UBP0', 'UBL': 'UBP1', 'LBW':'LBP0', 'LBL':'LBP1',\n",
        "       'SJW' : 'SJP0', 'SJL' : 'SJP1', 'MaxW' : 'MaxP0', 'MaxL' : 'MaxP1', 'AvgW' : 'AvgP0', 'AvgL' : 'AvgP1' , 'SBW':\"SBP0\", 'SBL':'SBP1'})"
      ],
      "execution_count": null,
      "outputs": []
    },
    {
      "cell_type": "markdown",
      "metadata": {
        "id": "NGW6Omhqhy1l"
      },
      "source": [
        "### Now combine the 2 dataframes again \n"
      ]
    },
    {
      "cell_type": "code",
      "metadata": {
        "id": "kOtPl66HcnB6"
      },
      "source": [
        "dfc = pd.concat([dfW, dfL], ignore_index=True)\n",
        "df = dfc.sort_values(by=\"Date\")\n",
        "df = df.drop(['Winner','Loser'], axis = 1)"
      ],
      "execution_count": null,
      "outputs": []
    },
    {
      "cell_type": "markdown",
      "metadata": {
        "id": "MtyfpDy1vYhq"
      },
      "source": [
        "## Null Values "
      ]
    },
    {
      "cell_type": "markdown",
      "metadata": {
        "id": "ASMv8BQWAOVm"
      },
      "source": [
        "### Check columns types and delete na"
      ]
    },
    {
      "cell_type": "code",
      "metadata": {
        "id": "Xk8gff7hv6Ti"
      },
      "source": [
        "df_info = get_info_columns(df)"
      ],
      "execution_count": null,
      "outputs": []
    },
    {
      "cell_type": "markdown",
      "metadata": {
        "id": "V_BuyaV6wbtW"
      },
      "source": [
        "### To numeric "
      ]
    },
    {
      "cell_type": "code",
      "metadata": {
        "id": "VpvyxV6Pvu-z"
      },
      "source": [
        "df[\"winner\"] = pd.to_numeric(df[\"winner\"], errors='coerce')\n",
        "df[\"EXP0\"] = pd.to_numeric(df[\"EXP0\"], errors='coerce')\n",
        "df[\"EXP1\"] = pd.to_numeric(df[\"EXP1\"], errors='coerce')"
      ],
      "execution_count": null,
      "outputs": []
    },
    {
      "cell_type": "markdown",
      "metadata": {
        "id": "6WSN0ZNlBTzP"
      },
      "source": [
        "### Fill empty spots\n"
      ]
    },
    {
      "cell_type": "code",
      "metadata": {
        "id": "9BcbaBWh4aXL"
      },
      "source": [
        "df_info=get_info_columns(df,only_empty = True)\n",
        "list_col_empty = df_info.cols\n",
        "for col in list_col_empty:\n",
        "  df.loc[df[col].isna()==True,col] = df.loc[:,col].mean()"
      ],
      "execution_count": null,
      "outputs": []
    },
    {
      "cell_type": "markdown",
      "metadata": {
        "id": "62xOsYO2yY5K"
      },
      "source": [
        "## One Hot encoding"
      ]
    },
    {
      "cell_type": "code",
      "metadata": {
        "id": "xrBewq_-yfEP"
      },
      "source": [
        "cols_to_dumb = ['Series', 'Court', 'Surface', 'Round', 'Comment', 'player0','player1']\n",
        "df_dumb = pd.get_dummies(df, prefix=None, prefix_sep='_', dummy_na=False, columns=cols_to_dumb, drop_first=False, dtype=None)\n",
        "df = df_dumb"
      ],
      "execution_count": null,
      "outputs": []
    },
    {
      "cell_type": "markdown",
      "metadata": {
        "id": "9bGlGe6q-3eT"
      },
      "source": [
        "## some variables could be treated without using one hot encoding in the folowing way : \n",
        "(We ended up using the other option so this part was not used)"
      ]
    },
    {
      "cell_type": "markdown",
      "metadata": {
        "id": "p9yABobS-8mP"
      },
      "source": [
        "### Series \n",
        "\n",
        "1\n",
        "Grand Slam  +2000 pts \n",
        "\n",
        "2\n",
        "Masters Cup  \n",
        "\n",
        "3\n",
        "Masters 1000 +1000pts\n",
        "\n",
        "4\n",
        "Masters         \n",
        "\n",
        "5\n",
        "ATP500 +500pts\n",
        "\n",
        "6\n",
        "ATP250 +250pts \n",
        "\n",
        "7\n",
        "International Gold \n",
        "\n",
        "8\n",
        "International          \n",
        "               \n",
        "                \n",
        "    \n"
      ]
    },
    {
      "cell_type": "code",
      "metadata": {
        "id": "WLLZHjpX-xwU"
      },
      "source": [
        "#df[df['Series'] == 3.3174004235605707]\n",
        "#df = df.drop(32717)"
      ],
      "execution_count": null,
      "outputs": []
    },
    {
      "cell_type": "code",
      "metadata": {
        "id": "hN6aYuTnSK_o"
      },
      "source": [
        "#df['Series'] = df['Series'].where(df['Series'] != 'Grand Slam', 1)\n",
        "#df['Series'] = df['Series'].where(df['Series'] != 'Masters Cup', 2)\n",
        "#df['Series'] = df['Series'].where(df['Series'] != 'Masters 1000', 3)\n",
        "#df['Series'] = df['Series'].where(df['Series'] != 'Masters', 4)\n",
        "#df['Series'] = df['Series'].where(df['Series'] != 'ATP500', 5)\n",
        "#df['Series'] = df['Series'].where(df['Series'] != 'ATP250', 6)\n",
        "#df['Series'] = df['Series'].where(df['Series'] != 'International Gold', 7)\n",
        "#df['Series'] = df['Series'].where(df['Series'] != 'International', 8)"
      ],
      "execution_count": null,
      "outputs": []
    },
    {
      "cell_type": "code",
      "metadata": {
        "id": "kPBU3qeuOh-D"
      },
      "source": [
        "#df['Series'] = pd.to_numeric(df['Series'], errors='coerce', downcast='integer') "
      ],
      "execution_count": null,
      "outputs": []
    },
    {
      "cell_type": "markdown",
      "metadata": {
        "id": "GPSuOSUDQMoz"
      },
      "source": [
        "### Round"
      ]
    },
    {
      "cell_type": "code",
      "metadata": {
        "id": "2XHdriQGZQd3"
      },
      "source": [
        "#df['Round'] = df['Round'].where(df['Round'] != 'Round Robin', 0)\n",
        "#df['Round'] = df['Round'].where(df['Round'] != 'The Final', 1)\n",
        "#df['Round'] = df['Round'].where(df['Round'] != 'Quarterfinals', 3)\n",
        "#df['Round'] = df['Round'].where(df['Round'] != '4th Round', 4)\n",
        "#df['Round'] = df['Round'].where(df['Round'] != '3rd Round', 5)\n",
        "#df['Round'] = df['Round'].where(df['Round'] != '2nd Round', 6)\n",
        "#df['Round'] = df['Round'].where(df['Round'] != '1st Round', 7)\n",
        "#df['Round'] = df['Round'].where(df['Round'] != 'other', 8)"
      ],
      "execution_count": null,
      "outputs": []
    },
    {
      "cell_type": "code",
      "metadata": {
        "id": "XtJ1oJ2zuX4D"
      },
      "source": [
        "#df = df_Round"
      ],
      "execution_count": null,
      "outputs": []
    },
    {
      "cell_type": "markdown",
      "metadata": {
        "id": "0svpP1gJeGv3"
      },
      "source": [
        "## Treatment for the dates \n",
        "\n",
        "We divide the date which was in the format day-month-year in three columns and make them numeric. \n",
        "\n",
        "\n",
        "\n"
      ]
    },
    {
      "cell_type": "code",
      "metadata": {
        "id": "8S2VWppXBdM9"
      },
      "source": [
        "df['Annee'] = df['Date'].astype(str).str[2:4]\n",
        "df['Mois'] = df['Date'].astype(str).str[6:7]\n",
        "df['Jour'] = df['Date'].astype(str).str[8:10]"
      ],
      "execution_count": null,
      "outputs": []
    },
    {
      "cell_type": "code",
      "metadata": {
        "id": "mMaflsnChL1P"
      },
      "source": [
        "df[\"Annee\"] = pd.to_numeric(df[\"Annee\"], errors='coerce')\n",
        "df[\"Mois\"] = pd.to_numeric(df[\"Mois\"], errors='coerce')\n",
        "df[\"Jour\"] = pd.to_numeric(df[\"Jour\"], errors='coerce')"
      ],
      "execution_count": null,
      "outputs": []
    },
    {
      "cell_type": "code",
      "metadata": {
        "id": "3TOEzoMKhc1l"
      },
      "source": [
        "df = df.drop(['Date'], axis = 1)"
      ],
      "execution_count": null,
      "outputs": []
    },
    {
      "cell_type": "markdown",
      "metadata": {
        "id": "s_xb26zfa-u9"
      },
      "source": [
        "##Write dataframe in csv file "
      ]
    },
    {
      "cell_type": "code",
      "metadata": {
        "id": "sVkZtmkCa9B8"
      },
      "source": [
        "df.to_csv('final_data.csv', index=False)  "
      ],
      "execution_count": null,
      "outputs": []
    }
  ]
}